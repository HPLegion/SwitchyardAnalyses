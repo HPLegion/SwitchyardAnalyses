{
 "cells": [
  {
   "cell_type": "markdown",
   "metadata": {},
   "source": [
    "# Evalutation of the starting plane\n",
    "\n",
    "extract the emittances for all offsets and safe in a csv"
   ]
  },
  {
   "cell_type": "code",
   "execution_count": 1,
   "metadata": {},
   "outputs": [],
   "source": [
    "import os\n",
    "import numpy as np\n",
    "import pandas as pd\n",
    "import altair as alt\n",
    "alt.enable_mime_rendering()\n",
    "import scipy.constants\n",
    "\n",
    "import PhaseSpaceEval.monitor_quantities as monq\n",
    "from PhaseSpaceEval.import_particle_data import *\n",
    "from PhaseSpaceEval.trajectory import Trajectory\n",
    "from PhaseSpaceEval.particlemonitor import ParticleMonitor"
   ]
  },
  {
   "cell_type": "markdown",
   "metadata": {},
   "source": [
    "## Import Raw Data and set filename *!!! ADJUST FILENAMES HERE !!!*"
   ]
  },
  {
   "cell_type": "code",
   "execution_count": 2,
   "metadata": {},
   "outputs": [],
   "source": [
    "MODELNAME = \"startingplane\"\n",
    "RAW_PATH = \"rawdata_\" + MODELNAME + \"/\"\n",
    "EMIT_FILENAME = \"emit_\" + MODELNAME + \".csv\" # Name for the emittance output file\n",
    "\n",
    "particle_source_names = import_source_names(RAW_PATH + MODELNAME + \"-source_names.txt\")\n",
    "particle_constants = import_particle_constants(RAW_PATH + MODELNAME + \"-constants.txt\")\n",
    "particle_trajectories = import_particle_trajectories(RAW_PATH + MODELNAME + \"-trajectories.txt\")"
   ]
  },
  {
   "cell_type": "markdown",
   "metadata": {},
   "source": [
    "## Create convenient lists\n",
    "### Raw Data"
   ]
  },
  {
   "cell_type": "code",
   "execution_count": 3,
   "metadata": {},
   "outputs": [],
   "source": [
    "# Delete the single_centre source, not required\n",
    "for key in particle_source_names.keys():\n",
    "    if particle_source_names[key] == \"single_centre\":\n",
    "        del(particle_source_names[key])\n",
    "        break\n",
    "        \n",
    "# Generate simple list with all source IDs\n",
    "sourceIDs = list(particle_source_names.keys())\n",
    "#print(sourceIDs)\n",
    "\n",
    "# Create lists with all particles belonging to a source and with the id of the central particles\n",
    "particlesBySrc = dict() # dict for all particleIDs\n",
    "centresBySrc = dict() # dict with the ids of the central particles\n",
    "for sID in sourceIDs:\n",
    "    pIDs = particle_constants[\"particleID\"].loc[particle_constants[\"sourceID\"] == sID].tolist()\n",
    "    particlesBySrc.update({sID : pIDs})\n",
    "    centresBySrc.update({sID : min(pIDs)}) # the smallest pID for each source is the centre\n",
    "#print(particlesBySrc)\n",
    "#print(centresBySrc)"
   ]
  },
  {
   "cell_type": "markdown",
   "metadata": {},
   "source": [
    "### Trajectories"
   ]
  },
  {
   "cell_type": "code",
   "execution_count": 4,
   "metadata": {},
   "outputs": [
    {
     "name": "stdout",
     "output_type": "stream",
     "text": [
      "[]\n"
     ]
    }
   ],
   "source": [
    "# Create Trajectories\n",
    "trajsBySrc = dict() # Dict for all trajectories\n",
    "ctrajsBySrc = dict() # Dict for central trajectories\n",
    "lostParticles = list()\n",
    "for sID in sourceIDs:\n",
    "    # Compute central trajectory for each sID\n",
    "    cID = centresBySrc[sID]\n",
    "    ctr = Trajectory(particle_trajectories[cID],\n",
    "                     particle_constants.loc[particle_constants[\"particleID\"] == cID].squeeze())\n",
    "    ctrajsBySrc.update({sID : ctr})\n",
    "\n",
    "    # For each sID compute the trajectories of all pIDs\n",
    "    # Note Particles that cannot be found in trajectory dataframe, these were lost\n",
    "    pIDs = particlesBySrc[sID]\n",
    "    trajs = list()\n",
    "    for pID in pIDs:\n",
    "        try:\n",
    "            tr = Trajectory(particle_trajectories[pID],\n",
    "                            particle_constants.loc[particle_constants[\"particleID\"] == pID].squeeze())\n",
    "        except KeyError:\n",
    "            lostParticles.append(pID)\n",
    "        trajs.append(tr)\n",
    "    trajsBySrc.update({sID : trajs})\n",
    "print(lostParticles)"
   ]
  },
  {
   "cell_type": "markdown",
   "metadata": {},
   "source": [
    "### Monitors"
   ]
  },
  {
   "cell_type": "code",
   "execution_count": 5,
   "metadata": {},
   "outputs": [],
   "source": [
    "# Create Monitors\n",
    "monBySrc = dict()\n",
    "for sID in sourceIDs:\n",
    "    ctr = ctrajsBySrc[sID]\n",
    "    mon = ParticleMonitor(time0=0, trajectory=ctr)\n",
    "    monBySrc.update({sID : mon})"
   ]
  },
  {
   "cell_type": "markdown",
   "metadata": {},
   "source": [
    "## Record Monitor Interactions"
   ]
  },
  {
   "cell_type": "code",
   "execution_count": 6,
   "metadata": {},
   "outputs": [],
   "source": [
    "# Record Monitor Interactions\n",
    "for sID in sourceIDs:\n",
    "    mon = monBySrc[sID]\n",
    "    mon.reset_events()\n",
    "    mon.reset_misses()\n",
    "    for tr in trajsBySrc[sID]:\n",
    "        mon.record_intersect(tr)\n",
    "\n",
    "# Read Out misses and events\n",
    "missesBySrc = dict()\n",
    "eventsBySrc = dict()\n",
    "for sID in sourceIDs:\n",
    "    missesBySrc.update({sID : monBySrc[sID].get_misses()})\n",
    "    eventsBySrc.update({sID : monBySrc[sID].get_events()})\n",
    "#print(missesBySrc)\n",
    "\n",
    "# Add lost particles to miss counter\n",
    "for pID in lostParticles:\n",
    "    for sID in sourceIDs:\n",
    "        if pID in particlesBySrc[sID]:\n",
    "            missesBySrc[sID] += 1\n",
    "#print(missesBySrc)"
   ]
  },
  {
   "cell_type": "markdown",
   "metadata": {},
   "source": [
    "## Compute and save emittances"
   ]
  },
  {
   "cell_type": "code",
   "execution_count": 7,
   "metadata": {},
   "outputs": [],
   "source": [
    "# Compute and save emittances\n",
    "colnames = [\"sourceID\", \"sourceName\", \"x_offset\", \"y_offset\", \"x_emittance\", \"y_emittance\", \"x_norm_emittance\", \"y_norm_emittance\", \"losses\", \"relbeta\"]\n",
    "emit_df = pd.DataFrame(columns=colnames)\n",
    "emit_temp = pd.DataFrame([np.zeros(len(colnames))], columns=colnames)\n",
    "for sID in sourceIDs:\n",
    "    name = particle_source_names[sID]\n",
    "    xoff = float(name.split('_')[1])\n",
    "    yoff = float(name.split('_')[3])\n",
    "    xemit = monq.emittance_u(eventsBySrc[sID])\n",
    "    yemit = monq.emittance_v(eventsBySrc[sID])\n",
    "    # Compute rel. beta for the screen 1e6 mm/ns ->m/s\n",
    "    beta = monBySrc[sID].abs_vel / scipy.constants.speed_of_light * 1e6\n",
    "    xemit_n = beta * (1 - beta**2)**(-0.5) * xemit # beta * gamme * emit\n",
    "    yemit_n = beta * (1 - beta**2)**(-0.5) * yemit\n",
    "    losses = missesBySrc[sID]\n",
    "    \n",
    "    emit_temp[\"sourceID\"] = sID\n",
    "    emit_temp[\"sourceName\"] = name\n",
    "    emit_temp[\"x_offset\"] = xoff\n",
    "    emit_temp[\"y_offset\"] = yoff\n",
    "    emit_temp[\"x_emittance\"] = xemit\n",
    "    emit_temp[\"y_emittance\"] = yemit\n",
    "    emit_temp[\"x_norm_emittance\"] = xemit_n\n",
    "    emit_temp[\"y_norm_emittance\"] = yemit_n\n",
    "    emit_temp[\"losses\"] = losses\n",
    "    emit_temp[\"relbeta\"] = beta\n",
    "\n",
    "    emit_df = emit_df.append(emit_temp, ignore_index=True)\n",
    "\n",
    "emit_df.sort_values([\"x_offset\", \"y_offset\"], inplace=True)\n",
    "emit_df.reset_index(inplace=True, drop=True)\n",
    "emit_df.to_csv(EMIT_FILENAME)"
   ]
  },
  {
   "cell_type": "code",
   "execution_count": 8,
   "metadata": {},
   "outputs": [
    {
     "data": {
      "application/vnd.vegalite.v1+json": {
       "$schema": "https://vega.github.io/schema/vega-lite/v1.2.1.json",
       "data": {
        "values": [
         {
          "losses": 0,
          "relbeta": 0.0023084437504471626,
          "sourceID": 16777222,
          "sourceName": "x_-15_y_0",
          "x_emittance": 1.6211339026636669,
          "x_norm_emittance": 0.0037423063974670067,
          "x_offset": -15,
          "y_emittance": 1.5722557288411707,
          "y_norm_emittance": 0.0036294735819346912,
          "y_offset": 0
         },
         {
          "losses": 0,
          "relbeta": 0.0023084437504471626,
          "sourceID": 16777229,
          "sourceName": "x_-15_y_5",
          "x_emittance": 1.5930722967463533,
          "x_norm_emittance": 0.0036775275860591325,
          "x_offset": -15,
          "y_emittance": 1.5936805505339835,
          "y_norm_emittance": 0.0036789317094551035,
          "y_offset": 5
         },
         {
          "losses": 0,
          "relbeta": 0.0023084437500814113,
          "sourceID": 16777236,
          "sourceName": "x_-15_y_10",
          "x_emittance": 1.6171115007893644,
          "x_norm_emittance": 0.003733020883666144,
          "x_offset": -15,
          "y_emittance": 1.5966845407662633,
          "y_norm_emittance": 0.003685866269826079,
          "y_offset": 10
         },
         {
          "losses": 0,
          "relbeta": 0.0023084437500814113,
          "sourceID": 16777243,
          "sourceName": "x_-15_y_15",
          "x_emittance": 1.6711831500647245,
          "x_norm_emittance": 0.00385784257707483,
          "x_offset": -15,
          "y_emittance": 1.661878450694733,
          "y_norm_emittance": 0.0038363631447367024,
          "y_offset": 15
         },
         {
          "losses": 0,
          "relbeta": 0.0023084437500814113,
          "sourceID": 16777220,
          "sourceName": "x_-10_y_0",
          "x_emittance": 1.5921270294792969,
          "x_norm_emittance": 0.003675345483347543,
          "x_offset": -10,
          "y_emittance": 1.5526067876197875,
          "y_norm_emittance": 0.0035841149849452554,
          "y_offset": 0
         },
         {
          "losses": 0,
          "relbeta": 0.0023084437500814113,
          "sourceID": 16777227,
          "sourceName": "x_-10_y_5",
          "x_emittance": 1.6129855486657403,
          "x_norm_emittance": 0.0037234963298954375,
          "x_offset": -10,
          "y_emittance": 1.5800485170985448,
          "y_norm_emittance": 0.003647462842639739,
          "y_offset": 5
         },
         {
          "losses": 0,
          "relbeta": 0.0023084437498375773,
          "sourceID": 16777234,
          "sourceName": "x_-10_y_10",
          "x_emittance": 1.4866644533740214,
          "x_norm_emittance": 0.003431890409631071,
          "x_offset": -10,
          "y_emittance": 1.6651872813174455,
          "y_norm_emittance": 0.0038440014140536114,
          "y_offset": 10
         },
         {
          "losses": 0,
          "relbeta": 0.0023084437498375773,
          "sourceID": 16777241,
          "sourceName": "x_-10_y_15",
          "x_emittance": 1.4498442477355953,
          "x_norm_emittance": 0.0033468928095846213,
          "x_offset": -10,
          "y_emittance": 1.6342828376100307,
          "y_norm_emittance": 0.003772660054048835,
          "y_offset": 15
         },
         {
          "losses": 0,
          "relbeta": 0.002308443749593743,
          "sourceID": 16777218,
          "sourceName": "x_-5_y_0",
          "x_emittance": 1.6763572809440714,
          "x_norm_emittance": 0.003869786798172748,
          "x_offset": -5,
          "y_emittance": 1.7175776831090792,
          "y_norm_emittance": 0.003964942031443596,
          "y_offset": 0
         },
         {
          "losses": 0,
          "relbeta": 0.002308443749593743,
          "sourceID": 16777225,
          "sourceName": "x_-5_y_5",
          "x_emittance": 1.5234240450273882,
          "x_norm_emittance": 0.003516748084958268,
          "x_offset": -5,
          "y_emittance": 1.6256876542100653,
          "y_norm_emittance": 0.0037528185033870614,
          "y_offset": 5
         },
         {
          "losses": 0,
          "relbeta": 0.002308443749593743,
          "sourceID": 16777232,
          "sourceName": "x_-5_y_10",
          "x_emittance": 1.5114114654686994,
          "x_norm_emittance": 0.0034890176468728774,
          "x_offset": -5,
          "y_emittance": 1.545287971840279,
          "y_norm_emittance": 0.00356721986463109,
          "y_offset": 10
         },
         {
          "losses": 0,
          "relbeta": 0.002308443749593743,
          "sourceID": 16777239,
          "sourceName": "x_-5_y_15",
          "x_emittance": 1.691703739457434,
          "x_norm_emittance": 0.003905213328798887,
          "x_offset": -5,
          "y_emittance": 1.5047862662508695,
          "y_norm_emittance": 0.003473723706398575,
          "y_offset": 15
         },
         {
          "losses": 0,
          "relbeta": 0.002308443749227992,
          "sourceID": 16777216,
          "sourceName": "x_0_y_0",
          "x_emittance": 1.5400088252594202,
          "x_norm_emittance": 0.003555033218669226,
          "x_offset": 0,
          "y_emittance": 1.536569628899832,
          "y_norm_emittance": 0.0035470940061768544,
          "y_offset": 0
         },
         {
          "losses": 0,
          "relbeta": 0.002308443749227992,
          "sourceID": 16777223,
          "sourceName": "x_0_y_5",
          "x_emittance": 1.5405008652202978,
          "x_norm_emittance": 0.00355616906826771,
          "x_offset": 0,
          "y_emittance": 1.535055785435774,
          "y_norm_emittance": 0.003543599374383634,
          "y_offset": 5
         },
         {
          "losses": 0,
          "relbeta": 0.002308443749227992,
          "sourceID": 16777230,
          "sourceName": "x_0_y_10",
          "x_emittance": 1.4029317500912046,
          "x_norm_emittance": 0.0032385976582048662,
          "x_offset": 0,
          "y_emittance": 1.475310496546824,
          "y_norm_emittance": 0.0034056803682224663,
          "y_offset": 10
         },
         {
          "losses": 0,
          "relbeta": 0.002308443749227992,
          "sourceID": 16777237,
          "sourceName": "x_0_y_15",
          "x_emittance": 1.7681464976842474,
          "x_norm_emittance": 0.004081677605764551,
          "x_offset": 0,
          "y_emittance": 1.6124257778342137,
          "y_norm_emittance": 0.003722204125598813,
          "y_offset": 15
         },
         {
          "losses": 0,
          "relbeta": 0.0023084437489841575,
          "sourceID": 16777217,
          "sourceName": "x_5_y_0",
          "x_emittance": 1.5497410363754873,
          "x_norm_emittance": 0.0035774995400690074,
          "x_offset": 5,
          "y_emittance": 1.6742855948203792,
          "y_norm_emittance": 0.0038650044135262935,
          "y_offset": 0
         },
         {
          "losses": 0,
          "relbeta": 0.0023084437489841575,
          "sourceID": 16777224,
          "sourceName": "x_5_y_5",
          "x_emittance": 1.6022318447709376,
          "x_norm_emittance": 0.0036986719414476045,
          "x_offset": 5,
          "y_emittance": 1.473530146671723,
          "y_norm_emittance": 0.003401570519372024,
          "y_offset": 5
         },
         {
          "losses": 0,
          "relbeta": 0.0023084437489841575,
          "sourceID": 16777231,
          "sourceName": "x_5_y_10",
          "x_emittance": 1.4625630790990105,
          "x_norm_emittance": 0.0033762535933331774,
          "x_offset": 5,
          "y_emittance": 1.593734104000669,
          "y_norm_emittance": 0.003679055332618324,
          "y_offset": 10
         },
         {
          "losses": 0,
          "relbeta": 0.0023084437489841575,
          "sourceID": 16777238,
          "sourceName": "x_5_y_15",
          "x_emittance": 1.5983409713621919,
          "x_norm_emittance": 0.0036896900551172214,
          "x_offset": 5,
          "y_emittance": 1.5741009474016714,
          "y_norm_emittance": 0.0036337331742354708,
          "y_offset": 15
         },
         {
          "losses": 0,
          "relbeta": 0.002308443748740324,
          "sourceID": 16777219,
          "sourceName": "x_10_y_0",
          "x_emittance": 1.5192525551148648,
          "x_norm_emittance": 0.003507118408188757,
          "x_offset": 10,
          "y_emittance": 1.5991082328845616,
          "y_norm_emittance": 0.0036914612395117026,
          "y_offset": 0
         },
         {
          "losses": 0,
          "relbeta": 0.002308443748740324,
          "sourceID": 16777226,
          "sourceName": "x_10_y_5",
          "x_emittance": 1.4475396436371484,
          "x_norm_emittance": 0.0033415727448942866,
          "x_offset": 10,
          "y_emittance": 1.5066074353922434,
          "y_norm_emittance": 0.0034779277828357507,
          "y_offset": 5
         },
         {
          "losses": 0,
          "relbeta": 0.002308443748740324,
          "sourceID": 16777233,
          "sourceName": "x_10_y_10",
          "x_emittance": 1.7428902607298826,
          "x_norm_emittance": 0.004023374847242913,
          "x_offset": 10,
          "y_emittance": 1.6125882031054153,
          "y_norm_emittance": 0.0037225790754134617,
          "y_offset": 10
         },
         {
          "losses": 0,
          "relbeta": 0.002308443748740324,
          "sourceID": 16777240,
          "sourceName": "x_10_y_15",
          "x_emittance": 1.5728821081311055,
          "x_norm_emittance": 0.0036309195444599895,
          "x_offset": 10,
          "y_emittance": 1.511336499652831,
          "y_norm_emittance": 0.003488844590752891,
          "y_offset": 15
         },
         {
          "losses": 0,
          "relbeta": 0.0023084437483745722,
          "sourceID": 16777221,
          "sourceName": "x_15_y_0",
          "x_emittance": 1.4985265877888942,
          "x_norm_emittance": 0.0034592735504497324,
          "x_offset": 15,
          "y_emittance": 1.578140801046274,
          "y_norm_emittance": 0.0036430589730143646,
          "y_offset": 0
         },
         {
          "losses": 0,
          "relbeta": 0.0023084437483745722,
          "sourceID": 16777228,
          "sourceName": "x_15_y_5",
          "x_emittance": 1.5718333931695825,
          "x_norm_emittance": 0.0036284986379375396,
          "x_offset": 15,
          "y_emittance": 1.485551311419038,
          "y_norm_emittance": 0.0034293207750223384,
          "y_offset": 5
         },
         {
          "losses": 0,
          "relbeta": 0.0023084437483745722,
          "sourceID": 16777235,
          "sourceName": "x_15_y_10",
          "x_emittance": 1.6227412924855804,
          "x_norm_emittance": 0.003746016972979319,
          "x_offset": 15,
          "y_emittance": 1.6157420773671967,
          "y_norm_emittance": 0.0037298596355451806,
          "y_offset": 10
         },
         {
          "losses": 0,
          "relbeta": 0.0023084437483745722,
          "sourceID": 16777242,
          "sourceName": "x_15_y_15",
          "x_emittance": 1.5148943726189406,
          "x_norm_emittance": 0.0034970577616899056,
          "x_offset": 15,
          "y_emittance": 1.5875880851551873,
          "y_norm_emittance": 0.0036648675550627944,
          "y_offset": 15
         }
        ]
       },
       "encoding": {
        "color": {
         "field": "y_offset",
         "type": "nominal"
        },
        "x": {
         "field": "x_offset",
         "type": "quantitative"
        },
        "y": {
         "field": "x_emittance",
         "type": "quantitative"
        }
       },
       "mark": "line"
      },
      "text/plain": [
       "<altair.VegaLite object>"
      ]
     },
     "execution_count": 8,
     "metadata": {},
     "output_type": "execute_result"
    }
   ],
   "source": [
    "alt.Chart(emit_df).mark_line().encode(\n",
    "    color='y_offset:N',\n",
    "    x='x_offset',\n",
    "    y='x_emittance',\n",
    ")"
   ]
  },
  {
   "cell_type": "code",
   "execution_count": 9,
   "metadata": {},
   "outputs": [
    {
     "data": {
      "application/vnd.vegalite.v1+json": {
       "$schema": "https://vega.github.io/schema/vega-lite/v1.2.1.json",
       "data": {
        "values": [
         {
          "losses": 0,
          "relbeta": 0.0023084437504471626,
          "sourceID": 16777222,
          "sourceName": "x_-15_y_0",
          "x_emittance": 1.6211339026636669,
          "x_norm_emittance": 0.0037423063974670067,
          "x_offset": -15,
          "y_emittance": 1.5722557288411707,
          "y_norm_emittance": 0.0036294735819346912,
          "y_offset": 0
         },
         {
          "losses": 0,
          "relbeta": 0.0023084437504471626,
          "sourceID": 16777229,
          "sourceName": "x_-15_y_5",
          "x_emittance": 1.5930722967463533,
          "x_norm_emittance": 0.0036775275860591325,
          "x_offset": -15,
          "y_emittance": 1.5936805505339835,
          "y_norm_emittance": 0.0036789317094551035,
          "y_offset": 5
         },
         {
          "losses": 0,
          "relbeta": 0.0023084437500814113,
          "sourceID": 16777236,
          "sourceName": "x_-15_y_10",
          "x_emittance": 1.6171115007893644,
          "x_norm_emittance": 0.003733020883666144,
          "x_offset": -15,
          "y_emittance": 1.5966845407662633,
          "y_norm_emittance": 0.003685866269826079,
          "y_offset": 10
         },
         {
          "losses": 0,
          "relbeta": 0.0023084437500814113,
          "sourceID": 16777243,
          "sourceName": "x_-15_y_15",
          "x_emittance": 1.6711831500647245,
          "x_norm_emittance": 0.00385784257707483,
          "x_offset": -15,
          "y_emittance": 1.661878450694733,
          "y_norm_emittance": 0.0038363631447367024,
          "y_offset": 15
         },
         {
          "losses": 0,
          "relbeta": 0.0023084437500814113,
          "sourceID": 16777220,
          "sourceName": "x_-10_y_0",
          "x_emittance": 1.5921270294792969,
          "x_norm_emittance": 0.003675345483347543,
          "x_offset": -10,
          "y_emittance": 1.5526067876197875,
          "y_norm_emittance": 0.0035841149849452554,
          "y_offset": 0
         },
         {
          "losses": 0,
          "relbeta": 0.0023084437500814113,
          "sourceID": 16777227,
          "sourceName": "x_-10_y_5",
          "x_emittance": 1.6129855486657403,
          "x_norm_emittance": 0.0037234963298954375,
          "x_offset": -10,
          "y_emittance": 1.5800485170985448,
          "y_norm_emittance": 0.003647462842639739,
          "y_offset": 5
         },
         {
          "losses": 0,
          "relbeta": 0.0023084437498375773,
          "sourceID": 16777234,
          "sourceName": "x_-10_y_10",
          "x_emittance": 1.4866644533740214,
          "x_norm_emittance": 0.003431890409631071,
          "x_offset": -10,
          "y_emittance": 1.6651872813174455,
          "y_norm_emittance": 0.0038440014140536114,
          "y_offset": 10
         },
         {
          "losses": 0,
          "relbeta": 0.0023084437498375773,
          "sourceID": 16777241,
          "sourceName": "x_-10_y_15",
          "x_emittance": 1.4498442477355953,
          "x_norm_emittance": 0.0033468928095846213,
          "x_offset": -10,
          "y_emittance": 1.6342828376100307,
          "y_norm_emittance": 0.003772660054048835,
          "y_offset": 15
         },
         {
          "losses": 0,
          "relbeta": 0.002308443749593743,
          "sourceID": 16777218,
          "sourceName": "x_-5_y_0",
          "x_emittance": 1.6763572809440714,
          "x_norm_emittance": 0.003869786798172748,
          "x_offset": -5,
          "y_emittance": 1.7175776831090792,
          "y_norm_emittance": 0.003964942031443596,
          "y_offset": 0
         },
         {
          "losses": 0,
          "relbeta": 0.002308443749593743,
          "sourceID": 16777225,
          "sourceName": "x_-5_y_5",
          "x_emittance": 1.5234240450273882,
          "x_norm_emittance": 0.003516748084958268,
          "x_offset": -5,
          "y_emittance": 1.6256876542100653,
          "y_norm_emittance": 0.0037528185033870614,
          "y_offset": 5
         },
         {
          "losses": 0,
          "relbeta": 0.002308443749593743,
          "sourceID": 16777232,
          "sourceName": "x_-5_y_10",
          "x_emittance": 1.5114114654686994,
          "x_norm_emittance": 0.0034890176468728774,
          "x_offset": -5,
          "y_emittance": 1.545287971840279,
          "y_norm_emittance": 0.00356721986463109,
          "y_offset": 10
         },
         {
          "losses": 0,
          "relbeta": 0.002308443749593743,
          "sourceID": 16777239,
          "sourceName": "x_-5_y_15",
          "x_emittance": 1.691703739457434,
          "x_norm_emittance": 0.003905213328798887,
          "x_offset": -5,
          "y_emittance": 1.5047862662508695,
          "y_norm_emittance": 0.003473723706398575,
          "y_offset": 15
         },
         {
          "losses": 0,
          "relbeta": 0.002308443749227992,
          "sourceID": 16777216,
          "sourceName": "x_0_y_0",
          "x_emittance": 1.5400088252594202,
          "x_norm_emittance": 0.003555033218669226,
          "x_offset": 0,
          "y_emittance": 1.536569628899832,
          "y_norm_emittance": 0.0035470940061768544,
          "y_offset": 0
         },
         {
          "losses": 0,
          "relbeta": 0.002308443749227992,
          "sourceID": 16777223,
          "sourceName": "x_0_y_5",
          "x_emittance": 1.5405008652202978,
          "x_norm_emittance": 0.00355616906826771,
          "x_offset": 0,
          "y_emittance": 1.535055785435774,
          "y_norm_emittance": 0.003543599374383634,
          "y_offset": 5
         },
         {
          "losses": 0,
          "relbeta": 0.002308443749227992,
          "sourceID": 16777230,
          "sourceName": "x_0_y_10",
          "x_emittance": 1.4029317500912046,
          "x_norm_emittance": 0.0032385976582048662,
          "x_offset": 0,
          "y_emittance": 1.475310496546824,
          "y_norm_emittance": 0.0034056803682224663,
          "y_offset": 10
         },
         {
          "losses": 0,
          "relbeta": 0.002308443749227992,
          "sourceID": 16777237,
          "sourceName": "x_0_y_15",
          "x_emittance": 1.7681464976842474,
          "x_norm_emittance": 0.004081677605764551,
          "x_offset": 0,
          "y_emittance": 1.6124257778342137,
          "y_norm_emittance": 0.003722204125598813,
          "y_offset": 15
         },
         {
          "losses": 0,
          "relbeta": 0.0023084437489841575,
          "sourceID": 16777217,
          "sourceName": "x_5_y_0",
          "x_emittance": 1.5497410363754873,
          "x_norm_emittance": 0.0035774995400690074,
          "x_offset": 5,
          "y_emittance": 1.6742855948203792,
          "y_norm_emittance": 0.0038650044135262935,
          "y_offset": 0
         },
         {
          "losses": 0,
          "relbeta": 0.0023084437489841575,
          "sourceID": 16777224,
          "sourceName": "x_5_y_5",
          "x_emittance": 1.6022318447709376,
          "x_norm_emittance": 0.0036986719414476045,
          "x_offset": 5,
          "y_emittance": 1.473530146671723,
          "y_norm_emittance": 0.003401570519372024,
          "y_offset": 5
         },
         {
          "losses": 0,
          "relbeta": 0.0023084437489841575,
          "sourceID": 16777231,
          "sourceName": "x_5_y_10",
          "x_emittance": 1.4625630790990105,
          "x_norm_emittance": 0.0033762535933331774,
          "x_offset": 5,
          "y_emittance": 1.593734104000669,
          "y_norm_emittance": 0.003679055332618324,
          "y_offset": 10
         },
         {
          "losses": 0,
          "relbeta": 0.0023084437489841575,
          "sourceID": 16777238,
          "sourceName": "x_5_y_15",
          "x_emittance": 1.5983409713621919,
          "x_norm_emittance": 0.0036896900551172214,
          "x_offset": 5,
          "y_emittance": 1.5741009474016714,
          "y_norm_emittance": 0.0036337331742354708,
          "y_offset": 15
         },
         {
          "losses": 0,
          "relbeta": 0.002308443748740324,
          "sourceID": 16777219,
          "sourceName": "x_10_y_0",
          "x_emittance": 1.5192525551148648,
          "x_norm_emittance": 0.003507118408188757,
          "x_offset": 10,
          "y_emittance": 1.5991082328845616,
          "y_norm_emittance": 0.0036914612395117026,
          "y_offset": 0
         },
         {
          "losses": 0,
          "relbeta": 0.002308443748740324,
          "sourceID": 16777226,
          "sourceName": "x_10_y_5",
          "x_emittance": 1.4475396436371484,
          "x_norm_emittance": 0.0033415727448942866,
          "x_offset": 10,
          "y_emittance": 1.5066074353922434,
          "y_norm_emittance": 0.0034779277828357507,
          "y_offset": 5
         },
         {
          "losses": 0,
          "relbeta": 0.002308443748740324,
          "sourceID": 16777233,
          "sourceName": "x_10_y_10",
          "x_emittance": 1.7428902607298826,
          "x_norm_emittance": 0.004023374847242913,
          "x_offset": 10,
          "y_emittance": 1.6125882031054153,
          "y_norm_emittance": 0.0037225790754134617,
          "y_offset": 10
         },
         {
          "losses": 0,
          "relbeta": 0.002308443748740324,
          "sourceID": 16777240,
          "sourceName": "x_10_y_15",
          "x_emittance": 1.5728821081311055,
          "x_norm_emittance": 0.0036309195444599895,
          "x_offset": 10,
          "y_emittance": 1.511336499652831,
          "y_norm_emittance": 0.003488844590752891,
          "y_offset": 15
         },
         {
          "losses": 0,
          "relbeta": 0.0023084437483745722,
          "sourceID": 16777221,
          "sourceName": "x_15_y_0",
          "x_emittance": 1.4985265877888942,
          "x_norm_emittance": 0.0034592735504497324,
          "x_offset": 15,
          "y_emittance": 1.578140801046274,
          "y_norm_emittance": 0.0036430589730143646,
          "y_offset": 0
         },
         {
          "losses": 0,
          "relbeta": 0.0023084437483745722,
          "sourceID": 16777228,
          "sourceName": "x_15_y_5",
          "x_emittance": 1.5718333931695825,
          "x_norm_emittance": 0.0036284986379375396,
          "x_offset": 15,
          "y_emittance": 1.485551311419038,
          "y_norm_emittance": 0.0034293207750223384,
          "y_offset": 5
         },
         {
          "losses": 0,
          "relbeta": 0.0023084437483745722,
          "sourceID": 16777235,
          "sourceName": "x_15_y_10",
          "x_emittance": 1.6227412924855804,
          "x_norm_emittance": 0.003746016972979319,
          "x_offset": 15,
          "y_emittance": 1.6157420773671967,
          "y_norm_emittance": 0.0037298596355451806,
          "y_offset": 10
         },
         {
          "losses": 0,
          "relbeta": 0.0023084437483745722,
          "sourceID": 16777242,
          "sourceName": "x_15_y_15",
          "x_emittance": 1.5148943726189406,
          "x_norm_emittance": 0.0034970577616899056,
          "x_offset": 15,
          "y_emittance": 1.5875880851551873,
          "y_norm_emittance": 0.0036648675550627944,
          "y_offset": 15
         }
        ]
       },
       "encoding": {
        "color": {
         "field": "y_offset",
         "type": "nominal"
        },
        "x": {
         "field": "x_offset",
         "type": "quantitative"
        },
        "y": {
         "field": "y_emittance",
         "type": "quantitative"
        }
       },
       "mark": "line"
      },
      "text/plain": [
       "<altair.VegaLite object>"
      ]
     },
     "execution_count": 9,
     "metadata": {},
     "output_type": "execute_result"
    }
   ],
   "source": [
    "alt.Chart(emit_df).mark_line().encode(\n",
    "    color='y_offset:N',\n",
    "    x='x_offset',\n",
    "    y='y_emittance',\n",
    ")"
   ]
  },
  {
   "cell_type": "code",
   "execution_count": null,
   "metadata": {},
   "outputs": [],
   "source": []
  }
 ],
 "metadata": {
  "kernelspec": {
   "display_name": "Python 3",
   "language": "python",
   "name": "python3"
  },
  "language_info": {
   "codemirror_mode": {
    "name": "ipython",
    "version": 3
   },
   "file_extension": ".py",
   "mimetype": "text/x-python",
   "name": "python",
   "nbconvert_exporter": "python",
   "pygments_lexer": "ipython3",
   "version": "3.6.3"
  }
 },
 "nbformat": 4,
 "nbformat_minor": 2
}
