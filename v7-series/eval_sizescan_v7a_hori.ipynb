{
 "cells": [
  {
   "cell_type": "markdown",
   "metadata": {},
   "source": [
    "# Evalutation of the v7a-hori-size Sizescan\n",
    "\n",
    "extract the emittances for all offsets and safe in a csv"
   ]
  },
  {
   "cell_type": "code",
   "execution_count": 1,
   "metadata": {},
   "outputs": [],
   "source": [
    "import os\n",
    "import numpy as np\n",
    "import pandas as pd\n",
    "import altair as alt\n",
    "alt.enable_mime_rendering()\n",
    "import scipy.constants\n",
    "\n",
    "import PhaseSpaceEval.monitor_quantities as monq\n",
    "from PhaseSpaceEval.import_particle_data import *\n",
    "from PhaseSpaceEval.trajectory import Trajectory\n",
    "from PhaseSpaceEval.particlemonitor import ParticleMonitor"
   ]
  },
  {
   "cell_type": "markdown",
   "metadata": {},
   "source": [
    "## Import Raw Data and set filename *!!! ADJUST FILENAMES HERE !!!*"
   ]
  },
  {
   "cell_type": "code",
   "execution_count": 2,
   "metadata": {},
   "outputs": [],
   "source": [
    "MODELNAME = \"v7a_hori_size\"\n",
    "RAW_PATH = \"rawdata_\" + MODELNAME + \"/\"\n",
    "EMIT_FILENAME = \"sc_emit_\" + MODELNAME + \".csv\" # Name for the emittance output file\n",
    "#MON_FILENAME = \"mon_\" + MODELNAME + \".csv\" # Name for the monitors output file\n",
    "\n",
    "particle_source_names = import_source_names(RAW_PATH + MODELNAME + \"-source_names.txt\")\n",
    "particle_constants = import_particle_constants(RAW_PATH + MODELNAME + \"-constants.txt\")\n",
    "particle_trajectories = import_particle_trajectories(RAW_PATH + MODELNAME + \"-trajectories.txt\")"
   ]
  },
  {
   "cell_type": "markdown",
   "metadata": {},
   "source": [
    "## Create convenient lists\n",
    "### Raw Data"
   ]
  },
  {
   "cell_type": "code",
   "execution_count": 3,
   "metadata": {},
   "outputs": [],
   "source": [
    "# Delete the single_centre source, not required\n",
    "for key in particle_source_names.keys():\n",
    "    if particle_source_names[key] == \"single_centre\":\n",
    "        del(particle_source_names[key])\n",
    "        break\n",
    "        \n",
    "# Generate simple list with all source IDs\n",
    "sourceIDs = list(particle_source_names.keys())\n",
    "#print(sourceIDs)\n",
    "\n",
    "# Create lists with all particles belonging to a source and with the id of the central particles\n",
    "particlesBySrc = dict() # dict for all particleIDs\n",
    "centresBySrc = dict() # dict with the ids of the central particles\n",
    "for sID in sourceIDs:\n",
    "    pIDs = particle_constants[\"particleID\"].loc[particle_constants[\"sourceID\"] == sID].tolist()\n",
    "    particlesBySrc.update({sID : pIDs})\n",
    "    centresBySrc.update({sID : min(pIDs)}) # the smallest pID for each source is the centre\n",
    "#print(particlesBySrc)\n",
    "#print(centresBySrc)"
   ]
  },
  {
   "cell_type": "markdown",
   "metadata": {},
   "source": [
    "### Trajectories"
   ]
  },
  {
   "cell_type": "code",
   "execution_count": 4,
   "metadata": {},
   "outputs": [
    {
     "name": "stdout",
     "output_type": "stream",
     "text": [
      "[2750, 2784, 3028, 3079, 3094, 3160, 3195, 3341, 3697, 3717, 3790, 3794, 3799, 3812, 3923, 4028, 4039, 4067, 4117, 4119, 4150, 4155, 4165, 4285, 4326, 4331, 4349, 4370, 4409, 4422, 4446, 4453, 4467, 4487, 4499, 4554, 4566, 4571, 4606, 4690, 4701, 4734, 4736, 4765, 4814, 4841, 4848, 4851, 4859, 4877, 4897, 4908, 4933, 5007, 5018, 5042, 5067, 5078, 5113, 5120, 5183, 5211, 5241, 5248, 5254, 5264, 5270, 5274, 5286, 5303, 5315, 5324, 5331, 5366, 5393, 5397, 5422, 5499, 5504, 5557, 5562, 5576, 5592, 5624, 5629, 5662, 5670, 5686, 5722, 5736, 5741, 5746, 5764, 5766, 5787, 5789, 5800, 5803, 5810, 5837, 5848, 5850, 5856, 5861, 5889, 5890, 5896, 5898, 5900, 5901, 5914, 5918, 5928, 5934, 5943, 5960, 5962, 6014, 6021, 6030, 6033, 6052, 6060, 6062, 6066, 6071, 6073, 6080, 6084, 6085, 6089, 6094, 6097, 6105, 6106, 6111, 6112, 6115, 6134, 6136, 6140, 6142, 6143, 6154, 6157, 6161, 6163, 6181, 6186, 6189, 6191, 6192, 6194, 6197, 6199, 6215, 6234, 6236, 6239, 6244, 6245, 6256, 6262, 6266, 6282, 6300, 6309, 6316, 6330, 6348, 6365, 6368, 6375, 6387, 6410, 6415, 6445, 6464, 6475, 6511, 6520, 6536, 6543, 6561, 6569, 6587, 6591, 6592, 6593, 6596, 6608, 6610, 6618, 6630, 6636, 6639, 6651, 6659, 6660, 6681, 6694, 6698, 6702, 6706, 6711, 6736, 6754, 6760, 6761, 6772, 6794, 6798, 6805, 6826, 6851, 6865, 6870, 6885, 6897, 6898, 6917, 6927, 6943, 6949, 6950, 6952, 6959, 6962, 6968, 6985, 6989, 7000, 7002, 7003, 7018, 7019, 7022, 7023, 7027, 7043, 7061, 7073, 7076, 7080, 7093, 7094, 7099, 7107, 7114, 7115, 7117, 7130, 7153, 7157, 7160, 7164, 7168, 7174, 7180, 7182, 7183, 7189, 7193, 7194, 7198, 7199, 7204, 7213, 7218, 7228, 7234, 7242, 7243, 7264, 7270, 7288, 7291, 7297, 7298, 7299, 7302, 7306, 7308, 7309, 7331, 7332, 7340, 7350, 7365, 7369, 7375, 7376, 7381, 7387, 7393, 7394, 7396, 7399, 7408, 7409, 7412, 7423, 7429, 7434, 7437, 7438, 7450, 7456, 7457, 7461, 7470, 7471, 7474, 7490, 7492, 7503, 7504, 7508, 7514, 7518, 7521, 7524, 7527, 7528, 7529, 7533, 7540, 7553, 7561, 7568, 7574, 7578, 7583, 7589, 7590, 7591, 7593, 7602, 7607, 7608, 7610, 7611, 7612, 7615, 7623, 7630, 7632, 7634, 7640, 7649, 7650, 7670, 7685, 7688, 7695, 7707, 7709, 7717, 7720, 7727, 7747, 7756, 7758, 7761, 7779, 7789, 7792, 7795, 7796, 7799, 7811, 7817, 7820, 7830, 7835, 7836, 7842, 7852, 7864, 7865, 7867, 7871, 7894, 7897, 7902, 7913, 7916, 7919, 7923, 7927, 7934, 7940, 7957, 7965, 7986, 8005, 8007, 8009, 8010, 8013, 8016, 8019, 8037, 8054, 8057, 8058, 8059, 8067, 8069, 8072, 8083, 8086, 8091, 8095, 8096, 8097, 8100, 8104, 8107, 8118, 8120, 8126, 8134, 8143, 8159, 8171, 8182, 8198, 8205, 8215, 8218, 8221, 8224, 8231, 8237, 8238, 8239, 8240, 8247, 8252, 8253, 8254, 8256, 8259, 8263, 8265, 8286, 8292, 8293, 8295, 8307, 8319, 8320, 8323, 8327, 8328, 8329, 8330, 8339, 8341, 8349, 8352, 8357, 8359, 8369, 8373, 8378, 8382, 8393, 8394, 8401, 8405, 8415, 8418, 8428, 8435, 8437, 8454, 8455, 8459, 8460, 8465, 8466, 8472, 8476, 8478, 8491, 8493, 8495, 8509, 8514, 8515, 8517, 8524, 8538, 8540, 8549, 8552, 8553, 8555, 8559, 8565, 8568, 8587, 8588, 8589, 8592, 8593, 8595, 8599, 8602, 8610, 8611, 8621, 8636, 8637, 8638, 8640, 8641, 8651, 8655, 8659, 8664, 8669, 8679, 8684, 8685, 8690, 8693, 8695, 8700, 8712, 8714, 8717, 8720, 8724, 8725, 8728, 8729, 8730, 8744, 8747, 8750, 8753, 8756, 8759, 8767, 8774, 8775, 8779, 8783, 8785, 8788, 8794, 8797, 8802, 8803, 8805, 8810, 8815, 8826, 8832, 8839, 8841, 8843, 8844, 8845, 8847, 8850, 8857, 8858, 8865, 8868, 8871, 8874, 8884, 8887, 8892, 8899, 8906, 8908, 8917, 8920, 8925, 8927, 8935, 8940, 8947, 8959, 8965, 8969, 8973, 8978, 8988, 8989, 8990, 9002]\n"
     ]
    }
   ],
   "source": [
    "# Create Trajectories\n",
    "trajsBySrc = dict() # Dict for all trajectories\n",
    "ctrajsBySrc = dict() # Dict for central trajectories\n",
    "lostParticles = list()\n",
    "for sID in sourceIDs:\n",
    "    # Compute central trajectory for each sID\n",
    "    cID = centresBySrc[sID]\n",
    "    ctr = Trajectory(particle_trajectories[cID],\n",
    "                     particle_constants.loc[particle_constants[\"particleID\"] == cID].squeeze())\n",
    "    ctrajsBySrc.update({sID : ctr})\n",
    "\n",
    "    # For each sID compute the trajectories of all pIDs\n",
    "    # Note Particles that cannot be found in trajectory dataframe, these were lost\n",
    "    pIDs = particlesBySrc[sID]\n",
    "    trajs = list()\n",
    "    for pID in pIDs:\n",
    "        try:\n",
    "            tr = Trajectory(particle_trajectories[pID],\n",
    "                            particle_constants.loc[particle_constants[\"particleID\"] == pID].squeeze())\n",
    "        except KeyError:\n",
    "            lostParticles.append(pID)\n",
    "        trajs.append(tr)\n",
    "    trajsBySrc.update({sID : trajs})\n",
    "print(lostParticles)"
   ]
  },
  {
   "cell_type": "markdown",
   "metadata": {},
   "source": [
    "### Monitors"
   ]
  },
  {
   "cell_type": "code",
   "execution_count": 5,
   "metadata": {},
   "outputs": [],
   "source": [
    "# Create Monitors\n",
    "monBySrc = dict()\n",
    "for sID in sourceIDs:\n",
    "    ctr = ctrajsBySrc[sID]\n",
    "    t0 = ctr.find_time(\"z\", 770)\n",
    "    mon = ParticleMonitor(time0=t0, trajectory=ctr)\n",
    "    monBySrc.update({sID : mon})"
   ]
  },
  {
   "cell_type": "markdown",
   "metadata": {},
   "source": [
    "## Record Monitor Interactions"
   ]
  },
  {
   "cell_type": "code",
   "execution_count": 6,
   "metadata": {},
   "outputs": [],
   "source": [
    "# Record Monitor Interactions\n",
    "for sID in sourceIDs:\n",
    "    mon = monBySrc[sID]\n",
    "    mon.reset_events()\n",
    "    mon.reset_misses()\n",
    "    for tr in trajsBySrc[sID]:\n",
    "        mon.record_intersect(tr)\n",
    "\n",
    "# Read Out misses and events\n",
    "missesBySrc = dict()\n",
    "eventsBySrc = dict()\n",
    "for sID in sourceIDs:\n",
    "    missesBySrc.update({sID : monBySrc[sID].get_misses()})\n",
    "    eventsBySrc.update({sID : monBySrc[sID].get_events()})\n",
    "#print(missesBySrc)\n",
    "\n",
    "# Add lost particles to miss counter\n",
    "for pID in lostParticles:\n",
    "    for sID in sourceIDs:\n",
    "        if pID in particlesBySrc[sID]:\n",
    "            missesBySrc[sID] += 1\n",
    "#print(missesBySrc)"
   ]
  },
  {
   "cell_type": "markdown",
   "metadata": {},
   "source": [
    "## Export Monitor Interactions"
   ]
  },
  {
   "cell_type": "code",
   "execution_count": 7,
   "metadata": {},
   "outputs": [
    {
     "data": {
      "text/plain": [
       "'export_events = pd.DataFrame()\\nfor sID in sourceIDs:\\n    events = eventsBySrc[sID].copy()\\n    events[\"sourceID\"] = sID\\n    events[\"sourceName\"] = particle_source_names[sID]\\n    export_events = export_events.append(events, ignore_index=True)\\nexport_events.to_csv(MON_FILENAME)'"
      ]
     },
     "execution_count": 7,
     "metadata": {},
     "output_type": "execute_result"
    }
   ],
   "source": [
    "'''export_events = pd.DataFrame()\n",
    "for sID in sourceIDs:\n",
    "    events = eventsBySrc[sID].copy()\n",
    "    events[\"sourceID\"] = sID\n",
    "    events[\"sourceName\"] = particle_source_names[sID]\n",
    "    export_events = export_events.append(events, ignore_index=True)\n",
    "export_events.to_csv(MON_FILENAME)'''"
   ]
  },
  {
   "cell_type": "markdown",
   "metadata": {},
   "source": [
    "## Compute and save emittances"
   ]
  },
  {
   "cell_type": "code",
   "execution_count": 8,
   "metadata": {},
   "outputs": [
    {
     "data": {
      "text/html": [
       "<div>\n",
       "<style>\n",
       "    .dataframe thead tr:only-child th {\n",
       "        text-align: right;\n",
       "    }\n",
       "\n",
       "    .dataframe thead th {\n",
       "        text-align: left;\n",
       "    }\n",
       "\n",
       "    .dataframe tbody tr th {\n",
       "        vertical-align: top;\n",
       "    }\n",
       "</style>\n",
       "<table border=\"1\" class=\"dataframe\">\n",
       "  <thead>\n",
       "    <tr style=\"text-align: right;\">\n",
       "      <th></th>\n",
       "      <th>sourceID</th>\n",
       "      <th>sourceName</th>\n",
       "      <th>beamsize</th>\n",
       "      <th>x_emittance</th>\n",
       "      <th>y_emittance</th>\n",
       "      <th>x_norm_emittance</th>\n",
       "      <th>y_norm_emittance</th>\n",
       "      <th>losses</th>\n",
       "      <th>relbeta</th>\n",
       "    </tr>\n",
       "  </thead>\n",
       "  <tbody>\n",
       "    <tr>\n",
       "      <th>0</th>\n",
       "      <td>16777217</td>\n",
       "      <td>bs_1</td>\n",
       "      <td>1.0</td>\n",
       "      <td>0.002868</td>\n",
       "      <td>0.000008</td>\n",
       "      <td>0.000007</td>\n",
       "      <td>1.832446e-08</td>\n",
       "      <td>0</td>\n",
       "      <td>0.002308</td>\n",
       "    </tr>\n",
       "    <tr>\n",
       "      <th>1</th>\n",
       "      <td>16777218</td>\n",
       "      <td>bs_4</td>\n",
       "      <td>4.0</td>\n",
       "      <td>0.104235</td>\n",
       "      <td>0.000840</td>\n",
       "      <td>0.000241</td>\n",
       "      <td>1.939882e-06</td>\n",
       "      <td>0</td>\n",
       "      <td>0.002308</td>\n",
       "    </tr>\n",
       "    <tr>\n",
       "      <th>2</th>\n",
       "      <td>16777219</td>\n",
       "      <td>bs_7</td>\n",
       "      <td>7.0</td>\n",
       "      <td>0.632040</td>\n",
       "      <td>0.006782</td>\n",
       "      <td>0.001459</td>\n",
       "      <td>1.565554e-05</td>\n",
       "      <td>0</td>\n",
       "      <td>0.002308</td>\n",
       "    </tr>\n",
       "    <tr>\n",
       "      <th>3</th>\n",
       "      <td>16777220</td>\n",
       "      <td>bs_10</td>\n",
       "      <td>10.0</td>\n",
       "      <td>1.865754</td>\n",
       "      <td>0.075881</td>\n",
       "      <td>0.004307</td>\n",
       "      <td>1.751672e-04</td>\n",
       "      <td>0</td>\n",
       "      <td>0.002308</td>\n",
       "    </tr>\n",
       "    <tr>\n",
       "      <th>4</th>\n",
       "      <td>16777221</td>\n",
       "      <td>bs_13</td>\n",
       "      <td>13.0</td>\n",
       "      <td>4.984010</td>\n",
       "      <td>0.173210</td>\n",
       "      <td>0.011505</td>\n",
       "      <td>3.998471e-04</td>\n",
       "      <td>2</td>\n",
       "      <td>0.002308</td>\n",
       "    </tr>\n",
       "    <tr>\n",
       "      <th>5</th>\n",
       "      <td>16777222</td>\n",
       "      <td>bs_16</td>\n",
       "      <td>16.0</td>\n",
       "      <td>9.491386</td>\n",
       "      <td>0.357668</td>\n",
       "      <td>0.021910</td>\n",
       "      <td>8.256575e-04</td>\n",
       "      <td>13</td>\n",
       "      <td>0.002308</td>\n",
       "    </tr>\n",
       "    <tr>\n",
       "      <th>6</th>\n",
       "      <td>16777223</td>\n",
       "      <td>bs_19</td>\n",
       "      <td>19.0</td>\n",
       "      <td>16.158048</td>\n",
       "      <td>0.971730</td>\n",
       "      <td>0.037300</td>\n",
       "      <td>2.243188e-03</td>\n",
       "      <td>38</td>\n",
       "      <td>0.002308</td>\n",
       "    </tr>\n",
       "    <tr>\n",
       "      <th>7</th>\n",
       "      <td>16777224</td>\n",
       "      <td>bs_22</td>\n",
       "      <td>22.0</td>\n",
       "      <td>16.702971</td>\n",
       "      <td>5.505966</td>\n",
       "      <td>0.038558</td>\n",
       "      <td>1.271023e-02</td>\n",
       "      <td>64</td>\n",
       "      <td>0.002308</td>\n",
       "    </tr>\n",
       "    <tr>\n",
       "      <th>8</th>\n",
       "      <td>16777225</td>\n",
       "      <td>bs_25</td>\n",
       "      <td>25.0</td>\n",
       "      <td>22.028710</td>\n",
       "      <td>5.340287</td>\n",
       "      <td>0.050852</td>\n",
       "      <td>1.232777e-02</td>\n",
       "      <td>117</td>\n",
       "      <td>0.002308</td>\n",
       "    </tr>\n",
       "    <tr>\n",
       "      <th>9</th>\n",
       "      <td>16777226</td>\n",
       "      <td>bs_28</td>\n",
       "      <td>28.0</td>\n",
       "      <td>22.838001</td>\n",
       "      <td>7.540526</td>\n",
       "      <td>0.052720</td>\n",
       "      <td>1.740691e-02</td>\n",
       "      <td>163</td>\n",
       "      <td>0.002308</td>\n",
       "    </tr>\n",
       "    <tr>\n",
       "      <th>10</th>\n",
       "      <td>16777227</td>\n",
       "      <td>bs_31</td>\n",
       "      <td>31.0</td>\n",
       "      <td>22.912177</td>\n",
       "      <td>11.168376</td>\n",
       "      <td>0.052892</td>\n",
       "      <td>2.578161e-02</td>\n",
       "      <td>200</td>\n",
       "      <td>0.002308</td>\n",
       "    </tr>\n",
       "  </tbody>\n",
       "</table>\n",
       "</div>"
      ],
      "text/plain": [
       "    sourceID sourceName  beamsize  x_emittance  y_emittance  x_norm_emittance  \\\n",
       "0   16777217       bs_1       1.0     0.002868     0.000008          0.000007   \n",
       "1   16777218       bs_4       4.0     0.104235     0.000840          0.000241   \n",
       "2   16777219       bs_7       7.0     0.632040     0.006782          0.001459   \n",
       "3   16777220      bs_10      10.0     1.865754     0.075881          0.004307   \n",
       "4   16777221      bs_13      13.0     4.984010     0.173210          0.011505   \n",
       "5   16777222      bs_16      16.0     9.491386     0.357668          0.021910   \n",
       "6   16777223      bs_19      19.0    16.158048     0.971730          0.037300   \n",
       "7   16777224      bs_22      22.0    16.702971     5.505966          0.038558   \n",
       "8   16777225      bs_25      25.0    22.028710     5.340287          0.050852   \n",
       "9   16777226      bs_28      28.0    22.838001     7.540526          0.052720   \n",
       "10  16777227      bs_31      31.0    22.912177    11.168376          0.052892   \n",
       "\n",
       "    y_norm_emittance losses   relbeta  \n",
       "0       1.832446e-08      0  0.002308  \n",
       "1       1.939882e-06      0  0.002308  \n",
       "2       1.565554e-05      0  0.002308  \n",
       "3       1.751672e-04      0  0.002308  \n",
       "4       3.998471e-04      2  0.002308  \n",
       "5       8.256575e-04     13  0.002308  \n",
       "6       2.243188e-03     38  0.002308  \n",
       "7       1.271023e-02     64  0.002308  \n",
       "8       1.232777e-02    117  0.002308  \n",
       "9       1.740691e-02    163  0.002308  \n",
       "10      2.578161e-02    200  0.002308  "
      ]
     },
     "execution_count": 8,
     "metadata": {},
     "output_type": "execute_result"
    }
   ],
   "source": [
    "# Compute and save emittances\n",
    "colnames = [\"sourceID\", \"sourceName\", \"beamsize\", \"x_emittance\", \"y_emittance\",\n",
    "            \"x_norm_emittance\", \"y_norm_emittance\", \"losses\", \"relbeta\"]\n",
    "emit_df = pd.DataFrame(columns=colnames)\n",
    "emit_temp = pd.DataFrame([np.zeros(len(colnames))], columns=colnames)\n",
    "for sID in sourceIDs:\n",
    "    name = particle_source_names[sID]\n",
    "    bs = float(name.split('_')[1])\n",
    "    xemit = monq.emittance_u(eventsBySrc[sID])\n",
    "    yemit = monq.emittance_v(eventsBySrc[sID])\n",
    "    # Compute rel. beta for the screen 1e6 mm/ns ->m/s\n",
    "    beta = monBySrc[sID].abs_vel / scipy.constants.speed_of_light * 1e6\n",
    "    xemit_n = beta * (1 - beta**2)**(-0.5) * xemit # beta * gamme * emit\n",
    "    yemit_n = beta * (1 - beta**2)**(-0.5) * yemit\n",
    "    losses = missesBySrc[sID]\n",
    "    \n",
    "    emit_temp[\"sourceID\"] = sID\n",
    "    emit_temp[\"sourceName\"] = name\n",
    "    emit_temp[\"beamsize\"] = bs\n",
    "    emit_temp[\"x_emittance\"] = xemit\n",
    "    emit_temp[\"y_emittance\"] = yemit\n",
    "    emit_temp[\"x_norm_emittance\"] = xemit_n\n",
    "    emit_temp[\"y_norm_emittance\"] = yemit_n\n",
    "    emit_temp[\"losses\"] = losses\n",
    "    emit_temp[\"relbeta\"] = beta\n",
    "\n",
    "    emit_df = emit_df.append(emit_temp, ignore_index=True)\n",
    "\n",
    "emit_df.sort_values([\"beamsize\"], inplace=True)\n",
    "emit_df.reset_index(inplace=True, drop=True)\n",
    "\n",
    "# Load emittance data from startinplane to compute relative emittance growth\n",
    "#emit_start = pd.read_csv(\"emit_startingplane.csv\", index_col=0)\n",
    "#emit_df[\"x_emittance_rel\"] = emit_df[\"x_emittance\"]/emit_start[\"x_emittance\"]\n",
    "#emit_df[\"y_emittance_rel\"] = emit_df[\"y_emittance\"]/emit_start[\"y_emittance\"]\n",
    "# Save emittance table\n",
    "emit_df.to_csv(EMIT_FILENAME)\n",
    "# Show head for debugging purposes\n",
    "emit_df"
   ]
  },
  {
   "cell_type": "markdown",
   "metadata": {},
   "source": [
    "## Plots"
   ]
  },
  {
   "cell_type": "code",
   "execution_count": 9,
   "metadata": {},
   "outputs": [
    {
     "data": {
      "application/vnd.vegalite.v1+json": {
       "$schema": "https://vega.github.io/schema/vega-lite/v1.2.1.json",
       "data": {
        "values": [
         {
          "beamsize": 1,
          "losses": 0,
          "relbeta": 0.0023084412058377237,
          "sourceID": 16777217,
          "sourceName": "bs_1",
          "x_emittance": 0.0028679391104357833,
          "x_norm_emittance": 6.6204864583448425e-06,
          "y_emittance": 7.938000288181343e-06,
          "y_norm_emittance": 1.8324455781858128e-08
         },
         {
          "beamsize": 4,
          "losses": 0,
          "relbeta": 0.002308440998031761,
          "sourceID": 16777218,
          "sourceName": "bs_4",
          "x_emittance": 0.1042353341921388,
          "x_norm_emittance": 0.0002406217600181586,
          "y_emittance": 0.0008403406285467742,
          "y_norm_emittance": 1.9398819279742882e-06
         },
         {
          "beamsize": 7,
          "losses": 0,
          "relbeta": 0.002308440904353746,
          "sourceID": 16777219,
          "sourceName": "bs_7",
          "x_emittance": 0.6320399570341956,
          "x_norm_emittance": 0.0014590307775230243,
          "y_emittance": 0.006781849505038499,
          "y_norm_emittance": 1.5655540518057957e-05
         },
         {
          "beamsize": 10,
          "losses": 0,
          "relbeta": 0.0023084408691721836,
          "sourceID": 16777220,
          "sourceName": "bs_10",
          "x_emittance": 1.8657540349872401,
          "x_norm_emittance": 0.004306994341972193,
          "y_emittance": 0.07588098165187825,
          "y_norm_emittance": 0.00017516722596297131
         },
         {
          "beamsize": 13,
          "losses": 2,
          "relbeta": 0.0023084411939597958,
          "sourceID": 16777221,
          "sourceName": "bs_13",
          "x_emittance": 4.984010461058373,
          "x_norm_emittance": 0.011505325714843936,
          "y_emittance": 0.17321041317044686,
          "y_norm_emittance": 0.0003998471183596789
         },
         {
          "beamsize": 16,
          "losses": 13,
          "relbeta": 0.0023084407566754186,
          "sourceID": 16777222,
          "sourceName": "bs_16",
          "x_emittance": 9.491386141071729,
          "x_norm_emittance": 0.02191036098451936,
          "y_emittance": 0.35766797063587386,
          "y_norm_emittance": 0.0008256575206988244
         },
         {
          "beamsize": 19,
          "losses": 38,
          "relbeta": 0.0023084409857467847,
          "sourceID": 16777223,
          "sourceName": "bs_19",
          "x_emittance": 16.15804814460837,
          "x_norm_emittance": 0.037299999970797054,
          "y_emittance": 0.9717300980627439,
          "y_norm_emittance": 0.0022431875623206018
         },
         {
          "beamsize": 22,
          "losses": 64,
          "relbeta": 0.00230844093011515,
          "sourceID": 16777224,
          "sourceName": "bs_22",
          "x_emittance": 16.702971007495353,
          "x_norm_emittance": 0.0385579246640191,
          "y_emittance": 5.5059664603523375,
          "y_norm_emittance": 0.01271023220273888
         },
         {
          "beamsize": 25,
          "losses": 117,
          "relbeta": 0.0023084408712110787,
          "sourceID": 16777225,
          "sourceName": "bs_25",
          "x_emittance": 22.028710227603785,
          "x_norm_emittance": 0.05085211052253355,
          "y_emittance": 5.340286966060314,
          "y_norm_emittance": 0.012327769543214172
         },
         {
          "beamsize": 28,
          "losses": 163,
          "relbeta": 0.002308440966112089,
          "sourceID": 16777226,
          "sourceName": "bs_28",
          "x_emittance": 22.83800066919913,
          "x_norm_emittance": 0.05272031679970174,
          "y_emittance": 7.540526298124588,
          "y_norm_emittance": 0.017406906192526668
         },
         {
          "beamsize": 31,
          "losses": 200,
          "relbeta": 0.002308440966112089,
          "sourceID": 16777227,
          "sourceName": "bs_31",
          "x_emittance": 22.912176785795825,
          "x_norm_emittance": 0.05289154844219939,
          "y_emittance": 11.168376042225152,
          "y_norm_emittance": 0.025781605474703616
         }
        ]
       },
       "encoding": {
        "x": {
         "field": "beamsize",
         "type": "quantitative"
        },
        "y": {
         "field": "x_emittance",
         "type": "quantitative"
        }
       },
       "mark": "line"
      },
      "image/png": "[encoded data removed]",
      "text/plain": [
       "<altair.VegaLite object>"
      ]
     },
     "execution_count": 9,
     "metadata": {},
     "output_type": "execute_result"
    }
   ],
   "source": [
    "alt.Chart(emit_df).mark_line().encode(\n",
    "    x='beamsize',\n",
    "    y='x_emittance',\n",
    ")"
   ]
  },
  {
   "cell_type": "code",
   "execution_count": 10,
   "metadata": {},
   "outputs": [
    {
     "data": {
      "application/vnd.vegalite.v1+json": {
       "$schema": "https://vega.github.io/schema/vega-lite/v1.2.1.json",
       "data": {
        "values": [
         {
          "beamsize": 1,
          "losses": 0,
          "relbeta": 0.0023084412058377237,
          "sourceID": 16777217,
          "sourceName": "bs_1",
          "x_emittance": 0.0028679391104357833,
          "x_norm_emittance": 6.6204864583448425e-06,
          "y_emittance": 7.938000288181343e-06,
          "y_norm_emittance": 1.8324455781858128e-08
         },
         {
          "beamsize": 4,
          "losses": 0,
          "relbeta": 0.002308440998031761,
          "sourceID": 16777218,
          "sourceName": "bs_4",
          "x_emittance": 0.1042353341921388,
          "x_norm_emittance": 0.0002406217600181586,
          "y_emittance": 0.0008403406285467742,
          "y_norm_emittance": 1.9398819279742882e-06
         },
         {
          "beamsize": 7,
          "losses": 0,
          "relbeta": 0.002308440904353746,
          "sourceID": 16777219,
          "sourceName": "bs_7",
          "x_emittance": 0.6320399570341956,
          "x_norm_emittance": 0.0014590307775230243,
          "y_emittance": 0.006781849505038499,
          "y_norm_emittance": 1.5655540518057957e-05
         },
         {
          "beamsize": 10,
          "losses": 0,
          "relbeta": 0.0023084408691721836,
          "sourceID": 16777220,
          "sourceName": "bs_10",
          "x_emittance": 1.8657540349872401,
          "x_norm_emittance": 0.004306994341972193,
          "y_emittance": 0.07588098165187825,
          "y_norm_emittance": 0.00017516722596297131
         },
         {
          "beamsize": 13,
          "losses": 2,
          "relbeta": 0.0023084411939597958,
          "sourceID": 16777221,
          "sourceName": "bs_13",
          "x_emittance": 4.984010461058373,
          "x_norm_emittance": 0.011505325714843936,
          "y_emittance": 0.17321041317044686,
          "y_norm_emittance": 0.0003998471183596789
         },
         {
          "beamsize": 16,
          "losses": 13,
          "relbeta": 0.0023084407566754186,
          "sourceID": 16777222,
          "sourceName": "bs_16",
          "x_emittance": 9.491386141071729,
          "x_norm_emittance": 0.02191036098451936,
          "y_emittance": 0.35766797063587386,
          "y_norm_emittance": 0.0008256575206988244
         },
         {
          "beamsize": 19,
          "losses": 38,
          "relbeta": 0.0023084409857467847,
          "sourceID": 16777223,
          "sourceName": "bs_19",
          "x_emittance": 16.15804814460837,
          "x_norm_emittance": 0.037299999970797054,
          "y_emittance": 0.9717300980627439,
          "y_norm_emittance": 0.0022431875623206018
         },
         {
          "beamsize": 22,
          "losses": 64,
          "relbeta": 0.00230844093011515,
          "sourceID": 16777224,
          "sourceName": "bs_22",
          "x_emittance": 16.702971007495353,
          "x_norm_emittance": 0.0385579246640191,
          "y_emittance": 5.5059664603523375,
          "y_norm_emittance": 0.01271023220273888
         },
         {
          "beamsize": 25,
          "losses": 117,
          "relbeta": 0.0023084408712110787,
          "sourceID": 16777225,
          "sourceName": "bs_25",
          "x_emittance": 22.028710227603785,
          "x_norm_emittance": 0.05085211052253355,
          "y_emittance": 5.340286966060314,
          "y_norm_emittance": 0.012327769543214172
         },
         {
          "beamsize": 28,
          "losses": 163,
          "relbeta": 0.002308440966112089,
          "sourceID": 16777226,
          "sourceName": "bs_28",
          "x_emittance": 22.83800066919913,
          "x_norm_emittance": 0.05272031679970174,
          "y_emittance": 7.540526298124588,
          "y_norm_emittance": 0.017406906192526668
         },
         {
          "beamsize": 31,
          "losses": 200,
          "relbeta": 0.002308440966112089,
          "sourceID": 16777227,
          "sourceName": "bs_31",
          "x_emittance": 22.912176785795825,
          "x_norm_emittance": 0.05289154844219939,
          "y_emittance": 11.168376042225152,
          "y_norm_emittance": 0.025781605474703616
         }
        ]
       },
       "encoding": {
        "x": {
         "field": "beamsize",
         "type": "quantitative"
        },
        "y": {
         "field": "y_emittance",
         "type": "quantitative"
        }
       },
       "mark": "line"
      },
      "image/png": "[encoded data removed]",
      "text/plain": [
       "<altair.VegaLite object>"
      ]
     },
     "execution_count": 10,
     "metadata": {},
     "output_type": "execute_result"
    }
   ],
   "source": [
    "alt.Chart(emit_df).mark_line().encode(\n",
    "    x='beamsize',\n",
    "    y='y_emittance',\n",
    ")"
   ]
  },
  {
   "cell_type": "code",
   "execution_count": 11,
   "metadata": {},
   "outputs": [
    {
     "data": {
      "application/vnd.vegalite.v1+json": {
       "$schema": "https://vega.github.io/schema/vega-lite/v1.2.1.json",
       "data": {
        "values": [
         {
          "beamsize": 1,
          "losses": 0,
          "relbeta": 0.0023084412058377237,
          "sourceID": 16777217,
          "sourceName": "bs_1",
          "x_emittance": 0.0028679391104357833,
          "x_norm_emittance": 6.6204864583448425e-06,
          "y_emittance": 7.938000288181343e-06,
          "y_norm_emittance": 1.8324455781858128e-08
         },
         {
          "beamsize": 4,
          "losses": 0,
          "relbeta": 0.002308440998031761,
          "sourceID": 16777218,
          "sourceName": "bs_4",
          "x_emittance": 0.1042353341921388,
          "x_norm_emittance": 0.0002406217600181586,
          "y_emittance": 0.0008403406285467742,
          "y_norm_emittance": 1.9398819279742882e-06
         },
         {
          "beamsize": 7,
          "losses": 0,
          "relbeta": 0.002308440904353746,
          "sourceID": 16777219,
          "sourceName": "bs_7",
          "x_emittance": 0.6320399570341956,
          "x_norm_emittance": 0.0014590307775230243,
          "y_emittance": 0.006781849505038499,
          "y_norm_emittance": 1.5655540518057957e-05
         },
         {
          "beamsize": 10,
          "losses": 0,
          "relbeta": 0.0023084408691721836,
          "sourceID": 16777220,
          "sourceName": "bs_10",
          "x_emittance": 1.8657540349872401,
          "x_norm_emittance": 0.004306994341972193,
          "y_emittance": 0.07588098165187825,
          "y_norm_emittance": 0.00017516722596297131
         },
         {
          "beamsize": 13,
          "losses": 2,
          "relbeta": 0.0023084411939597958,
          "sourceID": 16777221,
          "sourceName": "bs_13",
          "x_emittance": 4.984010461058373,
          "x_norm_emittance": 0.011505325714843936,
          "y_emittance": 0.17321041317044686,
          "y_norm_emittance": 0.0003998471183596789
         },
         {
          "beamsize": 16,
          "losses": 13,
          "relbeta": 0.0023084407566754186,
          "sourceID": 16777222,
          "sourceName": "bs_16",
          "x_emittance": 9.491386141071729,
          "x_norm_emittance": 0.02191036098451936,
          "y_emittance": 0.35766797063587386,
          "y_norm_emittance": 0.0008256575206988244
         },
         {
          "beamsize": 19,
          "losses": 38,
          "relbeta": 0.0023084409857467847,
          "sourceID": 16777223,
          "sourceName": "bs_19",
          "x_emittance": 16.15804814460837,
          "x_norm_emittance": 0.037299999970797054,
          "y_emittance": 0.9717300980627439,
          "y_norm_emittance": 0.0022431875623206018
         },
         {
          "beamsize": 22,
          "losses": 64,
          "relbeta": 0.00230844093011515,
          "sourceID": 16777224,
          "sourceName": "bs_22",
          "x_emittance": 16.702971007495353,
          "x_norm_emittance": 0.0385579246640191,
          "y_emittance": 5.5059664603523375,
          "y_norm_emittance": 0.01271023220273888
         },
         {
          "beamsize": 25,
          "losses": 117,
          "relbeta": 0.0023084408712110787,
          "sourceID": 16777225,
          "sourceName": "bs_25",
          "x_emittance": 22.028710227603785,
          "x_norm_emittance": 0.05085211052253355,
          "y_emittance": 5.340286966060314,
          "y_norm_emittance": 0.012327769543214172
         },
         {
          "beamsize": 28,
          "losses": 163,
          "relbeta": 0.002308440966112089,
          "sourceID": 16777226,
          "sourceName": "bs_28",
          "x_emittance": 22.83800066919913,
          "x_norm_emittance": 0.05272031679970174,
          "y_emittance": 7.540526298124588,
          "y_norm_emittance": 0.017406906192526668
         },
         {
          "beamsize": 31,
          "losses": 200,
          "relbeta": 0.002308440966112089,
          "sourceID": 16777227,
          "sourceName": "bs_31",
          "x_emittance": 22.912176785795825,
          "x_norm_emittance": 0.05289154844219939,
          "y_emittance": 11.168376042225152,
          "y_norm_emittance": 0.025781605474703616
         }
        ]
       },
       "encoding": {
        "x": {
         "field": "beamsize",
         "type": "quantitative"
        },
        "y": {
         "field": "x_norm_emittance",
         "type": "quantitative"
        }
       },
       "mark": "line"
      },
      "image/png": "[encoded data removed]",
      "text/plain": [
       "<altair.VegaLite object>"
      ]
     },
     "execution_count": 11,
     "metadata": {},
     "output_type": "execute_result"
    }
   ],
   "source": [
    "alt.Chart(emit_df).mark_line().encode(\n",
    "    x='beamsize',\n",
    "    y='x_norm_emittance',\n",
    ")"
   ]
  },
  {
   "cell_type": "code",
   "execution_count": 12,
   "metadata": {},
   "outputs": [
    {
     "data": {
      "application/vnd.vegalite.v1+json": {
       "$schema": "https://vega.github.io/schema/vega-lite/v1.2.1.json",
       "data": {
        "values": [
         {
          "beamsize": 1,
          "losses": 0,
          "relbeta": 0.0023084412058377237,
          "sourceID": 16777217,
          "sourceName": "bs_1",
          "x_emittance": 0.0028679391104357833,
          "x_norm_emittance": 6.6204864583448425e-06,
          "y_emittance": 7.938000288181343e-06,
          "y_norm_emittance": 1.8324455781858128e-08
         },
         {
          "beamsize": 4,
          "losses": 0,
          "relbeta": 0.002308440998031761,
          "sourceID": 16777218,
          "sourceName": "bs_4",
          "x_emittance": 0.1042353341921388,
          "x_norm_emittance": 0.0002406217600181586,
          "y_emittance": 0.0008403406285467742,
          "y_norm_emittance": 1.9398819279742882e-06
         },
         {
          "beamsize": 7,
          "losses": 0,
          "relbeta": 0.002308440904353746,
          "sourceID": 16777219,
          "sourceName": "bs_7",
          "x_emittance": 0.6320399570341956,
          "x_norm_emittance": 0.0014590307775230243,
          "y_emittance": 0.006781849505038499,
          "y_norm_emittance": 1.5655540518057957e-05
         },
         {
          "beamsize": 10,
          "losses": 0,
          "relbeta": 0.0023084408691721836,
          "sourceID": 16777220,
          "sourceName": "bs_10",
          "x_emittance": 1.8657540349872401,
          "x_norm_emittance": 0.004306994341972193,
          "y_emittance": 0.07588098165187825,
          "y_norm_emittance": 0.00017516722596297131
         },
         {
          "beamsize": 13,
          "losses": 2,
          "relbeta": 0.0023084411939597958,
          "sourceID": 16777221,
          "sourceName": "bs_13",
          "x_emittance": 4.984010461058373,
          "x_norm_emittance": 0.011505325714843936,
          "y_emittance": 0.17321041317044686,
          "y_norm_emittance": 0.0003998471183596789
         },
         {
          "beamsize": 16,
          "losses": 13,
          "relbeta": 0.0023084407566754186,
          "sourceID": 16777222,
          "sourceName": "bs_16",
          "x_emittance": 9.491386141071729,
          "x_norm_emittance": 0.02191036098451936,
          "y_emittance": 0.35766797063587386,
          "y_norm_emittance": 0.0008256575206988244
         },
         {
          "beamsize": 19,
          "losses": 38,
          "relbeta": 0.0023084409857467847,
          "sourceID": 16777223,
          "sourceName": "bs_19",
          "x_emittance": 16.15804814460837,
          "x_norm_emittance": 0.037299999970797054,
          "y_emittance": 0.9717300980627439,
          "y_norm_emittance": 0.0022431875623206018
         },
         {
          "beamsize": 22,
          "losses": 64,
          "relbeta": 0.00230844093011515,
          "sourceID": 16777224,
          "sourceName": "bs_22",
          "x_emittance": 16.702971007495353,
          "x_norm_emittance": 0.0385579246640191,
          "y_emittance": 5.5059664603523375,
          "y_norm_emittance": 0.01271023220273888
         },
         {
          "beamsize": 25,
          "losses": 117,
          "relbeta": 0.0023084408712110787,
          "sourceID": 16777225,
          "sourceName": "bs_25",
          "x_emittance": 22.028710227603785,
          "x_norm_emittance": 0.05085211052253355,
          "y_emittance": 5.340286966060314,
          "y_norm_emittance": 0.012327769543214172
         },
         {
          "beamsize": 28,
          "losses": 163,
          "relbeta": 0.002308440966112089,
          "sourceID": 16777226,
          "sourceName": "bs_28",
          "x_emittance": 22.83800066919913,
          "x_norm_emittance": 0.05272031679970174,
          "y_emittance": 7.540526298124588,
          "y_norm_emittance": 0.017406906192526668
         },
         {
          "beamsize": 31,
          "losses": 200,
          "relbeta": 0.002308440966112089,
          "sourceID": 16777227,
          "sourceName": "bs_31",
          "x_emittance": 22.912176785795825,
          "x_norm_emittance": 0.05289154844219939,
          "y_emittance": 11.168376042225152,
          "y_norm_emittance": 0.025781605474703616
         }
        ]
       },
       "encoding": {
        "x": {
         "field": "beamsize",
         "type": "quantitative"
        },
        "y": {
         "field": "y_norm_emittance",
         "type": "quantitative"
        }
       },
       "mark": "line"
      },
      "image/png": "[encoded data removed]",
      "text/plain": [
       "<altair.VegaLite object>"
      ]
     },
     "execution_count": 12,
     "metadata": {},
     "output_type": "execute_result"
    }
   ],
   "source": [
    "alt.Chart(emit_df).mark_line().encode(\n",
    "    x='beamsize',\n",
    "    y='y_norm_emittance',\n",
    ")"
   ]
  },
  {
   "cell_type": "code",
   "execution_count": 13,
   "metadata": {},
   "outputs": [
    {
     "data": {
      "application/vnd.vegalite.v1+json": {
       "$schema": "https://vega.github.io/schema/vega-lite/v1.2.1.json",
       "data": {
        "values": [
         {
          "beamsize": 1,
          "losses": 0,
          "relbeta": 0.0023084412058377237,
          "sourceID": 16777217,
          "sourceName": "bs_1",
          "x_emittance": 0.0028679391104357833,
          "x_norm_emittance": 6.6204864583448425e-06,
          "y_emittance": 7.938000288181343e-06,
          "y_norm_emittance": 1.8324455781858128e-08
         },
         {
          "beamsize": 4,
          "losses": 0,
          "relbeta": 0.002308440998031761,
          "sourceID": 16777218,
          "sourceName": "bs_4",
          "x_emittance": 0.1042353341921388,
          "x_norm_emittance": 0.0002406217600181586,
          "y_emittance": 0.0008403406285467742,
          "y_norm_emittance": 1.9398819279742882e-06
         },
         {
          "beamsize": 7,
          "losses": 0,
          "relbeta": 0.002308440904353746,
          "sourceID": 16777219,
          "sourceName": "bs_7",
          "x_emittance": 0.6320399570341956,
          "x_norm_emittance": 0.0014590307775230243,
          "y_emittance": 0.006781849505038499,
          "y_norm_emittance": 1.5655540518057957e-05
         },
         {
          "beamsize": 10,
          "losses": 0,
          "relbeta": 0.0023084408691721836,
          "sourceID": 16777220,
          "sourceName": "bs_10",
          "x_emittance": 1.8657540349872401,
          "x_norm_emittance": 0.004306994341972193,
          "y_emittance": 0.07588098165187825,
          "y_norm_emittance": 0.00017516722596297131
         },
         {
          "beamsize": 13,
          "losses": 2,
          "relbeta": 0.0023084411939597958,
          "sourceID": 16777221,
          "sourceName": "bs_13",
          "x_emittance": 4.984010461058373,
          "x_norm_emittance": 0.011505325714843936,
          "y_emittance": 0.17321041317044686,
          "y_norm_emittance": 0.0003998471183596789
         },
         {
          "beamsize": 16,
          "losses": 13,
          "relbeta": 0.0023084407566754186,
          "sourceID": 16777222,
          "sourceName": "bs_16",
          "x_emittance": 9.491386141071729,
          "x_norm_emittance": 0.02191036098451936,
          "y_emittance": 0.35766797063587386,
          "y_norm_emittance": 0.0008256575206988244
         },
         {
          "beamsize": 19,
          "losses": 38,
          "relbeta": 0.0023084409857467847,
          "sourceID": 16777223,
          "sourceName": "bs_19",
          "x_emittance": 16.15804814460837,
          "x_norm_emittance": 0.037299999970797054,
          "y_emittance": 0.9717300980627439,
          "y_norm_emittance": 0.0022431875623206018
         },
         {
          "beamsize": 22,
          "losses": 64,
          "relbeta": 0.00230844093011515,
          "sourceID": 16777224,
          "sourceName": "bs_22",
          "x_emittance": 16.702971007495353,
          "x_norm_emittance": 0.0385579246640191,
          "y_emittance": 5.5059664603523375,
          "y_norm_emittance": 0.01271023220273888
         },
         {
          "beamsize": 25,
          "losses": 117,
          "relbeta": 0.0023084408712110787,
          "sourceID": 16777225,
          "sourceName": "bs_25",
          "x_emittance": 22.028710227603785,
          "x_norm_emittance": 0.05085211052253355,
          "y_emittance": 5.340286966060314,
          "y_norm_emittance": 0.012327769543214172
         },
         {
          "beamsize": 28,
          "losses": 163,
          "relbeta": 0.002308440966112089,
          "sourceID": 16777226,
          "sourceName": "bs_28",
          "x_emittance": 22.83800066919913,
          "x_norm_emittance": 0.05272031679970174,
          "y_emittance": 7.540526298124588,
          "y_norm_emittance": 0.017406906192526668
         },
         {
          "beamsize": 31,
          "losses": 200,
          "relbeta": 0.002308440966112089,
          "sourceID": 16777227,
          "sourceName": "bs_31",
          "x_emittance": 22.912176785795825,
          "x_norm_emittance": 0.05289154844219939,
          "y_emittance": 11.168376042225152,
          "y_norm_emittance": 0.025781605474703616
         }
        ]
       },
       "encoding": {
        "x": {
         "field": "beamsize",
         "type": "quantitative"
        },
        "y": {
         "field": "losses",
         "type": "quantitative"
        }
       },
       "mark": "line"
      },
      "image/png": "[encoded data removed]",
      "text/plain": [
       "<altair.VegaLite object>"
      ]
     },
     "execution_count": 13,
     "metadata": {},
     "output_type": "execute_result"
    }
   ],
   "source": [
    "alt.Chart(emit_df).mark_line().encode(\n",
    "    x='beamsize',\n",
    "    y='losses',\n",
    ")"
   ]
  },
  {
   "cell_type": "code",
   "execution_count": null,
   "metadata": {},
   "outputs": [],
   "source": []
  },
  {
   "cell_type": "code",
   "execution_count": null,
   "metadata": {},
   "outputs": [],
   "source": []
  }
 ],
 "metadata": {
  "kernelspec": {
   "display_name": "Python 3",
   "language": "python",
   "name": "python3"
  },
  "language_info": {
   "codemirror_mode": {
    "name": "ipython",
    "version": 3
   },
   "file_extension": ".py",
   "mimetype": "text/x-python",
   "name": "python",
   "nbconvert_exporter": "python",
   "pygments_lexer": "ipython3",
   "version": "3.6.3"
  }
 },
 "nbformat": 4,
 "nbformat_minor": 2
}
