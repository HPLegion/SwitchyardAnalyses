{
 "cells": [
  {
   "cell_type": "markdown",
   "metadata": {},
   "source": [
    "# Evalutation of the 200_cylindricalplates Sizescan\n",
    "\n",
    "extract the emittances for all offsets and safe in a csv"
   ]
  },
  {
   "cell_type": "code",
   "execution_count": 14,
   "metadata": {},
   "outputs": [],
   "source": [
    "import os\n",
    "import numpy as np\n",
    "import pandas as pd\n",
    "import altair as alt\n",
    "alt.enable_mime_rendering()\n",
    "import scipy.constants\n",
    "\n",
    "import PhaseSpaceEval.monitor_quantities as monq\n",
    "from PhaseSpaceEval.import_particle_data import *\n",
    "from PhaseSpaceEval.trajectory import Trajectory\n",
    "from PhaseSpaceEval.particlemonitor import ParticleMonitor"
   ]
  },
  {
   "cell_type": "markdown",
   "metadata": {},
   "source": [
    "## Import Raw Data and set filename *!!! ADJUST FILENAMES HERE !!!*"
   ]
  },
  {
   "cell_type": "code",
   "execution_count": 15,
   "metadata": {},
   "outputs": [],
   "source": [
    "MODELNAME = \"200_cylindricalplates_sizescan\"\n",
    "RAW_PATH = \"rawdata_\" + MODELNAME + \"/\"\n",
    "EMIT_FILENAME = \"sc_emit_\" + MODELNAME + \".csv\" # Name for the emittance output file\n",
    "#MON_FILENAME = \"mon_\" + MODELNAME + \".csv\" # Name for the monitors output file\n",
    "\n",
    "particle_source_names = import_source_names(RAW_PATH + MODELNAME + \"-source_names.txt\")\n",
    "particle_constants = import_particle_constants(RAW_PATH + MODELNAME + \"-constants.txt\")\n",
    "particle_trajectories = import_particle_trajectories(RAW_PATH + MODELNAME + \"-trajectories.txt\")"
   ]
  },
  {
   "cell_type": "markdown",
   "metadata": {},
   "source": [
    "## Create convenient lists\n",
    "### Raw Data"
   ]
  },
  {
   "cell_type": "code",
   "execution_count": 16,
   "metadata": {},
   "outputs": [],
   "source": [
    "# Delete the single_centre source, not required\n",
    "for key in particle_source_names.keys():\n",
    "    if particle_source_names[key] == \"single_centre\":\n",
    "        del(particle_source_names[key])\n",
    "        break\n",
    "        \n",
    "# Generate simple list with all source IDs\n",
    "sourceIDs = list(particle_source_names.keys())\n",
    "#print(sourceIDs)\n",
    "\n",
    "# Create lists with all particles belonging to a source and with the id of the central particles\n",
    "particlesBySrc = dict() # dict for all particleIDs\n",
    "centresBySrc = dict() # dict with the ids of the central particles\n",
    "for sID in sourceIDs:\n",
    "    pIDs = particle_constants[\"particleID\"].loc[particle_constants[\"sourceID\"] == sID].tolist()\n",
    "    particlesBySrc.update({sID : pIDs})\n",
    "    centresBySrc.update({sID : min(pIDs)}) # the smallest pID for each source is the centre\n",
    "#print(particlesBySrc)\n",
    "#print(centresBySrc)"
   ]
  },
  {
   "cell_type": "markdown",
   "metadata": {},
   "source": [
    "### Trajectories"
   ]
  },
  {
   "cell_type": "code",
   "execution_count": 17,
   "metadata": {},
   "outputs": [
    {
     "name": "stdout",
     "output_type": "stream",
     "text": [
      "[2750, 3028, 3079, 3094, 3160, 3195, 3341, 3697, 3717, 3790, 3794, 3799, 3812, 3923, 4028, 4039, 4117, 4119, 4150, 4155, 4165, 4326, 4331, 4349, 4370, 4409, 4422, 4446, 4453, 4467, 4487, 4499, 4554, 4566, 4606, 4734, 4736, 4814, 4841, 4848, 4851, 4859, 4877, 4897, 4908, 4933, 5007, 5018, 5042, 5067, 5078, 5113, 5120, 5183, 5241, 5248, 5254, 5264, 5270, 5274, 5286, 5303, 5315, 5324, 5331, 5366, 5393, 5397, 5422, 5499, 5504, 5562, 5576, 5592, 5624, 5629, 5662, 5686, 5736, 5741, 5746, 5766, 5787, 5789, 5800, 5810, 5837, 5848, 5850, 5861, 5889, 5898, 5900, 5901, 5914, 5918, 5928, 5943, 5960, 5962, 6014, 6021, 6030, 6033, 6052, 6060, 6062, 6066, 6071, 6073, 6084, 6085, 6089, 6094, 6097, 6105, 6106, 6111, 6134, 6136, 6140, 6142, 6143, 6154, 6157, 6161, 6163, 6181, 6186, 6189, 6191, 6192, 6194, 6197, 6199, 6215, 6236, 6239, 6244, 6245, 6256, 6262, 6266, 6282, 6300, 6309, 6316, 6330, 6348, 6365, 6368, 6387, 6410, 6415, 6445, 6464, 6475, 6520, 6536, 6561, 6569, 6587, 6591, 6592, 6593, 6596, 6610, 6618, 6630, 6636, 6639, 6651, 6659, 6660, 6681, 6698, 6702, 6706, 6711, 6736, 6754, 6760, 6772, 6794, 6798, 6826, 6851, 6865, 6870, 6885, 6898, 6917, 6927, 6943, 6949, 6950, 6952, 6959, 6962, 6968, 6985, 6989, 7000, 7002, 7003, 7018, 7019, 7022, 7023, 7027, 7061, 7073, 7076, 7080, 7093, 7094, 7099, 7107, 7114, 7115, 7117, 7130, 7153, 7157, 7160, 7164, 7168, 7174, 7180, 7183, 7193, 7194, 7198, 7199, 7204, 7213, 7218, 7228, 7234, 7242, 7243, 7264, 7270, 7288, 7291, 7297, 7298, 7299, 7302, 7306, 7308, 7331, 7340, 7350, 7369, 7375, 7376, 7381, 7387, 7393, 7394, 7396, 7399, 7409, 7412, 7423, 7429, 7434, 7437, 7438, 7450, 7456, 7461, 7470, 7471, 7474, 7492, 7503, 7504, 7508, 7514, 7518, 7521, 7524, 7527, 7528, 7529, 7533, 7540, 7553, 7561, 7568, 7574, 7578, 7583, 7589, 7590, 7593, 7602, 7607, 7608, 7611, 7612, 7615, 7623, 7632, 7634, 7640, 7649, 7670, 7685, 7688, 7707, 7709, 7717, 7720, 7727, 7747, 7756, 7758, 7761, 7779, 7789, 7792, 7795, 7796, 7799, 7811, 7817, 7830, 7835, 7836, 7842, 7852, 7865, 7867, 7871, 7894, 7897, 7902, 7913, 7916, 7923, 7927, 7934, 7940, 7965, 8005, 8007, 8009, 8013, 8016, 8019, 8037, 8057, 8058, 8059, 8067, 8069, 8072, 8083, 8086, 8091, 8095, 8096, 8097, 8100, 8104, 8107, 8118, 8120, 8126, 8134, 8143, 8159, 8171, 8182, 8198, 8205, 8215, 8218, 8221, 8224, 8231, 8237, 8238, 8239, 8240, 8247, 8252, 8253, 8254, 8256, 8259, 8263, 8265, 8286, 8292, 8293, 8295, 8307, 8319, 8320, 8323, 8327, 8328, 8329, 8330, 8339, 8349, 8352, 8357, 8359, 8369, 8373, 8378, 8382, 8393, 8394, 8401, 8405, 8415, 8418, 8428, 8435, 8437, 8454, 8455, 8459, 8460, 8466, 8472, 8476, 8478, 8493, 8495, 8509, 8514, 8515, 8517, 8524, 8538, 8540, 8549, 8552, 8553, 8555, 8559, 8565, 8568, 8589, 8592, 8593, 8595, 8599, 8602, 8610, 8621, 8636, 8637, 8638, 8640, 8641, 8651, 8655, 8659, 8664, 8669, 8679, 8684, 8685, 8690, 8693, 8700, 8712, 8714, 8717, 8720, 8724, 8725, 8728, 8729, 8730, 8744, 8747, 8750, 8753, 8756, 8759, 8774, 8775, 8779, 8783, 8785, 8788, 8797, 8802, 8803, 8805, 8810, 8815, 8826, 8839, 8841, 8843, 8844, 8847, 8850, 8857, 8858, 8865, 8868, 8871, 8874, 8884, 8887, 8892, 8906, 8908, 8917, 8920, 8925, 8927, 8935, 8947, 8959, 8965, 8969, 8973, 8978, 8989, 9002]\n"
     ]
    }
   ],
   "source": [
    "# Create Trajectories\n",
    "trajsBySrc = dict() # Dict for all trajectories\n",
    "ctrajsBySrc = dict() # Dict for central trajectories\n",
    "lostParticles = list()\n",
    "for sID in sourceIDs:\n",
    "    # Compute central trajectory for each sID\n",
    "    cID = centresBySrc[sID]\n",
    "    ctr = Trajectory(particle_trajectories[cID],\n",
    "                     particle_constants.loc[particle_constants[\"particleID\"] == cID].squeeze())\n",
    "    ctrajsBySrc.update({sID : ctr})\n",
    "\n",
    "    # For each sID compute the trajectories of all pIDs\n",
    "    # Note Particles that cannot be found in trajectory dataframe, these were lost\n",
    "    pIDs = particlesBySrc[sID]\n",
    "    trajs = list()\n",
    "    for pID in pIDs:\n",
    "        try:\n",
    "            tr = Trajectory(particle_trajectories[pID],\n",
    "                            particle_constants.loc[particle_constants[\"particleID\"] == pID].squeeze())\n",
    "        except KeyError:\n",
    "            lostParticles.append(pID)\n",
    "        trajs.append(tr)\n",
    "    trajsBySrc.update({sID : trajs})\n",
    "print(lostParticles)"
   ]
  },
  {
   "cell_type": "markdown",
   "metadata": {},
   "source": [
    "### Monitors"
   ]
  },
  {
   "cell_type": "code",
   "execution_count": 18,
   "metadata": {},
   "outputs": [],
   "source": [
    "# Create Monitors\n",
    "monBySrc = dict()\n",
    "for sID in sourceIDs:\n",
    "    ctr = ctrajsBySrc[sID]\n",
    "    t0 = ctr.find_time(\"z\", 501)\n",
    "    mon = ParticleMonitor(time0=t0, trajectory=ctr)\n",
    "    monBySrc.update({sID : mon})"
   ]
  },
  {
   "cell_type": "markdown",
   "metadata": {},
   "source": [
    "## Record Monitor Interactions"
   ]
  },
  {
   "cell_type": "code",
   "execution_count": 19,
   "metadata": {},
   "outputs": [],
   "source": [
    "# Record Monitor Interactions\n",
    "for sID in sourceIDs:\n",
    "    mon = monBySrc[sID]\n",
    "    mon.reset_events()\n",
    "    mon.reset_misses()\n",
    "    for tr in trajsBySrc[sID]:\n",
    "        mon.record_intersect(tr)\n",
    "\n",
    "# Read Out misses and events\n",
    "missesBySrc = dict()\n",
    "eventsBySrc = dict()\n",
    "for sID in sourceIDs:\n",
    "    missesBySrc.update({sID : monBySrc[sID].get_misses()})\n",
    "    eventsBySrc.update({sID : monBySrc[sID].get_events()})\n",
    "#print(missesBySrc)\n",
    "\n",
    "# Add lost particles to miss counter\n",
    "for pID in lostParticles:\n",
    "    for sID in sourceIDs:\n",
    "        if pID in particlesBySrc[sID]:\n",
    "            missesBySrc[sID] += 1\n",
    "#print(missesBySrc)"
   ]
  },
  {
   "cell_type": "markdown",
   "metadata": {},
   "source": [
    "## Export Monitor Interactions"
   ]
  },
  {
   "cell_type": "code",
   "execution_count": 20,
   "metadata": {},
   "outputs": [
    {
     "data": {
      "text/plain": [
       "'export_events = pd.DataFrame()\\nfor sID in sourceIDs:\\n    events = eventsBySrc[sID].copy()\\n    events[\"sourceID\"] = sID\\n    events[\"sourceName\"] = particle_source_names[sID]\\n    export_events = export_events.append(events, ignore_index=True)\\nexport_events.to_csv(MON_FILENAME)'"
      ]
     },
     "execution_count": 20,
     "metadata": {},
     "output_type": "execute_result"
    }
   ],
   "source": [
    "'''export_events = pd.DataFrame()\n",
    "for sID in sourceIDs:\n",
    "    events = eventsBySrc[sID].copy()\n",
    "    events[\"sourceID\"] = sID\n",
    "    events[\"sourceName\"] = particle_source_names[sID]\n",
    "    export_events = export_events.append(events, ignore_index=True)\n",
    "export_events.to_csv(MON_FILENAME)'''"
   ]
  },
  {
   "cell_type": "markdown",
   "metadata": {},
   "source": [
    "## Compute and save emittances"
   ]
  },
  {
   "cell_type": "code",
   "execution_count": 21,
   "metadata": {},
   "outputs": [
    {
     "data": {
      "text/html": [
       "<div>\n",
       "<style>\n",
       "    .dataframe thead tr:only-child th {\n",
       "        text-align: right;\n",
       "    }\n",
       "\n",
       "    .dataframe thead th {\n",
       "        text-align: left;\n",
       "    }\n",
       "\n",
       "    .dataframe tbody tr th {\n",
       "        vertical-align: top;\n",
       "    }\n",
       "</style>\n",
       "<table border=\"1\" class=\"dataframe\">\n",
       "  <thead>\n",
       "    <tr style=\"text-align: right;\">\n",
       "      <th></th>\n",
       "      <th>sourceID</th>\n",
       "      <th>sourceName</th>\n",
       "      <th>beamsize</th>\n",
       "      <th>x_emittance</th>\n",
       "      <th>y_emittance</th>\n",
       "      <th>x_norm_emittance</th>\n",
       "      <th>y_norm_emittance</th>\n",
       "      <th>losses</th>\n",
       "      <th>relbeta</th>\n",
       "    </tr>\n",
       "  </thead>\n",
       "  <tbody>\n",
       "    <tr>\n",
       "      <th>0</th>\n",
       "      <td>16777217</td>\n",
       "      <td>bs_1</td>\n",
       "      <td>1.0</td>\n",
       "      <td>0.003563</td>\n",
       "      <td>0.001088</td>\n",
       "      <td>0.000008</td>\n",
       "      <td>0.000003</td>\n",
       "      <td>0</td>\n",
       "      <td>0.002309</td>\n",
       "    </tr>\n",
       "    <tr>\n",
       "      <th>1</th>\n",
       "      <td>16777218</td>\n",
       "      <td>bs_4</td>\n",
       "      <td>4.0</td>\n",
       "      <td>0.157223</td>\n",
       "      <td>0.070797</td>\n",
       "      <td>0.000363</td>\n",
       "      <td>0.000163</td>\n",
       "      <td>0</td>\n",
       "      <td>0.002309</td>\n",
       "    </tr>\n",
       "    <tr>\n",
       "      <th>2</th>\n",
       "      <td>16777219</td>\n",
       "      <td>bs_7</td>\n",
       "      <td>7.0</td>\n",
       "      <td>0.889696</td>\n",
       "      <td>0.339965</td>\n",
       "      <td>0.002054</td>\n",
       "      <td>0.000785</td>\n",
       "      <td>0</td>\n",
       "      <td>0.002309</td>\n",
       "    </tr>\n",
       "    <tr>\n",
       "      <th>3</th>\n",
       "      <td>16777220</td>\n",
       "      <td>bs_10</td>\n",
       "      <td>10.0</td>\n",
       "      <td>2.654179</td>\n",
       "      <td>1.179226</td>\n",
       "      <td>0.006127</td>\n",
       "      <td>0.002722</td>\n",
       "      <td>0</td>\n",
       "      <td>0.002309</td>\n",
       "    </tr>\n",
       "    <tr>\n",
       "      <th>4</th>\n",
       "      <td>16777221</td>\n",
       "      <td>bs_13</td>\n",
       "      <td>13.0</td>\n",
       "      <td>7.353367</td>\n",
       "      <td>2.770836</td>\n",
       "      <td>0.016976</td>\n",
       "      <td>0.006397</td>\n",
       "      <td>1</td>\n",
       "      <td>0.002309</td>\n",
       "    </tr>\n",
       "    <tr>\n",
       "      <th>5</th>\n",
       "      <td>16777222</td>\n",
       "      <td>bs_16</td>\n",
       "      <td>16.0</td>\n",
       "      <td>11.678801</td>\n",
       "      <td>4.670712</td>\n",
       "      <td>0.026961</td>\n",
       "      <td>0.010783</td>\n",
       "      <td>13</td>\n",
       "      <td>0.002309</td>\n",
       "    </tr>\n",
       "    <tr>\n",
       "      <th>6</th>\n",
       "      <td>16777223</td>\n",
       "      <td>bs_19</td>\n",
       "      <td>19.0</td>\n",
       "      <td>21.703577</td>\n",
       "      <td>11.191724</td>\n",
       "      <td>0.050104</td>\n",
       "      <td>0.025837</td>\n",
       "      <td>32</td>\n",
       "      <td>0.002309</td>\n",
       "    </tr>\n",
       "    <tr>\n",
       "      <th>7</th>\n",
       "      <td>16777224</td>\n",
       "      <td>bs_22</td>\n",
       "      <td>22.0</td>\n",
       "      <td>27.211089</td>\n",
       "      <td>18.863839</td>\n",
       "      <td>0.062819</td>\n",
       "      <td>0.043549</td>\n",
       "      <td>54</td>\n",
       "      <td>0.002309</td>\n",
       "    </tr>\n",
       "    <tr>\n",
       "      <th>8</th>\n",
       "      <td>16777225</td>\n",
       "      <td>bs_25</td>\n",
       "      <td>25.0</td>\n",
       "      <td>35.064257</td>\n",
       "      <td>25.174901</td>\n",
       "      <td>0.080949</td>\n",
       "      <td>0.058118</td>\n",
       "      <td>105</td>\n",
       "      <td>0.002309</td>\n",
       "    </tr>\n",
       "    <tr>\n",
       "      <th>9</th>\n",
       "      <td>16777226</td>\n",
       "      <td>bs_28</td>\n",
       "      <td>28.0</td>\n",
       "      <td>40.846098</td>\n",
       "      <td>32.480177</td>\n",
       "      <td>0.094296</td>\n",
       "      <td>0.074983</td>\n",
       "      <td>144</td>\n",
       "      <td>0.002309</td>\n",
       "    </tr>\n",
       "    <tr>\n",
       "      <th>10</th>\n",
       "      <td>16777227</td>\n",
       "      <td>bs_31</td>\n",
       "      <td>31.0</td>\n",
       "      <td>53.317219</td>\n",
       "      <td>50.382148</td>\n",
       "      <td>0.123087</td>\n",
       "      <td>0.116311</td>\n",
       "      <td>183</td>\n",
       "      <td>0.002309</td>\n",
       "    </tr>\n",
       "  </tbody>\n",
       "</table>\n",
       "</div>"
      ],
      "text/plain": [
       "    sourceID sourceName  beamsize  x_emittance  y_emittance  x_norm_emittance  \\\n",
       "0   16777217       bs_1       1.0     0.003563     0.001088          0.000008   \n",
       "1   16777218       bs_4       4.0     0.157223     0.070797          0.000363   \n",
       "2   16777219       bs_7       7.0     0.889696     0.339965          0.002054   \n",
       "3   16777220      bs_10      10.0     2.654179     1.179226          0.006127   \n",
       "4   16777221      bs_13      13.0     7.353367     2.770836          0.016976   \n",
       "5   16777222      bs_16      16.0    11.678801     4.670712          0.026961   \n",
       "6   16777223      bs_19      19.0    21.703577    11.191724          0.050104   \n",
       "7   16777224      bs_22      22.0    27.211089    18.863839          0.062819   \n",
       "8   16777225      bs_25      25.0    35.064257    25.174901          0.080949   \n",
       "9   16777226      bs_28      28.0    40.846098    32.480177          0.094296   \n",
       "10  16777227      bs_31      31.0    53.317219    50.382148          0.123087   \n",
       "\n",
       "    y_norm_emittance losses   relbeta  \n",
       "0           0.000003      0  0.002309  \n",
       "1           0.000163      0  0.002309  \n",
       "2           0.000785      0  0.002309  \n",
       "3           0.002722      0  0.002309  \n",
       "4           0.006397      1  0.002309  \n",
       "5           0.010783     13  0.002309  \n",
       "6           0.025837     32  0.002309  \n",
       "7           0.043549     54  0.002309  \n",
       "8           0.058118    105  0.002309  \n",
       "9           0.074983    144  0.002309  \n",
       "10          0.116311    183  0.002309  "
      ]
     },
     "execution_count": 21,
     "metadata": {},
     "output_type": "execute_result"
    }
   ],
   "source": [
    "# Compute and save emittances\n",
    "colnames = [\"sourceID\", \"sourceName\", \"beamsize\", \"x_emittance\", \"y_emittance\",\n",
    "            \"x_norm_emittance\", \"y_norm_emittance\", \"losses\", \"relbeta\"]\n",
    "emit_df = pd.DataFrame(columns=colnames)\n",
    "emit_temp = pd.DataFrame([np.zeros(len(colnames))], columns=colnames)\n",
    "for sID in sourceIDs:\n",
    "    name = particle_source_names[sID]\n",
    "    bs = float(name.split('_')[1])\n",
    "    xemit = monq.emittance_u(eventsBySrc[sID])\n",
    "    yemit = monq.emittance_v(eventsBySrc[sID])\n",
    "    # Compute rel. beta for the screen 1e6 mm/ns ->m/s\n",
    "    beta = monBySrc[sID].abs_vel / scipy.constants.speed_of_light * 1e6\n",
    "    xemit_n = beta * (1 - beta**2)**(-0.5) * xemit # beta * gamme * emit\n",
    "    yemit_n = beta * (1 - beta**2)**(-0.5) * yemit\n",
    "    losses = missesBySrc[sID]\n",
    "    \n",
    "    emit_temp[\"sourceID\"] = sID\n",
    "    emit_temp[\"sourceName\"] = name\n",
    "    emit_temp[\"beamsize\"] = bs\n",
    "    emit_temp[\"x_emittance\"] = xemit\n",
    "    emit_temp[\"y_emittance\"] = yemit\n",
    "    emit_temp[\"x_norm_emittance\"] = xemit_n\n",
    "    emit_temp[\"y_norm_emittance\"] = yemit_n\n",
    "    emit_temp[\"losses\"] = losses\n",
    "    emit_temp[\"relbeta\"] = beta\n",
    "\n",
    "    emit_df = emit_df.append(emit_temp, ignore_index=True)\n",
    "\n",
    "emit_df.sort_values([\"beamsize\"], inplace=True)\n",
    "emit_df.reset_index(inplace=True, drop=True)\n",
    "\n",
    "# Load emittance data from startinplane to compute relative emittance growth\n",
    "#emit_start = pd.read_csv(\"emit_startingplane.csv\", index_col=0)\n",
    "#emit_df[\"x_emittance_rel\"] = emit_df[\"x_emittance\"]/emit_start[\"x_emittance\"]\n",
    "#emit_df[\"y_emittance_rel\"] = emit_df[\"y_emittance\"]/emit_start[\"y_emittance\"]\n",
    "# Save emittance table\n",
    "emit_df.to_csv(EMIT_FILENAME)\n",
    "# Show head for debugging purposes\n",
    "emit_df"
   ]
  },
  {
   "cell_type": "markdown",
   "metadata": {},
   "source": [
    "## Plots"
   ]
  },
  {
   "cell_type": "code",
   "execution_count": 22,
   "metadata": {},
   "outputs": [
    {
     "data": {
      "application/vnd.vegalite.v1+json": {
       "$schema": "https://vega.github.io/schema/vega-lite/v1.2.1.json",
       "data": {
        "values": [
         {
          "beamsize": 1,
          "losses": 0,
          "relbeta": 0.0023085706331041197,
          "sourceID": 16777217,
          "sourceName": "bs_1",
          "x_emittance": 0.003562532935399759,
          "x_norm_emittance": 8.224380830071406e-06,
          "y_emittance": 0.0010877835802494743,
          "y_norm_emittance": 2.5112319203489216e-06
         },
         {
          "beamsize": 4,
          "losses": 0,
          "relbeta": 0.0023085703418714966,
          "sourceID": 16777218,
          "sourceName": "bs_4",
          "x_emittance": 0.15722325024747347,
          "x_norm_emittance": 0.0003629618997774286,
          "y_emittance": 0.070797073705166,
          "y_norm_emittance": 0.00016344046017533988
         },
         {
          "beamsize": 7,
          "losses": 0,
          "relbeta": 0.002308570267508467,
          "sourceID": 16777219,
          "sourceName": "bs_7",
          "x_emittance": 0.8896956190096985,
          "x_norm_emittance": 0.0020539303263930513,
          "y_emittance": 0.33996523042902393,
          "y_norm_emittance": 0.000784835714347563
         },
         {
          "beamsize": 10,
          "losses": 0,
          "relbeta": 0.0023085701673310963,
          "sourceID": 16777220,
          "sourceName": "bs_10",
          "x_emittance": 2.654178844137686,
          "x_norm_emittance": 0.006127374426268762,
          "y_emittance": 1.1792264694830723,
          "y_norm_emittance": 0.002722334302320643
         },
         {
          "beamsize": 13,
          "losses": 1,
          "relbeta": 0.002308569825585171,
          "sourceID": 16777221,
          "sourceName": "bs_13",
          "x_emittance": 7.353367342859335,
          "x_norm_emittance": 0.016975807200465477,
          "y_emittance": 2.7708362928145656,
          "y_norm_emittance": 0.006396686102802842
         },
         {
          "beamsize": 16,
          "losses": 13,
          "relbeta": 0.0023085696014680137,
          "sourceID": 16777222,
          "sourceName": "bs_16",
          "x_emittance": 11.678801437095736,
          "x_norm_emittance": 0.026961397824654537,
          "y_emittance": 4.670712268888784,
          "y_norm_emittance": 0.01078269309434557
         },
         {
          "beamsize": 19,
          "losses": 32,
          "relbeta": 0.00230857021738496,
          "sourceID": 16777223,
          "sourceName": "bs_19",
          "x_emittance": 21.703577171971805,
          "x_norm_emittance": 0.0501043653856268,
          "y_emittance": 11.191723506853297,
          "y_norm_emittance": 0.025836948418182838
         },
         {
          "beamsize": 22,
          "losses": 54,
          "relbeta": 0.002308570072413901,
          "sourceID": 16777224,
          "sourceName": "bs_22",
          "x_emittance": 27.21108919610661,
          "x_norm_emittance": 0.06281887355260071,
          "y_emittance": 18.86383915293398,
          "y_norm_emittance": 0.0435486105655157
         },
         {
          "beamsize": 25,
          "losses": 105,
          "relbeta": 0.0023085699309151847,
          "sourceID": 16777225,
          "sourceName": "bs_25",
          "x_emittance": 35.06425685864579,
          "x_norm_emittance": 0.08094850474137434,
          "y_emittance": 25.174901050111412,
          "y_norm_emittance": 0.05811817444852239
         },
         {
          "beamsize": 28,
          "losses": 144,
          "relbeta": 0.0023085702439653326,
          "sourceID": 16777226,
          "sourceName": "bs_28",
          "x_emittance": 40.84609790126487,
          "x_norm_emittance": 0.09429633747329333,
          "y_emittance": 32.48017670593804,
          "y_norm_emittance": 0.07498296927306955
         },
         {
          "beamsize": 31,
          "losses": 183,
          "relbeta": 0.0023085701079768686,
          "sourceID": 16777227,
          "sourceName": "bs_31",
          "x_emittance": 53.317219330656705,
          "x_norm_emittance": 0.12308686678311616,
          "y_emittance": 50.382148002538734,
          "y_norm_emittance": 0.11631103079432378
         }
        ]
       },
       "encoding": {
        "x": {
         "field": "beamsize",
         "type": "quantitative"
        },
        "y": {
         "field": "x_emittance",
         "type": "quantitative"
        }
       },
       "mark": "line"
      },
      "text/plain": [
       "<altair.VegaLite object>"
      ]
     },
     "execution_count": 22,
     "metadata": {},
     "output_type": "execute_result"
    }
   ],
   "source": [
    "alt.Chart(emit_df).mark_line().encode(\n",
    "    x='beamsize',\n",
    "    y='x_emittance',\n",
    ")"
   ]
  },
  {
   "cell_type": "code",
   "execution_count": 23,
   "metadata": {},
   "outputs": [
    {
     "data": {
      "application/vnd.vegalite.v1+json": {
       "$schema": "https://vega.github.io/schema/vega-lite/v1.2.1.json",
       "data": {
        "values": [
         {
          "beamsize": 1,
          "losses": 0,
          "relbeta": 0.0023085706331041197,
          "sourceID": 16777217,
          "sourceName": "bs_1",
          "x_emittance": 0.003562532935399759,
          "x_norm_emittance": 8.224380830071406e-06,
          "y_emittance": 0.0010877835802494743,
          "y_norm_emittance": 2.5112319203489216e-06
         },
         {
          "beamsize": 4,
          "losses": 0,
          "relbeta": 0.0023085703418714966,
          "sourceID": 16777218,
          "sourceName": "bs_4",
          "x_emittance": 0.15722325024747347,
          "x_norm_emittance": 0.0003629618997774286,
          "y_emittance": 0.070797073705166,
          "y_norm_emittance": 0.00016344046017533988
         },
         {
          "beamsize": 7,
          "losses": 0,
          "relbeta": 0.002308570267508467,
          "sourceID": 16777219,
          "sourceName": "bs_7",
          "x_emittance": 0.8896956190096985,
          "x_norm_emittance": 0.0020539303263930513,
          "y_emittance": 0.33996523042902393,
          "y_norm_emittance": 0.000784835714347563
         },
         {
          "beamsize": 10,
          "losses": 0,
          "relbeta": 0.0023085701673310963,
          "sourceID": 16777220,
          "sourceName": "bs_10",
          "x_emittance": 2.654178844137686,
          "x_norm_emittance": 0.006127374426268762,
          "y_emittance": 1.1792264694830723,
          "y_norm_emittance": 0.002722334302320643
         },
         {
          "beamsize": 13,
          "losses": 1,
          "relbeta": 0.002308569825585171,
          "sourceID": 16777221,
          "sourceName": "bs_13",
          "x_emittance": 7.353367342859335,
          "x_norm_emittance": 0.016975807200465477,
          "y_emittance": 2.7708362928145656,
          "y_norm_emittance": 0.006396686102802842
         },
         {
          "beamsize": 16,
          "losses": 13,
          "relbeta": 0.0023085696014680137,
          "sourceID": 16777222,
          "sourceName": "bs_16",
          "x_emittance": 11.678801437095736,
          "x_norm_emittance": 0.026961397824654537,
          "y_emittance": 4.670712268888784,
          "y_norm_emittance": 0.01078269309434557
         },
         {
          "beamsize": 19,
          "losses": 32,
          "relbeta": 0.00230857021738496,
          "sourceID": 16777223,
          "sourceName": "bs_19",
          "x_emittance": 21.703577171971805,
          "x_norm_emittance": 0.0501043653856268,
          "y_emittance": 11.191723506853297,
          "y_norm_emittance": 0.025836948418182838
         },
         {
          "beamsize": 22,
          "losses": 54,
          "relbeta": 0.002308570072413901,
          "sourceID": 16777224,
          "sourceName": "bs_22",
          "x_emittance": 27.21108919610661,
          "x_norm_emittance": 0.06281887355260071,
          "y_emittance": 18.86383915293398,
          "y_norm_emittance": 0.0435486105655157
         },
         {
          "beamsize": 25,
          "losses": 105,
          "relbeta": 0.0023085699309151847,
          "sourceID": 16777225,
          "sourceName": "bs_25",
          "x_emittance": 35.06425685864579,
          "x_norm_emittance": 0.08094850474137434,
          "y_emittance": 25.174901050111412,
          "y_norm_emittance": 0.05811817444852239
         },
         {
          "beamsize": 28,
          "losses": 144,
          "relbeta": 0.0023085702439653326,
          "sourceID": 16777226,
          "sourceName": "bs_28",
          "x_emittance": 40.84609790126487,
          "x_norm_emittance": 0.09429633747329333,
          "y_emittance": 32.48017670593804,
          "y_norm_emittance": 0.07498296927306955
         },
         {
          "beamsize": 31,
          "losses": 183,
          "relbeta": 0.0023085701079768686,
          "sourceID": 16777227,
          "sourceName": "bs_31",
          "x_emittance": 53.317219330656705,
          "x_norm_emittance": 0.12308686678311616,
          "y_emittance": 50.382148002538734,
          "y_norm_emittance": 0.11631103079432378
         }
        ]
       },
       "encoding": {
        "x": {
         "field": "beamsize",
         "type": "quantitative"
        },
        "y": {
         "field": "y_emittance",
         "type": "quantitative"
        }
       },
       "mark": "line"
      },
      "text/plain": [
       "<altair.VegaLite object>"
      ]
     },
     "execution_count": 23,
     "metadata": {},
     "output_type": "execute_result"
    }
   ],
   "source": [
    "alt.Chart(emit_df).mark_line().encode(\n",
    "    x='beamsize',\n",
    "    y='y_emittance',\n",
    ")"
   ]
  },
  {
   "cell_type": "code",
   "execution_count": 24,
   "metadata": {},
   "outputs": [
    {
     "data": {
      "application/vnd.vegalite.v1+json": {
       "$schema": "https://vega.github.io/schema/vega-lite/v1.2.1.json",
       "data": {
        "values": [
         {
          "beamsize": 1,
          "losses": 0,
          "relbeta": 0.0023085706331041197,
          "sourceID": 16777217,
          "sourceName": "bs_1",
          "x_emittance": 0.003562532935399759,
          "x_norm_emittance": 8.224380830071406e-06,
          "y_emittance": 0.0010877835802494743,
          "y_norm_emittance": 2.5112319203489216e-06
         },
         {
          "beamsize": 4,
          "losses": 0,
          "relbeta": 0.0023085703418714966,
          "sourceID": 16777218,
          "sourceName": "bs_4",
          "x_emittance": 0.15722325024747347,
          "x_norm_emittance": 0.0003629618997774286,
          "y_emittance": 0.070797073705166,
          "y_norm_emittance": 0.00016344046017533988
         },
         {
          "beamsize": 7,
          "losses": 0,
          "relbeta": 0.002308570267508467,
          "sourceID": 16777219,
          "sourceName": "bs_7",
          "x_emittance": 0.8896956190096985,
          "x_norm_emittance": 0.0020539303263930513,
          "y_emittance": 0.33996523042902393,
          "y_norm_emittance": 0.000784835714347563
         },
         {
          "beamsize": 10,
          "losses": 0,
          "relbeta": 0.0023085701673310963,
          "sourceID": 16777220,
          "sourceName": "bs_10",
          "x_emittance": 2.654178844137686,
          "x_norm_emittance": 0.006127374426268762,
          "y_emittance": 1.1792264694830723,
          "y_norm_emittance": 0.002722334302320643
         },
         {
          "beamsize": 13,
          "losses": 1,
          "relbeta": 0.002308569825585171,
          "sourceID": 16777221,
          "sourceName": "bs_13",
          "x_emittance": 7.353367342859335,
          "x_norm_emittance": 0.016975807200465477,
          "y_emittance": 2.7708362928145656,
          "y_norm_emittance": 0.006396686102802842
         },
         {
          "beamsize": 16,
          "losses": 13,
          "relbeta": 0.0023085696014680137,
          "sourceID": 16777222,
          "sourceName": "bs_16",
          "x_emittance": 11.678801437095736,
          "x_norm_emittance": 0.026961397824654537,
          "y_emittance": 4.670712268888784,
          "y_norm_emittance": 0.01078269309434557
         },
         {
          "beamsize": 19,
          "losses": 32,
          "relbeta": 0.00230857021738496,
          "sourceID": 16777223,
          "sourceName": "bs_19",
          "x_emittance": 21.703577171971805,
          "x_norm_emittance": 0.0501043653856268,
          "y_emittance": 11.191723506853297,
          "y_norm_emittance": 0.025836948418182838
         },
         {
          "beamsize": 22,
          "losses": 54,
          "relbeta": 0.002308570072413901,
          "sourceID": 16777224,
          "sourceName": "bs_22",
          "x_emittance": 27.21108919610661,
          "x_norm_emittance": 0.06281887355260071,
          "y_emittance": 18.86383915293398,
          "y_norm_emittance": 0.0435486105655157
         },
         {
          "beamsize": 25,
          "losses": 105,
          "relbeta": 0.0023085699309151847,
          "sourceID": 16777225,
          "sourceName": "bs_25",
          "x_emittance": 35.06425685864579,
          "x_norm_emittance": 0.08094850474137434,
          "y_emittance": 25.174901050111412,
          "y_norm_emittance": 0.05811817444852239
         },
         {
          "beamsize": 28,
          "losses": 144,
          "relbeta": 0.0023085702439653326,
          "sourceID": 16777226,
          "sourceName": "bs_28",
          "x_emittance": 40.84609790126487,
          "x_norm_emittance": 0.09429633747329333,
          "y_emittance": 32.48017670593804,
          "y_norm_emittance": 0.07498296927306955
         },
         {
          "beamsize": 31,
          "losses": 183,
          "relbeta": 0.0023085701079768686,
          "sourceID": 16777227,
          "sourceName": "bs_31",
          "x_emittance": 53.317219330656705,
          "x_norm_emittance": 0.12308686678311616,
          "y_emittance": 50.382148002538734,
          "y_norm_emittance": 0.11631103079432378
         }
        ]
       },
       "encoding": {
        "x": {
         "field": "beamsize",
         "type": "quantitative"
        },
        "y": {
         "field": "x_norm_emittance",
         "type": "quantitative"
        }
       },
       "mark": "line"
      },
      "text/plain": [
       "<altair.VegaLite object>"
      ]
     },
     "execution_count": 24,
     "metadata": {},
     "output_type": "execute_result"
    }
   ],
   "source": [
    "alt.Chart(emit_df).mark_line().encode(\n",
    "    x='beamsize',\n",
    "    y='x_norm_emittance',\n",
    ")"
   ]
  },
  {
   "cell_type": "code",
   "execution_count": 25,
   "metadata": {},
   "outputs": [
    {
     "data": {
      "application/vnd.vegalite.v1+json": {
       "$schema": "https://vega.github.io/schema/vega-lite/v1.2.1.json",
       "data": {
        "values": [
         {
          "beamsize": 1,
          "losses": 0,
          "relbeta": 0.0023085706331041197,
          "sourceID": 16777217,
          "sourceName": "bs_1",
          "x_emittance": 0.003562532935399759,
          "x_norm_emittance": 8.224380830071406e-06,
          "y_emittance": 0.0010877835802494743,
          "y_norm_emittance": 2.5112319203489216e-06
         },
         {
          "beamsize": 4,
          "losses": 0,
          "relbeta": 0.0023085703418714966,
          "sourceID": 16777218,
          "sourceName": "bs_4",
          "x_emittance": 0.15722325024747347,
          "x_norm_emittance": 0.0003629618997774286,
          "y_emittance": 0.070797073705166,
          "y_norm_emittance": 0.00016344046017533988
         },
         {
          "beamsize": 7,
          "losses": 0,
          "relbeta": 0.002308570267508467,
          "sourceID": 16777219,
          "sourceName": "bs_7",
          "x_emittance": 0.8896956190096985,
          "x_norm_emittance": 0.0020539303263930513,
          "y_emittance": 0.33996523042902393,
          "y_norm_emittance": 0.000784835714347563
         },
         {
          "beamsize": 10,
          "losses": 0,
          "relbeta": 0.0023085701673310963,
          "sourceID": 16777220,
          "sourceName": "bs_10",
          "x_emittance": 2.654178844137686,
          "x_norm_emittance": 0.006127374426268762,
          "y_emittance": 1.1792264694830723,
          "y_norm_emittance": 0.002722334302320643
         },
         {
          "beamsize": 13,
          "losses": 1,
          "relbeta": 0.002308569825585171,
          "sourceID": 16777221,
          "sourceName": "bs_13",
          "x_emittance": 7.353367342859335,
          "x_norm_emittance": 0.016975807200465477,
          "y_emittance": 2.7708362928145656,
          "y_norm_emittance": 0.006396686102802842
         },
         {
          "beamsize": 16,
          "losses": 13,
          "relbeta": 0.0023085696014680137,
          "sourceID": 16777222,
          "sourceName": "bs_16",
          "x_emittance": 11.678801437095736,
          "x_norm_emittance": 0.026961397824654537,
          "y_emittance": 4.670712268888784,
          "y_norm_emittance": 0.01078269309434557
         },
         {
          "beamsize": 19,
          "losses": 32,
          "relbeta": 0.00230857021738496,
          "sourceID": 16777223,
          "sourceName": "bs_19",
          "x_emittance": 21.703577171971805,
          "x_norm_emittance": 0.0501043653856268,
          "y_emittance": 11.191723506853297,
          "y_norm_emittance": 0.025836948418182838
         },
         {
          "beamsize": 22,
          "losses": 54,
          "relbeta": 0.002308570072413901,
          "sourceID": 16777224,
          "sourceName": "bs_22",
          "x_emittance": 27.21108919610661,
          "x_norm_emittance": 0.06281887355260071,
          "y_emittance": 18.86383915293398,
          "y_norm_emittance": 0.0435486105655157
         },
         {
          "beamsize": 25,
          "losses": 105,
          "relbeta": 0.0023085699309151847,
          "sourceID": 16777225,
          "sourceName": "bs_25",
          "x_emittance": 35.06425685864579,
          "x_norm_emittance": 0.08094850474137434,
          "y_emittance": 25.174901050111412,
          "y_norm_emittance": 0.05811817444852239
         },
         {
          "beamsize": 28,
          "losses": 144,
          "relbeta": 0.0023085702439653326,
          "sourceID": 16777226,
          "sourceName": "bs_28",
          "x_emittance": 40.84609790126487,
          "x_norm_emittance": 0.09429633747329333,
          "y_emittance": 32.48017670593804,
          "y_norm_emittance": 0.07498296927306955
         },
         {
          "beamsize": 31,
          "losses": 183,
          "relbeta": 0.0023085701079768686,
          "sourceID": 16777227,
          "sourceName": "bs_31",
          "x_emittance": 53.317219330656705,
          "x_norm_emittance": 0.12308686678311616,
          "y_emittance": 50.382148002538734,
          "y_norm_emittance": 0.11631103079432378
         }
        ]
       },
       "encoding": {
        "x": {
         "field": "beamsize",
         "type": "quantitative"
        },
        "y": {
         "field": "y_norm_emittance",
         "type": "quantitative"
        }
       },
       "mark": "line"
      },
      "text/plain": [
       "<altair.VegaLite object>"
      ]
     },
     "execution_count": 25,
     "metadata": {},
     "output_type": "execute_result"
    }
   ],
   "source": [
    "alt.Chart(emit_df).mark_line().encode(\n",
    "    x='beamsize',\n",
    "    y='y_norm_emittance',\n",
    ")"
   ]
  },
  {
   "cell_type": "code",
   "execution_count": 26,
   "metadata": {},
   "outputs": [
    {
     "data": {
      "application/vnd.vegalite.v1+json": {
       "$schema": "https://vega.github.io/schema/vega-lite/v1.2.1.json",
       "data": {
        "values": [
         {
          "beamsize": 1,
          "losses": 0,
          "relbeta": 0.0023085706331041197,
          "sourceID": 16777217,
          "sourceName": "bs_1",
          "x_emittance": 0.003562532935399759,
          "x_norm_emittance": 8.224380830071406e-06,
          "y_emittance": 0.0010877835802494743,
          "y_norm_emittance": 2.5112319203489216e-06
         },
         {
          "beamsize": 4,
          "losses": 0,
          "relbeta": 0.0023085703418714966,
          "sourceID": 16777218,
          "sourceName": "bs_4",
          "x_emittance": 0.15722325024747347,
          "x_norm_emittance": 0.0003629618997774286,
          "y_emittance": 0.070797073705166,
          "y_norm_emittance": 0.00016344046017533988
         },
         {
          "beamsize": 7,
          "losses": 0,
          "relbeta": 0.002308570267508467,
          "sourceID": 16777219,
          "sourceName": "bs_7",
          "x_emittance": 0.8896956190096985,
          "x_norm_emittance": 0.0020539303263930513,
          "y_emittance": 0.33996523042902393,
          "y_norm_emittance": 0.000784835714347563
         },
         {
          "beamsize": 10,
          "losses": 0,
          "relbeta": 0.0023085701673310963,
          "sourceID": 16777220,
          "sourceName": "bs_10",
          "x_emittance": 2.654178844137686,
          "x_norm_emittance": 0.006127374426268762,
          "y_emittance": 1.1792264694830723,
          "y_norm_emittance": 0.002722334302320643
         },
         {
          "beamsize": 13,
          "losses": 1,
          "relbeta": 0.002308569825585171,
          "sourceID": 16777221,
          "sourceName": "bs_13",
          "x_emittance": 7.353367342859335,
          "x_norm_emittance": 0.016975807200465477,
          "y_emittance": 2.7708362928145656,
          "y_norm_emittance": 0.006396686102802842
         },
         {
          "beamsize": 16,
          "losses": 13,
          "relbeta": 0.0023085696014680137,
          "sourceID": 16777222,
          "sourceName": "bs_16",
          "x_emittance": 11.678801437095736,
          "x_norm_emittance": 0.026961397824654537,
          "y_emittance": 4.670712268888784,
          "y_norm_emittance": 0.01078269309434557
         },
         {
          "beamsize": 19,
          "losses": 32,
          "relbeta": 0.00230857021738496,
          "sourceID": 16777223,
          "sourceName": "bs_19",
          "x_emittance": 21.703577171971805,
          "x_norm_emittance": 0.0501043653856268,
          "y_emittance": 11.191723506853297,
          "y_norm_emittance": 0.025836948418182838
         },
         {
          "beamsize": 22,
          "losses": 54,
          "relbeta": 0.002308570072413901,
          "sourceID": 16777224,
          "sourceName": "bs_22",
          "x_emittance": 27.21108919610661,
          "x_norm_emittance": 0.06281887355260071,
          "y_emittance": 18.86383915293398,
          "y_norm_emittance": 0.0435486105655157
         },
         {
          "beamsize": 25,
          "losses": 105,
          "relbeta": 0.0023085699309151847,
          "sourceID": 16777225,
          "sourceName": "bs_25",
          "x_emittance": 35.06425685864579,
          "x_norm_emittance": 0.08094850474137434,
          "y_emittance": 25.174901050111412,
          "y_norm_emittance": 0.05811817444852239
         },
         {
          "beamsize": 28,
          "losses": 144,
          "relbeta": 0.0023085702439653326,
          "sourceID": 16777226,
          "sourceName": "bs_28",
          "x_emittance": 40.84609790126487,
          "x_norm_emittance": 0.09429633747329333,
          "y_emittance": 32.48017670593804,
          "y_norm_emittance": 0.07498296927306955
         },
         {
          "beamsize": 31,
          "losses": 183,
          "relbeta": 0.0023085701079768686,
          "sourceID": 16777227,
          "sourceName": "bs_31",
          "x_emittance": 53.317219330656705,
          "x_norm_emittance": 0.12308686678311616,
          "y_emittance": 50.382148002538734,
          "y_norm_emittance": 0.11631103079432378
         }
        ]
       },
       "encoding": {
        "x": {
         "field": "beamsize",
         "type": "quantitative"
        },
        "y": {
         "field": "losses",
         "type": "quantitative"
        }
       },
       "mark": "line"
      },
      "text/plain": [
       "<altair.VegaLite object>"
      ]
     },
     "execution_count": 26,
     "metadata": {},
     "output_type": "execute_result"
    }
   ],
   "source": [
    "alt.Chart(emit_df).mark_line().encode(\n",
    "    x='beamsize',\n",
    "    y='losses',\n",
    ")"
   ]
  },
  {
   "cell_type": "code",
   "execution_count": null,
   "metadata": {},
   "outputs": [],
   "source": []
  },
  {
   "cell_type": "code",
   "execution_count": null,
   "metadata": {},
   "outputs": [],
   "source": []
  }
 ],
 "metadata": {
  "kernelspec": {
   "display_name": "Python 3",
   "language": "python",
   "name": "python3"
  },
  "language_info": {
   "codemirror_mode": {
    "name": "ipython",
    "version": 3
   },
   "file_extension": ".py",
   "mimetype": "text/x-python",
   "name": "python",
   "nbconvert_exporter": "python",
   "pygments_lexer": "ipython3",
   "version": "3.6.3"
  }
 },
 "nbformat": 4,
 "nbformat_minor": 2
}
