{
 "cells": [
  {
   "cell_type": "markdown",
   "metadata": {},
   "source": [
    "# Evalutation of the flatplate model\n",
    "\n",
    "extract the emittances for all offsets and safe in a csv"
   ]
  },
  {
   "cell_type": "code",
   "execution_count": 1,
   "metadata": {},
   "outputs": [],
   "source": [
    "import os\n",
    "import numpy as np\n",
    "import pandas as pd\n",
    "import altair as alt\n",
    "alt.enable_mime_rendering()\n",
    "import scipy.constants\n",
    "\n",
    "import PhaseSpaceEval.monitor_quantities as monq\n",
    "from PhaseSpaceEval.import_particle_data import *\n",
    "from PhaseSpaceEval.trajectory import Trajectory\n",
    "from PhaseSpaceEval.particlemonitor import ParticleMonitor"
   ]
  },
  {
   "cell_type": "markdown",
   "metadata": {},
   "source": [
    "## Import Raw Data and set filename *!!! ADJUST FILENAMES HERE !!!*"
   ]
  },
  {
   "cell_type": "code",
   "execution_count": 2,
   "metadata": {},
   "outputs": [],
   "source": [
    "MODELNAME = \"flatplates\"\n",
    "RAW_PATH = \"rawdata_\" + MODELNAME + \"/\"\n",
    "EMIT_FILENAME = \"emit_\" + MODELNAME + \".csv\" # Name for the emittance output file\n",
    "\n",
    "particle_source_names = import_source_names(RAW_PATH + MODELNAME + \"-source_names.txt\")\n",
    "particle_constants = import_particle_constants(RAW_PATH + MODELNAME + \"-constants.txt\")\n",
    "particle_trajectories = import_particle_trajectories(RAW_PATH + MODELNAME + \"-trajectories.txt\")"
   ]
  },
  {
   "cell_type": "markdown",
   "metadata": {},
   "source": [
    "## Create convenient lists\n",
    "### Raw Data"
   ]
  },
  {
   "cell_type": "code",
   "execution_count": 3,
   "metadata": {},
   "outputs": [],
   "source": [
    "# Delete the single_centre source, not required\n",
    "for key in particle_source_names.keys():\n",
    "    if particle_source_names[key] == \"single_centre\":\n",
    "        del(particle_source_names[key])\n",
    "        break\n",
    "        \n",
    "# Generate simple list with all source IDs\n",
    "sourceIDs = list(particle_source_names.keys())\n",
    "#print(sourceIDs)\n",
    "\n",
    "# Create lists with all particles belonging to a source and with the id of the central particles\n",
    "particlesBySrc = dict() # dict for all particleIDs\n",
    "centresBySrc = dict() # dict with the ids of the central particles\n",
    "for sID in sourceIDs:\n",
    "    pIDs = particle_constants[\"particleID\"].loc[particle_constants[\"sourceID\"] == sID].tolist()\n",
    "    particlesBySrc.update({sID : pIDs})\n",
    "    centresBySrc.update({sID : min(pIDs)}) # the smallest pID for each source is the centre\n",
    "#print(particlesBySrc)\n",
    "#print(centresBySrc)"
   ]
  },
  {
   "cell_type": "markdown",
   "metadata": {},
   "source": [
    "### Trajectories"
   ]
  },
  {
   "cell_type": "code",
   "execution_count": 4,
   "metadata": {},
   "outputs": [
    {
     "name": "stdout",
     "output_type": "stream",
     "text": [
      "[2118, 2758, 3087, 3249, 3543, 3746, 11838]\n"
     ]
    }
   ],
   "source": [
    "# Create Trajectories\n",
    "trajsBySrc = dict() # Dict for all trajectories\n",
    "ctrajsBySrc = dict() # Dict for central trajectories\n",
    "lostParticles = list()\n",
    "for sID in sourceIDs:\n",
    "    # Compute central trajectory for each sID\n",
    "    cID = centresBySrc[sID]\n",
    "    ctr = Trajectory(particle_trajectories[cID],\n",
    "                     particle_constants.loc[particle_constants[\"particleID\"] == cID].squeeze())\n",
    "    ctrajsBySrc.update({sID : ctr})\n",
    "\n",
    "    # For each sID compute the trajectories of all pIDs\n",
    "    # Note Particles that cannot be found in trajectory dataframe, these were lost\n",
    "    pIDs = particlesBySrc[sID]\n",
    "    trajs = list()\n",
    "    for pID in pIDs:\n",
    "        try:\n",
    "            tr = Trajectory(particle_trajectories[pID],\n",
    "                            particle_constants.loc[particle_constants[\"particleID\"] == pID].squeeze())\n",
    "        except KeyError:\n",
    "            lostParticles.append(pID)\n",
    "        trajs.append(tr)\n",
    "    trajsBySrc.update({sID : trajs})\n",
    "print(lostParticles)"
   ]
  },
  {
   "cell_type": "markdown",
   "metadata": {},
   "source": [
    "### Monitors"
   ]
  },
  {
   "cell_type": "code",
   "execution_count": 5,
   "metadata": {},
   "outputs": [],
   "source": [
    "# Create Monitors\n",
    "monBySrc = dict()\n",
    "for sID in sourceIDs:\n",
    "    ctr = ctrajsBySrc[sID]\n",
    "    t0 = ctr.find_time(\"z\", 501)\n",
    "    mon = ParticleMonitor(time0=t0, trajectory=ctr)\n",
    "    monBySrc.update({sID : mon})"
   ]
  },
  {
   "cell_type": "markdown",
   "metadata": {},
   "source": [
    "## Record Monitor Interactions"
   ]
  },
  {
   "cell_type": "code",
   "execution_count": 6,
   "metadata": {},
   "outputs": [],
   "source": [
    "# Record Monitor Interactions\n",
    "for sID in sourceIDs:\n",
    "    mon = monBySrc[sID]\n",
    "    mon.reset_events()\n",
    "    mon.reset_misses()\n",
    "    for tr in trajsBySrc[sID]:\n",
    "        mon.record_intersect(tr)\n",
    "\n",
    "# Read Out misses and events\n",
    "missesBySrc = dict()\n",
    "eventsBySrc = dict()\n",
    "for sID in sourceIDs:\n",
    "    missesBySrc.update({sID : monBySrc[sID].get_misses()})\n",
    "    eventsBySrc.update({sID : monBySrc[sID].get_events()})\n",
    "#print(missesBySrc)\n",
    "\n",
    "# Add lost particles to miss counter\n",
    "for pID in lostParticles:\n",
    "    for sID in sourceIDs:\n",
    "        if pID in particlesBySrc[sID]:\n",
    "            missesBySrc[sID] += 1\n",
    "#print(missesBySrc)"
   ]
  },
  {
   "cell_type": "markdown",
   "metadata": {},
   "source": [
    "## Compute and save emittances"
   ]
  },
  {
   "cell_type": "code",
   "execution_count": 7,
   "metadata": {},
   "outputs": [],
   "source": [
    "# Compute and save emittances\n",
    "colnames = [\"sourceID\", \"sourceName\", \"x_offset\", \"y_offset\", \"x_emittance\", \"y_emittance\", \"x_norm_emittance\", \"y_norm_emittance\", \"losses\", \"relbeta\"]\n",
    "emit_df = pd.DataFrame(columns=colnames)\n",
    "emit_temp = pd.DataFrame([np.zeros(len(colnames))], columns=colnames)\n",
    "for sID in sourceIDs:\n",
    "    name = particle_source_names[sID]\n",
    "    xoff = float(name.split('_')[1])\n",
    "    yoff = float(name.split('_')[3])\n",
    "    xemit = monq.emittance_u(eventsBySrc[sID])\n",
    "    yemit = monq.emittance_v(eventsBySrc[sID])\n",
    "    # Compute rel. beta for the screen 1e6 mm/ns ->m/s\n",
    "    beta = monBySrc[sID].abs_vel / scipy.constants.speed_of_light * 1e6\n",
    "    xemit_n = beta * (1 - beta**2)**(-0.5) * xemit # beta * gamme * emit\n",
    "    yemit_n = beta * (1 - beta**2)**(-0.5) * yemit\n",
    "    losses = missesBySrc[sID]\n",
    "    \n",
    "    emit_temp[\"sourceID\"] = sID\n",
    "    emit_temp[\"sourceName\"] = name\n",
    "    emit_temp[\"x_offset\"] = xoff\n",
    "    emit_temp[\"y_offset\"] = yoff\n",
    "    emit_temp[\"x_emittance\"] = xemit\n",
    "    emit_temp[\"y_emittance\"] = yemit\n",
    "    emit_temp[\"x_norm_emittance\"] = xemit_n\n",
    "    emit_temp[\"y_norm_emittance\"] = yemit_n\n",
    "    emit_temp[\"losses\"] = losses\n",
    "    emit_temp[\"relbeta\"] = beta\n",
    "\n",
    "    emit_df = emit_df.append(emit_temp, ignore_index=True)\n",
    "\n",
    "emit_df.sort_values([\"x_offset\", \"y_offset\"], inplace=True)\n",
    "emit_df.reset_index(inplace=True, drop=True)\n",
    "emit_df.to_csv(EMIT_FILENAME)"
   ]
  },
  {
   "cell_type": "code",
   "execution_count": 8,
   "metadata": {},
   "outputs": [
    {
     "data": {
      "application/vnd.vegalite.v1+json": {
       "$schema": "https://vega.github.io/schema/vega-lite/v1.2.1.json",
       "data": {
        "values": [
         {
          "losses": 1,
          "relbeta": 0.0023084135976594393,
          "sourceID": 16777222,
          "sourceName": "x_-15_y_0",
          "x_emittance": 1.85361727666037,
          "x_norm_emittance": 0.004278926727029775,
          "x_offset": -15,
          "y_emittance": 1.590342739376386,
          "y_norm_emittance": 0.0036711785859677264,
          "y_offset": 0
         },
         {
          "losses": 2,
          "relbeta": 0.0023084147034559965,
          "sourceID": 16777229,
          "sourceName": "x_-15_y_5",
          "x_emittance": 2.0012418218645616,
          "x_norm_emittance": 0.004619708355480767,
          "x_offset": -15,
          "y_emittance": 1.7711107495010052,
          "y_norm_emittance": 0.00408846898888431,
          "y_offset": 5
         },
         {
          "losses": 1,
          "relbeta": 0.0023084166170245697,
          "sourceID": 16777236,
          "sourceName": "x_-15_y_10",
          "x_emittance": 2.420548027554154,
          "x_norm_emittance": 0.005587648176826148,
          "x_offset": -15,
          "y_emittance": 2.187549685952537,
          "y_norm_emittance": 0.005049789500264662,
          "y_offset": 10
         },
         {
          "losses": 2,
          "relbeta": 0.0023084153599359004,
          "sourceID": 16777243,
          "sourceName": "x_-15_y_15",
          "x_emittance": 3.141223740531546,
          "x_norm_emittance": 0.007251268451876557,
          "x_offset": -15,
          "y_emittance": 2.78169450653998,
          "y_norm_emittance": 0.006421323434483675,
          "y_offset": 15
         },
         {
          "losses": 0,
          "relbeta": 0.0023084142694826068,
          "sourceID": 16777220,
          "sourceName": "x_-10_y_0",
          "x_emittance": 1.6280816663680395,
          "x_norm_emittance": 0.0037582969641025005,
          "x_offset": -10,
          "y_emittance": 1.5529763274528505,
          "y_norm_emittance": 0.003584922266098233,
          "y_offset": 0
         },
         {
          "losses": 0,
          "relbeta": 0.0023084157602844646,
          "sourceID": 16777227,
          "sourceName": "x_-10_y_5",
          "x_emittance": 1.6406294997364892,
          "x_norm_emittance": 0.0037872650847502816,
          "x_offset": -10,
          "y_emittance": 1.623837957374666,
          "y_norm_emittance": 0.0037485031204455726,
          "y_offset": 5
         },
         {
          "losses": 0,
          "relbeta": 0.002308416875455974,
          "sourceID": 16777234,
          "sourceName": "x_-10_y_10",
          "x_emittance": 1.640414925636174,
          "x_norm_emittance": 0.003786771586554228,
          "x_offset": -10,
          "y_emittance": 1.826228157397406,
          "y_norm_emittance": 0.004215707129289778,
          "y_offset": 10
         },
         {
          "losses": 0,
          "relbeta": 0.0023084182259362597,
          "sourceID": 16777241,
          "sourceName": "x_-10_y_15",
          "x_emittance": 1.7161962084354874,
          "x_norm_emittance": 0.00396170916241665,
          "x_offset": -10,
          "y_emittance": 1.936030990636213,
          "y_norm_emittance": 0.004469181132452309,
          "y_offset": 15
         },
         {
          "losses": 0,
          "relbeta": 0.002308450321608821,
          "sourceID": 16777218,
          "sourceName": "x_-5_y_0",
          "x_emittance": 1.696174585775244,
          "x_norm_emittance": 0.003915545200909843,
          "x_offset": -5,
          "y_emittance": 1.7413898581835907,
          "y_norm_emittance": 0.004019922689153728,
          "y_offset": 0
         },
         {
          "losses": 0,
          "relbeta": 0.0023084512930134555,
          "sourceID": 16777225,
          "sourceName": "x_-5_y_5",
          "x_emittance": 1.6548999361194316,
          "x_norm_emittance": 0.0038202660763547824,
          "x_offset": -5,
          "y_emittance": 1.754110596918414,
          "y_norm_emittance": 0.004049289664785051,
          "y_offset": 5
         },
         {
          "losses": 0,
          "relbeta": 0.0023084515364841783,
          "sourceID": 16777232,
          "sourceName": "x_-5_y_10",
          "x_emittance": 1.9080696757031612,
          "x_norm_emittance": 0.0044046981108161526,
          "x_offset": -5,
          "y_emittance": 1.9946463333913975,
          "y_norm_emittance": 0.004604556661798899,
          "y_offset": 10
         },
         {
          "losses": 0,
          "relbeta": 0.0023084508754089104,
          "sourceID": 16777239,
          "sourceName": "x_-5_y_15",
          "x_emittance": 2.938094361758686,
          "x_norm_emittance": 0.0067824645731517415,
          "x_offset": -5,
          "y_emittance": 2.6530807818249853,
          "y_norm_emittance": 0.006124522971980578,
          "y_offset": 15
         },
         {
          "losses": 0,
          "relbeta": 0.002308469296832519,
          "sourceID": 16777216,
          "sourceName": "x_0_y_0",
          "x_emittance": 1.5871118321111626,
          "x_norm_emittance": 0.0036638086973553702,
          "x_offset": 0,
          "y_emittance": 1.5858926412891068,
          "y_norm_emittance": 0.0036609942252764606,
          "y_offset": 0
         },
         {
          "losses": 0,
          "relbeta": 0.0023084697127008134,
          "sourceID": 16777223,
          "sourceName": "x_0_y_5",
          "x_emittance": 1.7888950643350983,
          "x_norm_emittance": 0.0041296210786745,
          "x_offset": 0,
          "y_emittance": 1.8628630134413686,
          "y_norm_emittance": 0.0043003743038722625,
          "y_offset": 5
         },
         {
          "losses": 0,
          "relbeta": 0.0023084702821567498,
          "sourceID": 16777230,
          "sourceName": "x_0_y_10",
          "x_emittance": 2.3124908563478845,
          "x_norm_emittance": 0.0053383306437327915,
          "x_offset": 0,
          "y_emittance": 2.4771607980882844,
          "y_norm_emittance": 0.005718467323487181,
          "y_offset": 10
         },
         {
          "losses": 0,
          "relbeta": 0.002308469969209916,
          "sourceID": 16777237,
          "sourceName": "x_0_y_15",
          "x_emittance": 4.470622802692978,
          "x_norm_emittance": 0.010320325982400397,
          "x_offset": 0,
          "y_emittance": 4.312465046188889,
          "y_norm_emittance": 0.009955222578287643,
          "y_offset": 15
         },
         {
          "losses": 0,
          "relbeta": 0.0023084762120806537,
          "sourceID": 16777217,
          "sourceName": "x_5_y_0",
          "x_emittance": 1.662760769637276,
          "x_norm_emittance": 0.0038384539107824437,
          "x_offset": 5,
          "y_emittance": 1.7813434553451741,
          "y_norm_emittance": 0.004112199949309598,
          "y_offset": 0
         },
         {
          "losses": 0,
          "relbeta": 0.0023084769268569886,
          "sourceID": 16777224,
          "sourceName": "x_5_y_5",
          "x_emittance": 2.1368849566447077,
          "x_norm_emittance": 0.004932962761820996,
          "x_offset": 5,
          "y_emittance": 1.941977296608954,
          "y_norm_emittance": 0.004483021726876502,
          "y_offset": 5
         },
         {
          "losses": 0,
          "relbeta": 0.002308476720225773,
          "sourceID": 16777231,
          "sourceName": "x_5_y_10",
          "x_emittance": 2.8609340871997575,
          "x_norm_emittance": 0.006604417336108325,
          "x_offset": 5,
          "y_emittance": 2.708762043071683,
          "y_norm_emittance": 0.00625313077875384,
          "y_offset": 10
         },
         {
          "losses": 0,
          "relbeta": 0.002308476917921321,
          "sourceID": 16777238,
          "sourceName": "x_5_y_15",
          "x_emittance": 4.8405034897897865,
          "x_norm_emittance": 0.011174220351414084,
          "x_offset": 5,
          "y_emittance": 4.891998128149457,
          "y_norm_emittance": 0.011293094852209523,
          "y_offset": 15
         },
         {
          "losses": 0,
          "relbeta": 0.0023084815400344874,
          "sourceID": 16777219,
          "sourceName": "x_10_y_0",
          "x_emittance": 1.7160671725271202,
          "x_norm_emittance": 0.003961519944894357,
          "x_offset": 10,
          "y_emittance": 1.712071325337584,
          "y_norm_emittance": 0.0039522955808417625,
          "y_offset": 0
         },
         {
          "losses": 0,
          "relbeta": 0.002308480116810939,
          "sourceID": 16777226,
          "sourceName": "x_10_y_5",
          "x_emittance": 1.9686802371839625,
          "x_norm_emittance": 0.004544671293373424,
          "x_offset": 10,
          "y_emittance": 1.8380918794080836,
          "y_norm_emittance": 0.0042432098627036355,
          "y_offset": 5
         },
         {
          "losses": 0,
          "relbeta": 0.0023084804077725418,
          "sourceID": 16777233,
          "sourceName": "x_10_y_10",
          "x_emittance": 3.719191323258035,
          "x_norm_emittance": 0.008585703179486533,
          "x_offset": 10,
          "y_emittance": 3.1710411257470374,
          "y_norm_emittance": 0.00732030581630823,
          "y_offset": 10
         },
         {
          "losses": 0,
          "relbeta": 0.0023084791113512967,
          "sourceID": 16777240,
          "sourceName": "x_10_y_15",
          "x_emittance": 4.722222788146866,
          "x_norm_emittance": 0.010901181712234686,
          "x_offset": 10,
          "y_emittance": 4.434351807820708,
          "y_norm_emittance": 0.010236635796677388,
          "y_offset": 15
         },
         {
          "losses": 0,
          "relbeta": 0.0023084691554148638,
          "sourceID": 16777221,
          "sourceName": "x_15_y_0",
          "x_emittance": 2.2555099050913263,
          "x_norm_emittance": 0.005206788919221281,
          "x_offset": 15,
          "y_emittance": 1.6497821028126598,
          "y_norm_emittance": 0.003808481245267121,
          "y_offset": 0
         },
         {
          "losses": 1,
          "relbeta": 0.00230847133222411,
          "sourceID": 16777228,
          "sourceName": "x_15_y_5",
          "x_emittance": 2.4593817754875524,
          "x_norm_emittance": 0.005677427451346287,
          "x_offset": 15,
          "y_emittance": 1.820501146969978,
          "y_norm_emittance": 0.004202585905950195,
          "y_offset": 5
         },
         {
          "losses": 0,
          "relbeta": 0.0023084729546021224,
          "sourceID": 16777235,
          "sourceName": "x_15_y_10",
          "x_emittance": 3.108824269060461,
          "x_norm_emittance": 0.007176655868131846,
          "x_offset": 15,
          "y_emittance": 2.829989453088413,
          "y_norm_emittance": 0.006532971521544437,
          "y_offset": 10
         },
         {
          "losses": 0,
          "relbeta": 0.002308469123679035,
          "sourceID": 16777242,
          "sourceName": "x_15_y_15",
          "x_emittance": 4.269120301015175,
          "x_norm_emittance": 0.009855158659416434,
          "x_offset": 15,
          "y_emittance": 4.312998904740043,
          "y_norm_emittance": 0.009956451331201628,
          "y_offset": 15
         }
        ]
       },
       "encoding": {
        "color": {
         "field": "y_offset",
         "type": "nominal"
        },
        "x": {
         "field": "x_offset",
         "type": "quantitative"
        },
        "y": {
         "field": "x_emittance",
         "type": "quantitative"
        }
       },
       "mark": "line"
      },
      "text/plain": [
       "<altair.VegaLite object>"
      ]
     },
     "execution_count": 8,
     "metadata": {},
     "output_type": "execute_result"
    }
   ],
   "source": [
    "alt.Chart(emit_df).mark_line().encode(\n",
    "    color='y_offset:N',\n",
    "    x='x_offset',\n",
    "    y='x_emittance',\n",
    ")"
   ]
  },
  {
   "cell_type": "code",
   "execution_count": 10,
   "metadata": {},
   "outputs": [
    {
     "data": {
      "application/vnd.vegalite.v1+json": {
       "$schema": "https://vega.github.io/schema/vega-lite/v1.2.1.json",
       "data": {
        "values": [
         {
          "losses": 1,
          "relbeta": 0.0023084135976594393,
          "sourceID": 16777222,
          "sourceName": "x_-15_y_0",
          "x_emittance": 1.85361727666037,
          "x_norm_emittance": 0.004278926727029775,
          "x_offset": -15,
          "y_emittance": 1.590342739376386,
          "y_norm_emittance": 0.0036711785859677264,
          "y_offset": 0
         },
         {
          "losses": 2,
          "relbeta": 0.0023084147034559965,
          "sourceID": 16777229,
          "sourceName": "x_-15_y_5",
          "x_emittance": 2.0012418218645616,
          "x_norm_emittance": 0.004619708355480767,
          "x_offset": -15,
          "y_emittance": 1.7711107495010052,
          "y_norm_emittance": 0.00408846898888431,
          "y_offset": 5
         },
         {
          "losses": 1,
          "relbeta": 0.0023084166170245697,
          "sourceID": 16777236,
          "sourceName": "x_-15_y_10",
          "x_emittance": 2.420548027554154,
          "x_norm_emittance": 0.005587648176826148,
          "x_offset": -15,
          "y_emittance": 2.187549685952537,
          "y_norm_emittance": 0.005049789500264662,
          "y_offset": 10
         },
         {
          "losses": 2,
          "relbeta": 0.0023084153599359004,
          "sourceID": 16777243,
          "sourceName": "x_-15_y_15",
          "x_emittance": 3.141223740531546,
          "x_norm_emittance": 0.007251268451876557,
          "x_offset": -15,
          "y_emittance": 2.78169450653998,
          "y_norm_emittance": 0.006421323434483675,
          "y_offset": 15
         },
         {
          "losses": 0,
          "relbeta": 0.0023084142694826068,
          "sourceID": 16777220,
          "sourceName": "x_-10_y_0",
          "x_emittance": 1.6280816663680395,
          "x_norm_emittance": 0.0037582969641025005,
          "x_offset": -10,
          "y_emittance": 1.5529763274528505,
          "y_norm_emittance": 0.003584922266098233,
          "y_offset": 0
         },
         {
          "losses": 0,
          "relbeta": 0.0023084157602844646,
          "sourceID": 16777227,
          "sourceName": "x_-10_y_5",
          "x_emittance": 1.6406294997364892,
          "x_norm_emittance": 0.0037872650847502816,
          "x_offset": -10,
          "y_emittance": 1.623837957374666,
          "y_norm_emittance": 0.0037485031204455726,
          "y_offset": 5
         },
         {
          "losses": 0,
          "relbeta": 0.002308416875455974,
          "sourceID": 16777234,
          "sourceName": "x_-10_y_10",
          "x_emittance": 1.640414925636174,
          "x_norm_emittance": 0.003786771586554228,
          "x_offset": -10,
          "y_emittance": 1.826228157397406,
          "y_norm_emittance": 0.004215707129289778,
          "y_offset": 10
         },
         {
          "losses": 0,
          "relbeta": 0.0023084182259362597,
          "sourceID": 16777241,
          "sourceName": "x_-10_y_15",
          "x_emittance": 1.7161962084354874,
          "x_norm_emittance": 0.00396170916241665,
          "x_offset": -10,
          "y_emittance": 1.936030990636213,
          "y_norm_emittance": 0.004469181132452309,
          "y_offset": 15
         },
         {
          "losses": 0,
          "relbeta": 0.002308450321608821,
          "sourceID": 16777218,
          "sourceName": "x_-5_y_0",
          "x_emittance": 1.696174585775244,
          "x_norm_emittance": 0.003915545200909843,
          "x_offset": -5,
          "y_emittance": 1.7413898581835907,
          "y_norm_emittance": 0.004019922689153728,
          "y_offset": 0
         },
         {
          "losses": 0,
          "relbeta": 0.0023084512930134555,
          "sourceID": 16777225,
          "sourceName": "x_-5_y_5",
          "x_emittance": 1.6548999361194316,
          "x_norm_emittance": 0.0038202660763547824,
          "x_offset": -5,
          "y_emittance": 1.754110596918414,
          "y_norm_emittance": 0.004049289664785051,
          "y_offset": 5
         },
         {
          "losses": 0,
          "relbeta": 0.0023084515364841783,
          "sourceID": 16777232,
          "sourceName": "x_-5_y_10",
          "x_emittance": 1.9080696757031612,
          "x_norm_emittance": 0.0044046981108161526,
          "x_offset": -5,
          "y_emittance": 1.9946463333913975,
          "y_norm_emittance": 0.004604556661798899,
          "y_offset": 10
         },
         {
          "losses": 0,
          "relbeta": 0.0023084508754089104,
          "sourceID": 16777239,
          "sourceName": "x_-5_y_15",
          "x_emittance": 2.938094361758686,
          "x_norm_emittance": 0.0067824645731517415,
          "x_offset": -5,
          "y_emittance": 2.6530807818249853,
          "y_norm_emittance": 0.006124522971980578,
          "y_offset": 15
         },
         {
          "losses": 0,
          "relbeta": 0.002308469296832519,
          "sourceID": 16777216,
          "sourceName": "x_0_y_0",
          "x_emittance": 1.5871118321111626,
          "x_norm_emittance": 0.0036638086973553702,
          "x_offset": 0,
          "y_emittance": 1.5858926412891068,
          "y_norm_emittance": 0.0036609942252764606,
          "y_offset": 0
         },
         {
          "losses": 0,
          "relbeta": 0.0023084697127008134,
          "sourceID": 16777223,
          "sourceName": "x_0_y_5",
          "x_emittance": 1.7888950643350983,
          "x_norm_emittance": 0.0041296210786745,
          "x_offset": 0,
          "y_emittance": 1.8628630134413686,
          "y_norm_emittance": 0.0043003743038722625,
          "y_offset": 5
         },
         {
          "losses": 0,
          "relbeta": 0.0023084702821567498,
          "sourceID": 16777230,
          "sourceName": "x_0_y_10",
          "x_emittance": 2.3124908563478845,
          "x_norm_emittance": 0.0053383306437327915,
          "x_offset": 0,
          "y_emittance": 2.4771607980882844,
          "y_norm_emittance": 0.005718467323487181,
          "y_offset": 10
         },
         {
          "losses": 0,
          "relbeta": 0.002308469969209916,
          "sourceID": 16777237,
          "sourceName": "x_0_y_15",
          "x_emittance": 4.470622802692978,
          "x_norm_emittance": 0.010320325982400397,
          "x_offset": 0,
          "y_emittance": 4.312465046188889,
          "y_norm_emittance": 0.009955222578287643,
          "y_offset": 15
         },
         {
          "losses": 0,
          "relbeta": 0.0023084762120806537,
          "sourceID": 16777217,
          "sourceName": "x_5_y_0",
          "x_emittance": 1.662760769637276,
          "x_norm_emittance": 0.0038384539107824437,
          "x_offset": 5,
          "y_emittance": 1.7813434553451741,
          "y_norm_emittance": 0.004112199949309598,
          "y_offset": 0
         },
         {
          "losses": 0,
          "relbeta": 0.0023084769268569886,
          "sourceID": 16777224,
          "sourceName": "x_5_y_5",
          "x_emittance": 2.1368849566447077,
          "x_norm_emittance": 0.004932962761820996,
          "x_offset": 5,
          "y_emittance": 1.941977296608954,
          "y_norm_emittance": 0.004483021726876502,
          "y_offset": 5
         },
         {
          "losses": 0,
          "relbeta": 0.002308476720225773,
          "sourceID": 16777231,
          "sourceName": "x_5_y_10",
          "x_emittance": 2.8609340871997575,
          "x_norm_emittance": 0.006604417336108325,
          "x_offset": 5,
          "y_emittance": 2.708762043071683,
          "y_norm_emittance": 0.00625313077875384,
          "y_offset": 10
         },
         {
          "losses": 0,
          "relbeta": 0.002308476917921321,
          "sourceID": 16777238,
          "sourceName": "x_5_y_15",
          "x_emittance": 4.8405034897897865,
          "x_norm_emittance": 0.011174220351414084,
          "x_offset": 5,
          "y_emittance": 4.891998128149457,
          "y_norm_emittance": 0.011293094852209523,
          "y_offset": 15
         },
         {
          "losses": 0,
          "relbeta": 0.0023084815400344874,
          "sourceID": 16777219,
          "sourceName": "x_10_y_0",
          "x_emittance": 1.7160671725271202,
          "x_norm_emittance": 0.003961519944894357,
          "x_offset": 10,
          "y_emittance": 1.712071325337584,
          "y_norm_emittance": 0.0039522955808417625,
          "y_offset": 0
         },
         {
          "losses": 0,
          "relbeta": 0.002308480116810939,
          "sourceID": 16777226,
          "sourceName": "x_10_y_5",
          "x_emittance": 1.9686802371839625,
          "x_norm_emittance": 0.004544671293373424,
          "x_offset": 10,
          "y_emittance": 1.8380918794080836,
          "y_norm_emittance": 0.0042432098627036355,
          "y_offset": 5
         },
         {
          "losses": 0,
          "relbeta": 0.0023084804077725418,
          "sourceID": 16777233,
          "sourceName": "x_10_y_10",
          "x_emittance": 3.719191323258035,
          "x_norm_emittance": 0.008585703179486533,
          "x_offset": 10,
          "y_emittance": 3.1710411257470374,
          "y_norm_emittance": 0.00732030581630823,
          "y_offset": 10
         },
         {
          "losses": 0,
          "relbeta": 0.0023084791113512967,
          "sourceID": 16777240,
          "sourceName": "x_10_y_15",
          "x_emittance": 4.722222788146866,
          "x_norm_emittance": 0.010901181712234686,
          "x_offset": 10,
          "y_emittance": 4.434351807820708,
          "y_norm_emittance": 0.010236635796677388,
          "y_offset": 15
         },
         {
          "losses": 0,
          "relbeta": 0.0023084691554148638,
          "sourceID": 16777221,
          "sourceName": "x_15_y_0",
          "x_emittance": 2.2555099050913263,
          "x_norm_emittance": 0.005206788919221281,
          "x_offset": 15,
          "y_emittance": 1.6497821028126598,
          "y_norm_emittance": 0.003808481245267121,
          "y_offset": 0
         },
         {
          "losses": 1,
          "relbeta": 0.00230847133222411,
          "sourceID": 16777228,
          "sourceName": "x_15_y_5",
          "x_emittance": 2.4593817754875524,
          "x_norm_emittance": 0.005677427451346287,
          "x_offset": 15,
          "y_emittance": 1.820501146969978,
          "y_norm_emittance": 0.004202585905950195,
          "y_offset": 5
         },
         {
          "losses": 0,
          "relbeta": 0.0023084729546021224,
          "sourceID": 16777235,
          "sourceName": "x_15_y_10",
          "x_emittance": 3.108824269060461,
          "x_norm_emittance": 0.007176655868131846,
          "x_offset": 15,
          "y_emittance": 2.829989453088413,
          "y_norm_emittance": 0.006532971521544437,
          "y_offset": 10
         },
         {
          "losses": 0,
          "relbeta": 0.002308469123679035,
          "sourceID": 16777242,
          "sourceName": "x_15_y_15",
          "x_emittance": 4.269120301015175,
          "x_norm_emittance": 0.009855158659416434,
          "x_offset": 15,
          "y_emittance": 4.312998904740043,
          "y_norm_emittance": 0.009956451331201628,
          "y_offset": 15
         }
        ]
       },
       "encoding": {
        "color": {
         "field": "y_offset",
         "type": "nominal"
        },
        "x": {
         "field": "x_offset",
         "type": "quantitative"
        },
        "y": {
         "field": "y_emittance",
         "type": "quantitative"
        }
       },
       "mark": "line"
      },
      "text/plain": [
       "<altair.VegaLite object>"
      ]
     },
     "execution_count": 10,
     "metadata": {},
     "output_type": "execute_result"
    }
   ],
   "source": [
    "alt.Chart(emit_df).mark_line().encode(\n",
    "    color='y_offset:N',\n",
    "    x='x_offset',\n",
    "    y='y_emittance',\n",
    ")"
   ]
  },
  {
   "cell_type": "code",
   "execution_count": null,
   "metadata": {},
   "outputs": [],
   "source": []
  }
 ],
 "metadata": {
  "kernelspec": {
   "display_name": "Python 3",
   "language": "python",
   "name": "python3"
  },
  "language_info": {
   "codemirror_mode": {
    "name": "ipython",
    "version": 3
   },
   "file_extension": ".py",
   "mimetype": "text/x-python",
   "name": "python",
   "nbconvert_exporter": "python",
   "pygments_lexer": "ipython3",
   "version": "3.6.3"
  }
 },
 "nbformat": 4,
 "nbformat_minor": 2
}
