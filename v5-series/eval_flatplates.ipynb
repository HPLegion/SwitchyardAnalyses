{
 "cells": [
  {
   "cell_type": "markdown",
   "metadata": {},
   "source": [
    "# Evalutation of the flatplate model\n",
    "\n",
    "extract the emittances for all offsets and safe in a csv"
   ]
  },
  {
   "cell_type": "code",
   "execution_count": 2,
   "metadata": {},
   "outputs": [],
   "source": [
    "import os\n",
    "import numpy as np\n",
    "import pandas as pd\n",
    "import PhaseSpaceEval.monitor_quantities as monq\n",
    "from PhaseSpaceEval.import_particle_data import *\n",
    "from PhaseSpaceEval.trajectory import Trajectory\n",
    "from PhaseSpaceEval.particlemonitor import ParticleMonitor"
   ]
  },
  {
   "cell_type": "markdown",
   "metadata": {},
   "source": [
    "## Import Raw Data and set filename *!!! ADJUST FILENAMES HERE !!!*"
   ]
  },
  {
   "cell_type": "code",
   "execution_count": 3,
   "metadata": {},
   "outputs": [],
   "source": [
    "MODELNAME = \"flatplates\"\n",
    "RAW_PATH = \"rawdata_\" + MODELNAME + \"/\"\n",
    "EMIT_FILENAME = \"emit_\" + MODELNAME + \".csv\" # Name for the emittance output file\n",
    "\n",
    "particle_source_names = import_source_names(RAW_PATH + MODELNAME + \"-source_names.txt\")\n",
    "particle_constants = import_particle_constants(RAW_PATH + MODELNAME + \"-constants.txt\")\n",
    "particle_trajectories = import_particle_trajectories(RAW_PATH + MODELNAME + \"-trajectories.txt\")"
   ]
  },
  {
   "cell_type": "markdown",
   "metadata": {},
   "source": [
    "## Create convenient lists\n",
    "### Raw Data"
   ]
  },
  {
   "cell_type": "code",
   "execution_count": 4,
   "metadata": {},
   "outputs": [],
   "source": [
    "# Delete the single_centre source, not required\n",
    "for key in particle_source_names.keys():\n",
    "    if particle_source_names[key] == \"single_centre\":\n",
    "        del(particle_source_names[key])\n",
    "        break\n",
    "        \n",
    "# Generate simple list with all source IDs\n",
    "sourceIDs = list(particle_source_names.keys())\n",
    "#print(sourceIDs)\n",
    "\n",
    "# Create lists with all particles belonging to a source and with the id of the central particles\n",
    "particlesBySrc = dict() # dict for all particleIDs\n",
    "centresBySrc = dict() # dict with the ids of the central particles\n",
    "for sID in sourceIDs:\n",
    "    pIDs = particle_constants[\"particleID\"].loc[particle_constants[\"sourceID\"] == sID].tolist()\n",
    "    particlesBySrc.update({sID : pIDs})\n",
    "    centresBySrc.update({sID : min(pIDs)}) # the smallest pID for each source is the centre\n",
    "#print(particlesBySrc)\n",
    "#print(centresBySrc)"
   ]
  },
  {
   "cell_type": "markdown",
   "metadata": {},
   "source": [
    "### Trajectories"
   ]
  },
  {
   "cell_type": "code",
   "execution_count": 5,
   "metadata": {},
   "outputs": [
    {
     "name": "stdout",
     "output_type": "stream",
     "text": [
      "[2118, 2758, 3087, 3249, 3543, 3746, 11838]\n"
     ]
    }
   ],
   "source": [
    "# Create Trajectories\n",
    "trajsBySrc = dict() # Dict for all trajectories\n",
    "ctrajsBySrc = dict() # Dict for central trajectories\n",
    "lostParticles = list()\n",
    "for sID in sourceIDs:\n",
    "    # Compute central trajectory for each sID\n",
    "    cID = centresBySrc[sID]\n",
    "    ctr = Trajectory(particle_trajectories[cID],\n",
    "                     particle_constants.loc[particle_constants[\"particleID\"] == cID].squeeze())\n",
    "    ctrajsBySrc.update({sID : ctr})\n",
    "\n",
    "    # For each sID compute the trajectories of all pIDs\n",
    "    # Note Particles that cannot be found in trajectory dataframe, these were lost\n",
    "    pIDs = particlesBySrc[sID]\n",
    "    trajs = list()\n",
    "    for pID in pIDs:\n",
    "        try:\n",
    "            tr = Trajectory(particle_trajectories[pID],\n",
    "                            particle_constants.loc[particle_constants[\"particleID\"] == pID].squeeze())\n",
    "        except KeyError:\n",
    "            lostParticles.append(pID)\n",
    "        trajs.append(tr)\n",
    "    trajsBySrc.update({sID : trajs})\n",
    "print(lostParticles)"
   ]
  },
  {
   "cell_type": "markdown",
   "metadata": {},
   "source": [
    "### Monitors"
   ]
  },
  {
   "cell_type": "code",
   "execution_count": 6,
   "metadata": {},
   "outputs": [],
   "source": [
    "# Create Monitors\n",
    "monBySrc = dict()\n",
    "for sID in sourceIDs:\n",
    "    ctr = ctrajsBySrc[sID]\n",
    "    t0 = ctr.find_time(\"z\", 501)\n",
    "    mon = ParticleMonitor(time0=t0, trajectory=ctr)\n",
    "    monBySrc.update({sID : mon})"
   ]
  },
  {
   "cell_type": "markdown",
   "metadata": {},
   "source": [
    "## Record Monitor Interactions"
   ]
  },
  {
   "cell_type": "code",
   "execution_count": 13,
   "metadata": {},
   "outputs": [
    {
     "name": "stdout",
     "output_type": "stream",
     "text": [
      "{16777220: 0, 16777234: 0, 16777241: 0, 16777227: 0, 16777222: 0, 16777236: 0, 16777243: 0, 16777229: 0, 16777218: 0, 16777232: 0, 16777239: 0, 16777225: 0, 16777216: 0, 16777230: 0, 16777237: 0, 16777223: 0, 16777219: 0, 16777233: 0, 16777240: 0, 16777226: 0, 16777221: 0, 16777235: 0, 16777242: 0, 16777228: 0, 16777217: 0, 16777231: 0, 16777238: 0, 16777224: 0}\n"
     ]
    }
   ],
   "source": [
    "# Record Monitor Interactions\n",
    "for sID in sourceIDs:\n",
    "    mon = monBySrc[sID]\n",
    "    mon.reset_events()\n",
    "    mon.reset_misses()\n",
    "    for tr in trajsBySrc[sID]:\n",
    "        mon.record_intersect(tr)\n",
    "\n",
    "# Read Out misses and events\n",
    "missesBySrc = dict()\n",
    "eventsBySrc = dict()\n",
    "for sID in sourceIDs:\n",
    "    missesBySrc.update({sID : monBySrc[sID].get_misses()})\n",
    "    eventsBySrc.update({sID : monBySrc[sID].get_events()})\n",
    "    \n",
    "#print(missesBySrc)"
   ]
  },
  {
   "cell_type": "code",
   "execution_count": null,
   "metadata": {},
   "outputs": [],
   "source": []
  }
 ],
 "metadata": {
  "kernelspec": {
   "display_name": "Python 3",
   "language": "python",
   "name": "python3"
  },
  "language_info": {
   "codemirror_mode": {
    "name": "ipython",
    "version": 3
   },
   "file_extension": ".py",
   "mimetype": "text/x-python",
   "name": "python",
   "nbconvert_exporter": "python",
   "pygments_lexer": "ipython3",
   "version": "3.6.3"
  }
 },
 "nbformat": 4,
 "nbformat_minor": 2
}
