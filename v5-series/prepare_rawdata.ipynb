{
 "cells": [
  {
   "cell_type": "markdown",
   "metadata": {},
   "source": [
    "# Pre-processing of CST trajectory files\n",
    "\n",
    "This notebook contains the instructions to split and reduce the output files from CST for quicker processing with the advanced routines"
   ]
  },
  {
   "cell_type": "code",
   "execution_count": 2,
   "metadata": {},
   "outputs": [],
   "source": [
    "import os\n",
    "from PhaseSpaceEval.cst_export_parser import split_output_file"
   ]
  },
  {
   "cell_type": "markdown",
   "metadata": {},
   "source": [
    "Quick check we are in the right directory"
   ]
  },
  {
   "cell_type": "code",
   "execution_count": 3,
   "metadata": {},
   "outputs": [
    {
     "data": {
      "text/plain": [
       "'M:\\\\ANALYSIS\\\\Switchyard\\\\v5-series'"
      ]
     },
     "execution_count": 3,
     "metadata": {},
     "output_type": "execute_result"
    }
   ],
   "source": [
    "os.getcwd()"
   ]
  },
  {
   "cell_type": "markdown",
   "metadata": {},
   "source": [
    "## Starting Plane\n",
    "Split the data for the starting plane as a reference plane for all simulations t<1ns (3 values)"
   ]
  },
  {
   "cell_type": "code",
   "execution_count": 7,
   "metadata": {},
   "outputs": [
    {
     "name": "stdout",
     "output_type": "stream",
     "text": [
      "Conversion complete.\n"
     ]
    }
   ],
   "source": [
    "split_output_file(\"rawdata_startingplane/startingplane.txt\", tmax = 1)"
   ]
  },
  {
   "cell_type": "markdown",
   "metadata": {},
   "source": [
    "## FlatPlates\n",
    "Split the flatplates data and exclude times smaller than 550 ns"
   ]
  },
  {
   "cell_type": "code",
   "execution_count": 5,
   "metadata": {},
   "outputs": [
    {
     "name": "stdout",
     "output_type": "stream",
     "text": [
      "Conversion complete.\n"
     ]
    }
   ],
   "source": [
    "split_output_file(\"rawdata_flatplates/flatplates.txt\", tmin = 550)"
   ]
  },
  {
   "cell_type": "markdown",
   "metadata": {},
   "source": [
    "## 200_FlatPlates\n",
    "Split the 200_flatplates data and exclude times smaller than 550 ns"
   ]
  },
  {
   "cell_type": "code",
   "execution_count": 5,
   "metadata": {},
   "outputs": [
    {
     "name": "stdout",
     "output_type": "stream",
     "text": [
      "Conversion complete.\n"
     ]
    }
   ],
   "source": [
    "split_output_file(\"rawdata_200_flatplates/200_flatplates.txt\", tmin = 550)"
   ]
  },
  {
   "cell_type": "markdown",
   "metadata": {},
   "source": [
    "## 200_FlatPlates_v2\n",
    "Split the 200_flatplates_v2 data and exclude times smaller than 550 ns"
   ]
  },
  {
   "cell_type": "code",
   "execution_count": 6,
   "metadata": {},
   "outputs": [
    {
     "name": "stdout",
     "output_type": "stream",
     "text": [
      "Conversion complete.\n"
     ]
    }
   ],
   "source": [
    "split_output_file(\"rawdata_200_flatplates_v2/200_flatplates_v2.txt\", tmin = 550)"
   ]
  },
  {
   "cell_type": "markdown",
   "metadata": {},
   "source": [
    "## 200_CylindricalPlates\n",
    "Split the 200_cylindricalplates data and exclude times smaller than 550 ns"
   ]
  },
  {
   "cell_type": "code",
   "execution_count": 4,
   "metadata": {},
   "outputs": [
    {
     "name": "stdout",
     "output_type": "stream",
     "text": [
      "Conversion complete.\n"
     ]
    }
   ],
   "source": [
    "split_output_file(\"rawdata_200_cylindricalplates/200_cylindricalplates.txt\", tmin = 550)"
   ]
  },
  {
   "cell_type": "markdown",
   "metadata": {},
   "source": [
    "## 200_CylindricalPlates_sizescan\n",
    "Split the 200_cylindricalplates data and exclude times smaller than 550 ns"
   ]
  },
  {
   "cell_type": "code",
   "execution_count": 8,
   "metadata": {},
   "outputs": [
    {
     "name": "stdout",
     "output_type": "stream",
     "text": [
      "Conversion complete.\n"
     ]
    }
   ],
   "source": [
    "split_output_file(\"rawdata_200_cylindricalplates_sizescan/200_cylindricalplates_sizescan.txt\", tmin = 550)"
   ]
  },
  {
   "cell_type": "markdown",
   "metadata": {},
   "source": [
    "## 200_FlatPlates_v2_sizescan\n",
    "Split the 200_flatplates_v2 data and exclude times smaller than 550 ns"
   ]
  },
  {
   "cell_type": "code",
   "execution_count": 7,
   "metadata": {},
   "outputs": [
    {
     "name": "stdout",
     "output_type": "stream",
     "text": [
      "Conversion complete.\n"
     ]
    }
   ],
   "source": [
    "split_output_file(\"rawdata_200_flatplates_v2_sizescan/200_flatplates_v2_sizescan.txt\", tmin = 550)"
   ]
  },
  {
   "cell_type": "markdown",
   "metadata": {},
   "source": [
    "## 200_sashasbender_sizescan\n",
    "Split the 200_sashasbender data and exclude times smaller than 550 ns"
   ]
  },
  {
   "cell_type": "code",
   "execution_count": 6,
   "metadata": {},
   "outputs": [
    {
     "name": "stdout",
     "output_type": "stream",
     "text": [
      "Conversion complete.\n"
     ]
    }
   ],
   "source": [
    "split_output_file(\"rawdata_200_sashasbender_sizescan/200_sashasbender_sizescan.txt\", tmin = 550)"
   ]
  },
  {
   "cell_type": "markdown",
   "metadata": {},
   "source": [
    "## 200_CylindricalPlates_30\n",
    "Split the 200_cylindricalplates_30 data and exclude times smaller than 550 ns"
   ]
  },
  {
   "cell_type": "code",
   "execution_count": 5,
   "metadata": {},
   "outputs": [
    {
     "name": "stdout",
     "output_type": "stream",
     "text": [
      "Conversion complete.\n"
     ]
    }
   ],
   "source": [
    "split_output_file(\"rawdata_200_cylindricalplates_30/200_cylindricalplates_30.txt\", tmin = 550)"
   ]
  },
  {
   "cell_type": "markdown",
   "metadata": {},
   "source": [
    "## SashasBender\n",
    "Split the SashasBender data and exclude times smaller than 550 ns"
   ]
  },
  {
   "cell_type": "code",
   "execution_count": 2,
   "metadata": {},
   "outputs": [
    {
     "name": "stdout",
     "output_type": "stream",
     "text": [
      "Conversion complete.\n"
     ]
    }
   ],
   "source": [
    "split_output_file(\"rawdata_sashasbender/sashasbender.txt\", tmin = 550)"
   ]
  },
  {
   "cell_type": "markdown",
   "metadata": {},
   "source": [
    "## 200_SashasBender\n",
    "Split the 200_SashasBender data and exclude times smaller than 550 ns"
   ]
  },
  {
   "cell_type": "code",
   "execution_count": 6,
   "metadata": {},
   "outputs": [
    {
     "name": "stdout",
     "output_type": "stream",
     "text": [
      "Conversion complete.\n"
     ]
    }
   ],
   "source": [
    "split_output_file(\"rawdata_200_sashasbender/200_sashasbender.txt\", tmin = 550)"
   ]
  },
  {
   "cell_type": "markdown",
   "metadata": {},
   "source": [
    "## 200_SashasBender_v2\n",
    "Split the 200_SashasBender_v2 data and exclude times smaller than 550 ns"
   ]
  },
  {
   "cell_type": "code",
   "execution_count": 3,
   "metadata": {},
   "outputs": [
    {
     "name": "stdout",
     "output_type": "stream",
     "text": [
      "Conversion complete.\n"
     ]
    }
   ],
   "source": [
    "split_output_file(\"rawdata_200_sashasbender_v2/200_sashasbender_v2.txt\", tmin = 550)"
   ]
  },
  {
   "cell_type": "markdown",
   "metadata": {},
   "source": [
    "## SashasBender_Tetmesh\n",
    "Split the SashasBender_Tetmesh data and exclude times smaller than 550 ns"
   ]
  },
  {
   "cell_type": "code",
   "execution_count": 3,
   "metadata": {},
   "outputs": [
    {
     "name": "stdout",
     "output_type": "stream",
     "text": [
      "Conversion complete.\n"
     ]
    }
   ],
   "source": [
    "split_output_file(\"rawdata_sashasbender_tetmesh/sashasbender_tetmesh.txt\", tmin = 550)"
   ]
  },
  {
   "cell_type": "markdown",
   "metadata": {},
   "source": [
    "## SashasBender_Hexdoubleres\n",
    "Split the SashasBender_Hexdoubleres data and exclude times smaller than 550 ns"
   ]
  },
  {
   "cell_type": "code",
   "execution_count": 2,
   "metadata": {},
   "outputs": [
    {
     "name": "stdout",
     "output_type": "stream",
     "text": [
      "Conversion complete.\n"
     ]
    }
   ],
   "source": [
    "split_output_file(\"rawdata_sashasbender_hexdoubleres/sashasbender_hexdoubleres.txt\", tmin = 550)"
   ]
  },
  {
   "cell_type": "markdown",
   "metadata": {},
   "source": [
    "## Cylinder\n",
    "Split the Cylinder data and exclude times smaller than 560 ns"
   ]
  },
  {
   "cell_type": "code",
   "execution_count": 4,
   "metadata": {},
   "outputs": [
    {
     "name": "stdout",
     "output_type": "stream",
     "text": [
      "Conversion complete.\n"
     ]
    }
   ],
   "source": [
    "split_output_file(\"rawdata_cylinder/cylinder.txt\", tmin = 560)"
   ]
  },
  {
   "cell_type": "markdown",
   "metadata": {},
   "source": [
    "## Cylinder_Rotated\n",
    "Split the Cylinder_Rotated data and exclude times smaller than 560 ns"
   ]
  },
  {
   "cell_type": "code",
   "execution_count": 3,
   "metadata": {},
   "outputs": [
    {
     "name": "stdout",
     "output_type": "stream",
     "text": [
      "Conversion complete.\n"
     ]
    }
   ],
   "source": [
    "split_output_file(\"rawdata_cylinder_rotated/cylinder_rotated.txt\", tmin = 550)"
   ]
  },
  {
   "cell_type": "markdown",
   "metadata": {},
   "source": [
    "## Cylinder_Termination\n",
    "Split the Cylinder_Termination data and exclude times smaller than 560 ns"
   ]
  },
  {
   "cell_type": "code",
   "execution_count": 4,
   "metadata": {},
   "outputs": [
    {
     "name": "stdout",
     "output_type": "stream",
     "text": [
      "Conversion complete.\n"
     ]
    }
   ],
   "source": [
    "split_output_file(\"rawdata_cylinder_termination/cylinder_termination.txt\", tmin = 550)"
   ]
  },
  {
   "cell_type": "markdown",
   "metadata": {},
   "source": [
    "## Segmented\n",
    "Split the Segmented data and exclude times smaller than 550 ns"
   ]
  },
  {
   "cell_type": "code",
   "execution_count": 3,
   "metadata": {},
   "outputs": [
    {
     "name": "stdout",
     "output_type": "stream",
     "text": [
      "Conversion complete.\n"
     ]
    }
   ],
   "source": [
    "split_output_file(\"rawdata_segmented/segmented.txt\", tmin = 550)"
   ]
  },
  {
   "cell_type": "markdown",
   "metadata": {},
   "source": [
    "## placebo\n",
    "Split the placebo data and exclude times smaller than 540 ns"
   ]
  },
  {
   "cell_type": "code",
   "execution_count": 3,
   "metadata": {},
   "outputs": [
    {
     "name": "stdout",
     "output_type": "stream",
     "text": [
      "Conversion complete.\n"
     ]
    }
   ],
   "source": [
    "split_output_file(\"rawdata_placebo/placebo.txt\", tmin = 540)"
   ]
  },
  {
   "cell_type": "markdown",
   "metadata": {},
   "source": [
    "## CylindricalPlates\n",
    "Split the CylindricalPlates data and exclude times smaller than 550 ns"
   ]
  },
  {
   "cell_type": "code",
   "execution_count": 3,
   "metadata": {},
   "outputs": [
    {
     "name": "stdout",
     "output_type": "stream",
     "text": [
      "Conversion complete.\n"
     ]
    }
   ],
   "source": [
    "split_output_file(\"rawdata_cylindricalplates/cylindricalplates.txt\", tmin = 550)"
   ]
  },
  {
   "cell_type": "markdown",
   "metadata": {},
   "source": [
    "## CylindricalPlatesAsymm\n",
    "Split the CylindricalPlatesAsymm data and exclude times smaller than 550 ns"
   ]
  },
  {
   "cell_type": "code",
   "execution_count": 3,
   "metadata": {},
   "outputs": [
    {
     "name": "stdout",
     "output_type": "stream",
     "text": [
      "Conversion complete.\n"
     ]
    }
   ],
   "source": [
    "split_output_file(\"rawdata_cylindricalplatesasymm/cylindricalplatesasymm.txt\", tmin = 550)"
   ]
  },
  {
   "cell_type": "markdown",
   "metadata": {},
   "source": [
    "## SphericalPlates\n",
    "Split the SphericalPlates data and exclude times smaller than 550 ns"
   ]
  },
  {
   "cell_type": "code",
   "execution_count": 4,
   "metadata": {},
   "outputs": [
    {
     "name": "stdout",
     "output_type": "stream",
     "text": [
      "Conversion complete.\n"
     ]
    }
   ],
   "source": [
    "split_output_file(\"rawdata_sphericalplates/sphericalplates.txt\", tmin = 550)"
   ]
  },
  {
   "cell_type": "markdown",
   "metadata": {},
   "source": [
    "## SphericalCone\n",
    "Split the SphericalCone data and exclude times smaller than 550 ns"
   ]
  },
  {
   "cell_type": "code",
   "execution_count": 5,
   "metadata": {},
   "outputs": [
    {
     "name": "stdout",
     "output_type": "stream",
     "text": [
      "Conversion complete.\n"
     ]
    }
   ],
   "source": [
    "split_output_file(\"rawdata_sphericalcone/sphericalcone.txt\", tmin = 550)"
   ]
  },
  {
   "cell_type": "markdown",
   "metadata": {},
   "source": [
    "## v6_base_no_einzel\n",
    "Split the v6_base_no_einzel data and exclude times smaller than 970 ns"
   ]
  },
  {
   "cell_type": "code",
   "execution_count": 5,
   "metadata": {},
   "outputs": [
    {
     "name": "stdout",
     "output_type": "stream",
     "text": [
      "Conversion complete.\n"
     ]
    }
   ],
   "source": [
    "split_output_file(\"rawdata_v6_base_no_einzel/v6_base_no_einzel.txt\", tmin = 970)"
   ]
  },
  {
   "cell_type": "markdown",
   "metadata": {},
   "source": [
    "## v6_base_with_einzel\n",
    "Split the v6_base_with_einzel data and exclude times smaller than 970 ns"
   ]
  },
  {
   "cell_type": "code",
   "execution_count": 6,
   "metadata": {},
   "outputs": [
    {
     "name": "stdout",
     "output_type": "stream",
     "text": [
      "Conversion complete.\n"
     ]
    }
   ],
   "source": [
    "split_output_file(\"rawdata_v6_base_with_einzel/v6_base_with_einzel.txt\", tmin = 970)"
   ]
  },
  {
   "cell_type": "code",
   "execution_count": null,
   "metadata": {},
   "outputs": [],
   "source": []
  }
 ],
 "metadata": {
  "kernelspec": {
   "display_name": "Python 3",
   "language": "python",
   "name": "python3"
  },
  "language_info": {
   "codemirror_mode": {
    "name": "ipython",
    "version": 3
   },
   "file_extension": ".py",
   "mimetype": "text/x-python",
   "name": "python",
   "nbconvert_exporter": "python",
   "pygments_lexer": "ipython3",
   "version": "3.6.3"
  }
 },
 "nbformat": 4,
 "nbformat_minor": 2
}
