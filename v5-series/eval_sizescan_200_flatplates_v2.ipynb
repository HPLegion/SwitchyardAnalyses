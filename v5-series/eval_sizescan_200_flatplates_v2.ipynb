{
 "cells": [
  {
   "cell_type": "markdown",
   "metadata": {},
   "source": [
    "# Evalutation of the 200_flatplates_v2 Sizescan\n",
    "\n",
    "extract the emittances for all offsets and safe in a csv"
   ]
  },
  {
   "cell_type": "code",
   "execution_count": 18,
   "metadata": {},
   "outputs": [],
   "source": [
    "import os\n",
    "import numpy as np\n",
    "import pandas as pd\n",
    "import altair as alt\n",
    "alt.enable_mime_rendering()\n",
    "import scipy.constants\n",
    "\n",
    "import PhaseSpaceEval.monitor_quantities as monq\n",
    "from PhaseSpaceEval.import_particle_data import *\n",
    "from PhaseSpaceEval.trajectory import Trajectory\n",
    "from PhaseSpaceEval.particlemonitor import ParticleMonitor"
   ]
  },
  {
   "cell_type": "markdown",
   "metadata": {},
   "source": [
    "## Import Raw Data and set filename *!!! ADJUST FILENAMES HERE !!!*"
   ]
  },
  {
   "cell_type": "code",
   "execution_count": 19,
   "metadata": {},
   "outputs": [],
   "source": [
    "MODELNAME = \"200_flatplates_v2_sizescan\"\n",
    "RAW_PATH = \"rawdata_\" + MODELNAME + \"/\"\n",
    "EMIT_FILENAME = \"sc_emit_\" + MODELNAME + \".csv\" # Name for the emittance output file\n",
    "#MON_FILENAME = \"mon_\" + MODELNAME + \".csv\" # Name for the monitors output file\n",
    "\n",
    "particle_source_names = import_source_names(RAW_PATH + MODELNAME + \"-source_names.txt\")\n",
    "particle_constants = import_particle_constants(RAW_PATH + MODELNAME + \"-constants.txt\")\n",
    "particle_trajectories = import_particle_trajectories(RAW_PATH + MODELNAME + \"-trajectories.txt\")"
   ]
  },
  {
   "cell_type": "markdown",
   "metadata": {},
   "source": [
    "## Create convenient lists\n",
    "### Raw Data"
   ]
  },
  {
   "cell_type": "code",
   "execution_count": 20,
   "metadata": {},
   "outputs": [],
   "source": [
    "# Delete the single_centre source, not required\n",
    "for key in particle_source_names.keys():\n",
    "    if particle_source_names[key] == \"single_centre\":\n",
    "        del(particle_source_names[key])\n",
    "        break\n",
    "        \n",
    "# Generate simple list with all source IDs\n",
    "sourceIDs = list(particle_source_names.keys())\n",
    "#print(sourceIDs)\n",
    "\n",
    "# Create lists with all particles belonging to a source and with the id of the central particles\n",
    "particlesBySrc = dict() # dict for all particleIDs\n",
    "centresBySrc = dict() # dict with the ids of the central particles\n",
    "for sID in sourceIDs:\n",
    "    pIDs = particle_constants[\"particleID\"].loc[particle_constants[\"sourceID\"] == sID].tolist()\n",
    "    particlesBySrc.update({sID : pIDs})\n",
    "    centresBySrc.update({sID : min(pIDs)}) # the smallest pID for each source is the centre\n",
    "#print(particlesBySrc)\n",
    "#print(centresBySrc)"
   ]
  },
  {
   "cell_type": "markdown",
   "metadata": {},
   "source": [
    "### Trajectories"
   ]
  },
  {
   "cell_type": "code",
   "execution_count": 21,
   "metadata": {},
   "outputs": [
    {
     "name": "stdout",
     "output_type": "stream",
     "text": [
      "[2750, 3028, 3079, 3094, 3160, 3195, 3341, 3697, 3717, 3790, 3794, 3799, 3812, 3923, 4028, 4039, 4117, 4119, 4150, 4155, 4165, 4326, 4331, 4349, 4370, 4409, 4422, 4446, 4467, 4487, 4499, 4554, 4566, 4606, 4734, 4736, 4814, 4841, 4848, 4851, 4859, 4877, 4897, 4908, 4933, 5007, 5042, 5067, 5078, 5113, 5120, 5183, 5241, 5248, 5254, 5264, 5270, 5274, 5286, 5315, 5324, 5331, 5366, 5393, 5397, 5422, 5504, 5562, 5576, 5592, 5624, 5662, 5686, 5736, 5741, 5746, 5766, 5787, 5789, 5800, 5810, 5837, 5848, 5850, 5861, 5889, 5900, 5901, 5914, 5918, 5928, 5943, 5960, 5962, 6014, 6021, 6030, 6033, 6052, 6060, 6062, 6066, 6071, 6073, 6084, 6085, 6089, 6094, 6097, 6105, 6106, 6111, 6134, 6136, 6140, 6142, 6143, 6154, 6157, 6161, 6163, 6181, 6189, 6191, 6192, 6194, 6197, 6199, 6215, 6236, 6239, 6244, 6245, 6256, 6262, 6266, 6282, 6300, 6309, 6316, 6330, 6365, 6368, 6387, 6410, 6415, 6445, 6464, 6475, 6520, 6536, 6561, 6569, 6587, 6591, 6592, 6593, 6596, 6610, 6618, 6630, 6636, 6639, 6651, 6659, 6660, 6681, 6698, 6702, 6706, 6711, 6736, 6754, 6760, 6772, 6794, 6798, 6826, 6851, 6865, 6870, 6885, 6898, 6917, 6927, 6943, 6949, 6950, 6952, 6959, 6962, 6968, 6985, 6989, 7000, 7002, 7003, 7018, 7019, 7022, 7023, 7027, 7061, 7073, 7076, 7080, 7093, 7094, 7099, 7107, 7115, 7117, 7130, 7153, 7157, 7160, 7164, 7168, 7174, 7180, 7183, 7193, 7194, 7198, 7199, 7204, 7213, 7218, 7228, 7234, 7242, 7243, 7264, 7270, 7288, 7291, 7297, 7298, 7299, 7302, 7306, 7308, 7331, 7340, 7350, 7369, 7375, 7376, 7381, 7387, 7393, 7394, 7396, 7399, 7409, 7412, 7423, 7429, 7434, 7437, 7438, 7450, 7456, 7461, 7470, 7471, 7492, 7503, 7504, 7508, 7514, 7518, 7521, 7524, 7527, 7528, 7529, 7533, 7540, 7553, 7561, 7568, 7574, 7578, 7583, 7589, 7590, 7593, 7602, 7607, 7608, 7611, 7612, 7615, 7623, 7632, 7634, 7640, 7649, 7670, 7685, 7688, 7709, 7717, 7720, 7727, 7747, 7756, 7758, 7761, 7779, 7789, 7792, 7795, 7796, 7811, 7817, 7830, 7835, 7836, 7852, 7865, 7867, 7871, 7894, 7897, 7902, 7913, 7916, 7923, 7927, 7934, 7940, 7965, 8005, 8007, 8009, 8013, 8016, 8019, 8037, 8057, 8058, 8059, 8067, 8069, 8072, 8083, 8086, 8091, 8095, 8096, 8097, 8100, 8104, 8118, 8120, 8126, 8134, 8143, 8159, 8171, 8182, 8198, 8205, 8215, 8218, 8221, 8224, 8231, 8237, 8238, 8239, 8240, 8247, 8252, 8253, 8254, 8256, 8259, 8263, 8265, 8286, 8293, 8295, 8307, 8319, 8320, 8323, 8327, 8328, 8329, 8330, 8339, 8349, 8352, 8357, 8359, 8369, 8373, 8378, 8382, 8393, 8394, 8401, 8405, 8415, 8418, 8428, 8435, 8437, 8454, 8455, 8459, 8460, 8466, 8472, 8476, 8478, 8493, 8495, 8509, 8514, 8515, 8524, 8538, 8540, 8549, 8552, 8553, 8555, 8559, 8565, 8568, 8589, 8592, 8593, 8595, 8599, 8602, 8610, 8621, 8636, 8637, 8638, 8640, 8641, 8651, 8655, 8659, 8664, 8669, 8679, 8684, 8685, 8693, 8712, 8714, 8717, 8720, 8724, 8725, 8728, 8729, 8744, 8747, 8750, 8753, 8756, 8759, 8774, 8775, 8779, 8783, 8785, 8788, 8797, 8802, 8803, 8805, 8810, 8815, 8826, 8839, 8841, 8843, 8844, 8847, 8850, 8857, 8858, 8871, 8874, 8884, 8887, 8906, 8908, 8917, 8920, 8927, 8935, 8947, 8959, 8965, 8969, 8973, 8978, 8989, 9002]\n"
     ]
    }
   ],
   "source": [
    "# Create Trajectories\n",
    "trajsBySrc = dict() # Dict for all trajectories\n",
    "ctrajsBySrc = dict() # Dict for central trajectories\n",
    "lostParticles = list()\n",
    "for sID in sourceIDs:\n",
    "    # Compute central trajectory for each sID\n",
    "    cID = centresBySrc[sID]\n",
    "    ctr = Trajectory(particle_trajectories[cID],\n",
    "                     particle_constants.loc[particle_constants[\"particleID\"] == cID].squeeze())\n",
    "    ctrajsBySrc.update({sID : ctr})\n",
    "\n",
    "    # For each sID compute the trajectories of all pIDs\n",
    "    # Note Particles that cannot be found in trajectory dataframe, these were lost\n",
    "    pIDs = particlesBySrc[sID]\n",
    "    trajs = list()\n",
    "    for pID in pIDs:\n",
    "        try:\n",
    "            tr = Trajectory(particle_trajectories[pID],\n",
    "                            particle_constants.loc[particle_constants[\"particleID\"] == pID].squeeze())\n",
    "        except KeyError:\n",
    "            lostParticles.append(pID)\n",
    "        trajs.append(tr)\n",
    "    trajsBySrc.update({sID : trajs})\n",
    "print(lostParticles)"
   ]
  },
  {
   "cell_type": "markdown",
   "metadata": {},
   "source": [
    "### Monitors"
   ]
  },
  {
   "cell_type": "code",
   "execution_count": 22,
   "metadata": {},
   "outputs": [],
   "source": [
    "# Create Monitors\n",
    "monBySrc = dict()\n",
    "for sID in sourceIDs:\n",
    "    ctr = ctrajsBySrc[sID]\n",
    "    t0 = ctr.find_time(\"z\", 501)\n",
    "    mon = ParticleMonitor(time0=t0, trajectory=ctr)\n",
    "    monBySrc.update({sID : mon})"
   ]
  },
  {
   "cell_type": "markdown",
   "metadata": {},
   "source": [
    "## Record Monitor Interactions"
   ]
  },
  {
   "cell_type": "code",
   "execution_count": 23,
   "metadata": {},
   "outputs": [],
   "source": [
    "# Record Monitor Interactions\n",
    "for sID in sourceIDs:\n",
    "    mon = monBySrc[sID]\n",
    "    mon.reset_events()\n",
    "    mon.reset_misses()\n",
    "    for tr in trajsBySrc[sID]:\n",
    "        mon.record_intersect(tr)\n",
    "\n",
    "# Read Out misses and events\n",
    "missesBySrc = dict()\n",
    "eventsBySrc = dict()\n",
    "for sID in sourceIDs:\n",
    "    missesBySrc.update({sID : monBySrc[sID].get_misses()})\n",
    "    eventsBySrc.update({sID : monBySrc[sID].get_events()})\n",
    "#print(missesBySrc)\n",
    "\n",
    "# Add lost particles to miss counter\n",
    "for pID in lostParticles:\n",
    "    for sID in sourceIDs:\n",
    "        if pID in particlesBySrc[sID]:\n",
    "            missesBySrc[sID] += 1\n",
    "#print(missesBySrc)"
   ]
  },
  {
   "cell_type": "markdown",
   "metadata": {},
   "source": [
    "## Export Monitor Interactions"
   ]
  },
  {
   "cell_type": "code",
   "execution_count": 24,
   "metadata": {},
   "outputs": [
    {
     "data": {
      "text/plain": [
       "'export_events = pd.DataFrame()\\nfor sID in sourceIDs:\\n    events = eventsBySrc[sID].copy()\\n    events[\"sourceID\"] = sID\\n    events[\"sourceName\"] = particle_source_names[sID]\\n    export_events = export_events.append(events, ignore_index=True)\\nexport_events.to_csv(MON_FILENAME)'"
      ]
     },
     "execution_count": 24,
     "metadata": {},
     "output_type": "execute_result"
    }
   ],
   "source": [
    "'''export_events = pd.DataFrame()\n",
    "for sID in sourceIDs:\n",
    "    events = eventsBySrc[sID].copy()\n",
    "    events[\"sourceID\"] = sID\n",
    "    events[\"sourceName\"] = particle_source_names[sID]\n",
    "    export_events = export_events.append(events, ignore_index=True)\n",
    "export_events.to_csv(MON_FILENAME)'''"
   ]
  },
  {
   "cell_type": "markdown",
   "metadata": {},
   "source": [
    "## Compute and save emittances"
   ]
  },
  {
   "cell_type": "code",
   "execution_count": 25,
   "metadata": {},
   "outputs": [
    {
     "data": {
      "text/html": [
       "<div>\n",
       "<style>\n",
       "    .dataframe thead tr:only-child th {\n",
       "        text-align: right;\n",
       "    }\n",
       "\n",
       "    .dataframe thead th {\n",
       "        text-align: left;\n",
       "    }\n",
       "\n",
       "    .dataframe tbody tr th {\n",
       "        vertical-align: top;\n",
       "    }\n",
       "</style>\n",
       "<table border=\"1\" class=\"dataframe\">\n",
       "  <thead>\n",
       "    <tr style=\"text-align: right;\">\n",
       "      <th></th>\n",
       "      <th>sourceID</th>\n",
       "      <th>sourceName</th>\n",
       "      <th>beamsize</th>\n",
       "      <th>x_emittance</th>\n",
       "      <th>y_emittance</th>\n",
       "      <th>x_norm_emittance</th>\n",
       "      <th>y_norm_emittance</th>\n",
       "      <th>losses</th>\n",
       "      <th>relbeta</th>\n",
       "    </tr>\n",
       "  </thead>\n",
       "  <tbody>\n",
       "    <tr>\n",
       "      <th>0</th>\n",
       "      <td>16777217</td>\n",
       "      <td>bs_1</td>\n",
       "      <td>1.0</td>\n",
       "      <td>0.003786</td>\n",
       "      <td>0.001385</td>\n",
       "      <td>0.000009</td>\n",
       "      <td>0.000003</td>\n",
       "      <td>0</td>\n",
       "      <td>0.002309</td>\n",
       "    </tr>\n",
       "    <tr>\n",
       "      <th>1</th>\n",
       "      <td>16777218</td>\n",
       "      <td>bs_4</td>\n",
       "      <td>4.0</td>\n",
       "      <td>0.167181</td>\n",
       "      <td>0.090091</td>\n",
       "      <td>0.000386</td>\n",
       "      <td>0.000208</td>\n",
       "      <td>0</td>\n",
       "      <td>0.002309</td>\n",
       "    </tr>\n",
       "    <tr>\n",
       "      <th>2</th>\n",
       "      <td>16777219</td>\n",
       "      <td>bs_7</td>\n",
       "      <td>7.0</td>\n",
       "      <td>0.947837</td>\n",
       "      <td>0.432224</td>\n",
       "      <td>0.002188</td>\n",
       "      <td>0.000998</td>\n",
       "      <td>0</td>\n",
       "      <td>0.002309</td>\n",
       "    </tr>\n",
       "    <tr>\n",
       "      <th>3</th>\n",
       "      <td>16777220</td>\n",
       "      <td>bs_10</td>\n",
       "      <td>10.0</td>\n",
       "      <td>2.880518</td>\n",
       "      <td>1.488969</td>\n",
       "      <td>0.006650</td>\n",
       "      <td>0.003437</td>\n",
       "      <td>0</td>\n",
       "      <td>0.002309</td>\n",
       "    </tr>\n",
       "    <tr>\n",
       "      <th>4</th>\n",
       "      <td>16777221</td>\n",
       "      <td>bs_13</td>\n",
       "      <td>13.0</td>\n",
       "      <td>6.623721</td>\n",
       "      <td>3.514691</td>\n",
       "      <td>0.015291</td>\n",
       "      <td>0.008114</td>\n",
       "      <td>1</td>\n",
       "      <td>0.002309</td>\n",
       "    </tr>\n",
       "    <tr>\n",
       "      <th>5</th>\n",
       "      <td>16777222</td>\n",
       "      <td>bs_16</td>\n",
       "      <td>16.0</td>\n",
       "      <td>12.821551</td>\n",
       "      <td>5.944437</td>\n",
       "      <td>0.029599</td>\n",
       "      <td>0.013723</td>\n",
       "      <td>13</td>\n",
       "      <td>0.002309</td>\n",
       "    </tr>\n",
       "    <tr>\n",
       "      <th>6</th>\n",
       "      <td>16777223</td>\n",
       "      <td>bs_19</td>\n",
       "      <td>19.0</td>\n",
       "      <td>21.964178</td>\n",
       "      <td>13.857623</td>\n",
       "      <td>0.050706</td>\n",
       "      <td>0.031991</td>\n",
       "      <td>31</td>\n",
       "      <td>0.002309</td>\n",
       "    </tr>\n",
       "    <tr>\n",
       "      <th>7</th>\n",
       "      <td>16777224</td>\n",
       "      <td>bs_22</td>\n",
       "      <td>22.0</td>\n",
       "      <td>31.249723</td>\n",
       "      <td>23.235770</td>\n",
       "      <td>0.072142</td>\n",
       "      <td>0.053641</td>\n",
       "      <td>49</td>\n",
       "      <td>0.002309</td>\n",
       "    </tr>\n",
       "    <tr>\n",
       "      <th>8</th>\n",
       "      <td>16777225</td>\n",
       "      <td>bs_25</td>\n",
       "      <td>25.0</td>\n",
       "      <td>38.987028</td>\n",
       "      <td>31.178373</td>\n",
       "      <td>0.090004</td>\n",
       "      <td>0.071977</td>\n",
       "      <td>103</td>\n",
       "      <td>0.002309</td>\n",
       "    </tr>\n",
       "    <tr>\n",
       "      <th>9</th>\n",
       "      <td>16777226</td>\n",
       "      <td>bs_28</td>\n",
       "      <td>28.0</td>\n",
       "      <td>47.066802</td>\n",
       "      <td>39.813187</td>\n",
       "      <td>0.108657</td>\n",
       "      <td>0.091911</td>\n",
       "      <td>139</td>\n",
       "      <td>0.002309</td>\n",
       "    </tr>\n",
       "    <tr>\n",
       "      <th>10</th>\n",
       "      <td>16777227</td>\n",
       "      <td>bs_31</td>\n",
       "      <td>31.0</td>\n",
       "      <td>62.186184</td>\n",
       "      <td>59.138724</td>\n",
       "      <td>0.143561</td>\n",
       "      <td>0.136525</td>\n",
       "      <td>173</td>\n",
       "      <td>0.002309</td>\n",
       "    </tr>\n",
       "  </tbody>\n",
       "</table>\n",
       "</div>"
      ],
      "text/plain": [
       "    sourceID sourceName  beamsize  x_emittance  y_emittance  x_norm_emittance  \\\n",
       "0   16777217       bs_1       1.0     0.003786     0.001385          0.000009   \n",
       "1   16777218       bs_4       4.0     0.167181     0.090091          0.000386   \n",
       "2   16777219       bs_7       7.0     0.947837     0.432224          0.002188   \n",
       "3   16777220      bs_10      10.0     2.880518     1.488969          0.006650   \n",
       "4   16777221      bs_13      13.0     6.623721     3.514691          0.015291   \n",
       "5   16777222      bs_16      16.0    12.821551     5.944437          0.029599   \n",
       "6   16777223      bs_19      19.0    21.964178    13.857623          0.050706   \n",
       "7   16777224      bs_22      22.0    31.249723    23.235770          0.072142   \n",
       "8   16777225      bs_25      25.0    38.987028    31.178373          0.090004   \n",
       "9   16777226      bs_28      28.0    47.066802    39.813187          0.108657   \n",
       "10  16777227      bs_31      31.0    62.186184    59.138724          0.143561   \n",
       "\n",
       "    y_norm_emittance losses   relbeta  \n",
       "0           0.000003      0  0.002309  \n",
       "1           0.000208      0  0.002309  \n",
       "2           0.000998      0  0.002309  \n",
       "3           0.003437      0  0.002309  \n",
       "4           0.008114      1  0.002309  \n",
       "5           0.013723     13  0.002309  \n",
       "6           0.031991     31  0.002309  \n",
       "7           0.053641     49  0.002309  \n",
       "8           0.071977    103  0.002309  \n",
       "9           0.091911    139  0.002309  \n",
       "10          0.136525    173  0.002309  "
      ]
     },
     "execution_count": 25,
     "metadata": {},
     "output_type": "execute_result"
    }
   ],
   "source": [
    "# Compute and save emittances\n",
    "colnames = [\"sourceID\", \"sourceName\", \"beamsize\", \"x_emittance\", \"y_emittance\",\n",
    "            \"x_norm_emittance\", \"y_norm_emittance\", \"losses\", \"relbeta\"]\n",
    "emit_df = pd.DataFrame(columns=colnames)\n",
    "emit_temp = pd.DataFrame([np.zeros(len(colnames))], columns=colnames)\n",
    "for sID in sourceIDs:\n",
    "    name = particle_source_names[sID]\n",
    "    bs = float(name.split('_')[1])\n",
    "    xemit = monq.emittance_u(eventsBySrc[sID])\n",
    "    yemit = monq.emittance_v(eventsBySrc[sID])\n",
    "    # Compute rel. beta for the screen 1e6 mm/ns ->m/s\n",
    "    beta = monBySrc[sID].abs_vel / scipy.constants.speed_of_light * 1e6\n",
    "    xemit_n = beta * (1 - beta**2)**(-0.5) * xemit # beta * gamme * emit\n",
    "    yemit_n = beta * (1 - beta**2)**(-0.5) * yemit\n",
    "    losses = missesBySrc[sID]\n",
    "    \n",
    "    emit_temp[\"sourceID\"] = sID\n",
    "    emit_temp[\"sourceName\"] = name\n",
    "    emit_temp[\"beamsize\"] = bs\n",
    "    emit_temp[\"x_emittance\"] = xemit\n",
    "    emit_temp[\"y_emittance\"] = yemit\n",
    "    emit_temp[\"x_norm_emittance\"] = xemit_n\n",
    "    emit_temp[\"y_norm_emittance\"] = yemit_n\n",
    "    emit_temp[\"losses\"] = losses\n",
    "    emit_temp[\"relbeta\"] = beta\n",
    "\n",
    "    emit_df = emit_df.append(emit_temp, ignore_index=True)\n",
    "\n",
    "emit_df.sort_values([\"beamsize\"], inplace=True)\n",
    "emit_df.reset_index(inplace=True, drop=True)\n",
    "\n",
    "# Load emittance data from startinplane to compute relative emittance growth\n",
    "#emit_start = pd.read_csv(\"emit_startingplane.csv\", index_col=0)\n",
    "#emit_df[\"x_emittance_rel\"] = emit_df[\"x_emittance\"]/emit_start[\"x_emittance\"]\n",
    "#emit_df[\"y_emittance_rel\"] = emit_df[\"y_emittance\"]/emit_start[\"y_emittance\"]\n",
    "# Save emittance table\n",
    "emit_df.to_csv(EMIT_FILENAME)\n",
    "# Show head for debugging purposes\n",
    "emit_df"
   ]
  },
  {
   "cell_type": "markdown",
   "metadata": {},
   "source": [
    "## Plots"
   ]
  },
  {
   "cell_type": "code",
   "execution_count": 26,
   "metadata": {},
   "outputs": [
    {
     "data": {
      "application/vnd.vegalite.v1+json": {
       "$schema": "https://vega.github.io/schema/vega-lite/v1.2.1.json",
       "data": {
        "values": [
         {
          "beamsize": 1,
          "losses": 0,
          "relbeta": 0.0023085548024063523,
          "sourceID": 16777217,
          "sourceName": "bs_1",
          "x_emittance": 0.003785799755055891,
          "x_norm_emittance": 8.739749494435028e-06,
          "y_emittance": 0.0013846014986091254,
          "y_norm_emittance": 3.1964369566304316e-06
         },
         {
          "beamsize": 4,
          "losses": 0,
          "relbeta": 0.0023085543790405763,
          "sourceID": 16777218,
          "sourceName": "bs_4",
          "x_emittance": 0.167180861326158,
          "x_norm_emittance": 0.0003859471379454864,
          "y_emittance": 0.09009050969750652,
          "y_norm_emittance": 0.00020797939487803322
         },
         {
          "beamsize": 7,
          "losses": 0,
          "relbeta": 0.0023085543454627066,
          "sourceID": 16777219,
          "sourceName": "bs_7",
          "x_emittance": 0.9478372151799143,
          "x_norm_emittance": 0.002188139552663441,
          "y_emittance": 0.4322235469036622,
          "y_norm_emittance": 0.000997814206306369
         },
         {
          "beamsize": 10,
          "losses": 0,
          "relbeta": 0.0023085541916497473,
          "sourceID": 16777220,
          "sourceName": "bs_10",
          "x_emittance": 2.8805179856998344,
          "x_norm_emittance": 0.0066498495899623145,
          "y_emittance": 1.4889690695876105,
          "y_norm_emittance": 0.0034373749464571206
         },
         {
          "beamsize": 13,
          "losses": 1,
          "relbeta": 0.0023085537669924514,
          "sourceID": 16777221,
          "sourceName": "bs_13",
          "x_emittance": 6.6237207913931915,
          "x_norm_emittance": 0.015291256331298707,
          "y_emittance": 3.51469093594615,
          "y_norm_emittance": 0.008113874621146367
         },
         {
          "beamsize": 16,
          "losses": 13,
          "relbeta": 0.0023085536901938254,
          "sourceID": 16777222,
          "sourceName": "bs_16",
          "x_emittance": 12.821550977494804,
          "x_norm_emittance": 0.02959931769680891,
          "y_emittance": 5.94443658753802,
          "y_norm_emittance": 0.0137230875883825
         },
         {
          "beamsize": 19,
          "losses": 31,
          "relbeta": 0.0023085536385072,
          "sourceID": 16777223,
          "sourceName": "bs_19",
          "x_emittance": 21.964178204408416,
          "x_norm_emittance": 0.05070561862655413,
          "y_emittance": 13.857623111746522,
          "y_norm_emittance": 0.03199115150293723
         },
         {
          "beamsize": 22,
          "losses": 49,
          "relbeta": 0.002308553740984763,
          "sourceID": 16777224,
          "sourceName": "bs_22",
          "x_emittance": 31.249723140739782,
          "x_norm_emittance": 0.0721418574986917,
          "y_emittance": 23.23577042356006,
          "y_norm_emittance": 0.05364116767432911
         },
         {
          "beamsize": 25,
          "losses": 103,
          "relbeta": 0.002308553714955248,
          "sourceID": 16777225,
          "sourceName": "bs_25",
          "x_emittance": 38.98702805296791,
          "x_norm_emittance": 0.09000388828133568,
          "y_emittance": 31.178372983516283,
          "y_norm_emittance": 0.07197714057582782
         },
         {
          "beamsize": 28,
          "losses": 139,
          "relbeta": 0.002308553837947157,
          "sourceID": 16777226,
          "sourceName": "bs_28",
          "x_emittance": 47.06680224821667,
          "x_norm_emittance": 0.10865653650861035,
          "y_emittance": 39.813186913010405,
          "y_norm_emittance": 0.09191113036581003
         },
         {
          "beamsize": 31,
          "losses": 173,
          "relbeta": 0.002308553692975918,
          "sourceID": 16777227,
          "sourceName": "bs_31",
          "x_emittance": 62.186183804338036,
          "x_norm_emittance": 0.1435605268212759,
          "y_emittance": 59.138723879640665,
          "y_norm_emittance": 0.13652528321101018
         }
        ]
       },
       "encoding": {
        "x": {
         "field": "beamsize",
         "type": "quantitative"
        },
        "y": {
         "field": "x_emittance",
         "type": "quantitative"
        }
       },
       "mark": "line"
      },
      "text/plain": [
       "<altair.VegaLite object>"
      ]
     },
     "execution_count": 26,
     "metadata": {},
     "output_type": "execute_result"
    }
   ],
   "source": [
    "alt.Chart(emit_df).mark_line().encode(\n",
    "    x='beamsize',\n",
    "    y='x_emittance',\n",
    ")"
   ]
  },
  {
   "cell_type": "code",
   "execution_count": 27,
   "metadata": {},
   "outputs": [
    {
     "data": {
      "application/vnd.vegalite.v1+json": {
       "$schema": "https://vega.github.io/schema/vega-lite/v1.2.1.json",
       "data": {
        "values": [
         {
          "beamsize": 1,
          "losses": 0,
          "relbeta": 0.0023085548024063523,
          "sourceID": 16777217,
          "sourceName": "bs_1",
          "x_emittance": 0.003785799755055891,
          "x_norm_emittance": 8.739749494435028e-06,
          "y_emittance": 0.0013846014986091254,
          "y_norm_emittance": 3.1964369566304316e-06
         },
         {
          "beamsize": 4,
          "losses": 0,
          "relbeta": 0.0023085543790405763,
          "sourceID": 16777218,
          "sourceName": "bs_4",
          "x_emittance": 0.167180861326158,
          "x_norm_emittance": 0.0003859471379454864,
          "y_emittance": 0.09009050969750652,
          "y_norm_emittance": 0.00020797939487803322
         },
         {
          "beamsize": 7,
          "losses": 0,
          "relbeta": 0.0023085543454627066,
          "sourceID": 16777219,
          "sourceName": "bs_7",
          "x_emittance": 0.9478372151799143,
          "x_norm_emittance": 0.002188139552663441,
          "y_emittance": 0.4322235469036622,
          "y_norm_emittance": 0.000997814206306369
         },
         {
          "beamsize": 10,
          "losses": 0,
          "relbeta": 0.0023085541916497473,
          "sourceID": 16777220,
          "sourceName": "bs_10",
          "x_emittance": 2.8805179856998344,
          "x_norm_emittance": 0.0066498495899623145,
          "y_emittance": 1.4889690695876105,
          "y_norm_emittance": 0.0034373749464571206
         },
         {
          "beamsize": 13,
          "losses": 1,
          "relbeta": 0.0023085537669924514,
          "sourceID": 16777221,
          "sourceName": "bs_13",
          "x_emittance": 6.6237207913931915,
          "x_norm_emittance": 0.015291256331298707,
          "y_emittance": 3.51469093594615,
          "y_norm_emittance": 0.008113874621146367
         },
         {
          "beamsize": 16,
          "losses": 13,
          "relbeta": 0.0023085536901938254,
          "sourceID": 16777222,
          "sourceName": "bs_16",
          "x_emittance": 12.821550977494804,
          "x_norm_emittance": 0.02959931769680891,
          "y_emittance": 5.94443658753802,
          "y_norm_emittance": 0.0137230875883825
         },
         {
          "beamsize": 19,
          "losses": 31,
          "relbeta": 0.0023085536385072,
          "sourceID": 16777223,
          "sourceName": "bs_19",
          "x_emittance": 21.964178204408416,
          "x_norm_emittance": 0.05070561862655413,
          "y_emittance": 13.857623111746522,
          "y_norm_emittance": 0.03199115150293723
         },
         {
          "beamsize": 22,
          "losses": 49,
          "relbeta": 0.002308553740984763,
          "sourceID": 16777224,
          "sourceName": "bs_22",
          "x_emittance": 31.249723140739782,
          "x_norm_emittance": 0.0721418574986917,
          "y_emittance": 23.23577042356006,
          "y_norm_emittance": 0.05364116767432911
         },
         {
          "beamsize": 25,
          "losses": 103,
          "relbeta": 0.002308553714955248,
          "sourceID": 16777225,
          "sourceName": "bs_25",
          "x_emittance": 38.98702805296791,
          "x_norm_emittance": 0.09000388828133568,
          "y_emittance": 31.178372983516283,
          "y_norm_emittance": 0.07197714057582782
         },
         {
          "beamsize": 28,
          "losses": 139,
          "relbeta": 0.002308553837947157,
          "sourceID": 16777226,
          "sourceName": "bs_28",
          "x_emittance": 47.06680224821667,
          "x_norm_emittance": 0.10865653650861035,
          "y_emittance": 39.813186913010405,
          "y_norm_emittance": 0.09191113036581003
         },
         {
          "beamsize": 31,
          "losses": 173,
          "relbeta": 0.002308553692975918,
          "sourceID": 16777227,
          "sourceName": "bs_31",
          "x_emittance": 62.186183804338036,
          "x_norm_emittance": 0.1435605268212759,
          "y_emittance": 59.138723879640665,
          "y_norm_emittance": 0.13652528321101018
         }
        ]
       },
       "encoding": {
        "x": {
         "field": "beamsize",
         "type": "quantitative"
        },
        "y": {
         "field": "y_emittance",
         "type": "quantitative"
        }
       },
       "mark": "line"
      },
      "text/plain": [
       "<altair.VegaLite object>"
      ]
     },
     "execution_count": 27,
     "metadata": {},
     "output_type": "execute_result"
    }
   ],
   "source": [
    "alt.Chart(emit_df).mark_line().encode(\n",
    "    x='beamsize',\n",
    "    y='y_emittance',\n",
    ")"
   ]
  },
  {
   "cell_type": "code",
   "execution_count": 28,
   "metadata": {},
   "outputs": [
    {
     "data": {
      "application/vnd.vegalite.v1+json": {
       "$schema": "https://vega.github.io/schema/vega-lite/v1.2.1.json",
       "data": {
        "values": [
         {
          "beamsize": 1,
          "losses": 0,
          "relbeta": 0.0023085548024063523,
          "sourceID": 16777217,
          "sourceName": "bs_1",
          "x_emittance": 0.003785799755055891,
          "x_norm_emittance": 8.739749494435028e-06,
          "y_emittance": 0.0013846014986091254,
          "y_norm_emittance": 3.1964369566304316e-06
         },
         {
          "beamsize": 4,
          "losses": 0,
          "relbeta": 0.0023085543790405763,
          "sourceID": 16777218,
          "sourceName": "bs_4",
          "x_emittance": 0.167180861326158,
          "x_norm_emittance": 0.0003859471379454864,
          "y_emittance": 0.09009050969750652,
          "y_norm_emittance": 0.00020797939487803322
         },
         {
          "beamsize": 7,
          "losses": 0,
          "relbeta": 0.0023085543454627066,
          "sourceID": 16777219,
          "sourceName": "bs_7",
          "x_emittance": 0.9478372151799143,
          "x_norm_emittance": 0.002188139552663441,
          "y_emittance": 0.4322235469036622,
          "y_norm_emittance": 0.000997814206306369
         },
         {
          "beamsize": 10,
          "losses": 0,
          "relbeta": 0.0023085541916497473,
          "sourceID": 16777220,
          "sourceName": "bs_10",
          "x_emittance": 2.8805179856998344,
          "x_norm_emittance": 0.0066498495899623145,
          "y_emittance": 1.4889690695876105,
          "y_norm_emittance": 0.0034373749464571206
         },
         {
          "beamsize": 13,
          "losses": 1,
          "relbeta": 0.0023085537669924514,
          "sourceID": 16777221,
          "sourceName": "bs_13",
          "x_emittance": 6.6237207913931915,
          "x_norm_emittance": 0.015291256331298707,
          "y_emittance": 3.51469093594615,
          "y_norm_emittance": 0.008113874621146367
         },
         {
          "beamsize": 16,
          "losses": 13,
          "relbeta": 0.0023085536901938254,
          "sourceID": 16777222,
          "sourceName": "bs_16",
          "x_emittance": 12.821550977494804,
          "x_norm_emittance": 0.02959931769680891,
          "y_emittance": 5.94443658753802,
          "y_norm_emittance": 0.0137230875883825
         },
         {
          "beamsize": 19,
          "losses": 31,
          "relbeta": 0.0023085536385072,
          "sourceID": 16777223,
          "sourceName": "bs_19",
          "x_emittance": 21.964178204408416,
          "x_norm_emittance": 0.05070561862655413,
          "y_emittance": 13.857623111746522,
          "y_norm_emittance": 0.03199115150293723
         },
         {
          "beamsize": 22,
          "losses": 49,
          "relbeta": 0.002308553740984763,
          "sourceID": 16777224,
          "sourceName": "bs_22",
          "x_emittance": 31.249723140739782,
          "x_norm_emittance": 0.0721418574986917,
          "y_emittance": 23.23577042356006,
          "y_norm_emittance": 0.05364116767432911
         },
         {
          "beamsize": 25,
          "losses": 103,
          "relbeta": 0.002308553714955248,
          "sourceID": 16777225,
          "sourceName": "bs_25",
          "x_emittance": 38.98702805296791,
          "x_norm_emittance": 0.09000388828133568,
          "y_emittance": 31.178372983516283,
          "y_norm_emittance": 0.07197714057582782
         },
         {
          "beamsize": 28,
          "losses": 139,
          "relbeta": 0.002308553837947157,
          "sourceID": 16777226,
          "sourceName": "bs_28",
          "x_emittance": 47.06680224821667,
          "x_norm_emittance": 0.10865653650861035,
          "y_emittance": 39.813186913010405,
          "y_norm_emittance": 0.09191113036581003
         },
         {
          "beamsize": 31,
          "losses": 173,
          "relbeta": 0.002308553692975918,
          "sourceID": 16777227,
          "sourceName": "bs_31",
          "x_emittance": 62.186183804338036,
          "x_norm_emittance": 0.1435605268212759,
          "y_emittance": 59.138723879640665,
          "y_norm_emittance": 0.13652528321101018
         }
        ]
       },
       "encoding": {
        "x": {
         "field": "beamsize",
         "type": "quantitative"
        },
        "y": {
         "field": "x_norm_emittance",
         "type": "quantitative"
        }
       },
       "mark": "line"
      },
      "text/plain": [
       "<altair.VegaLite object>"
      ]
     },
     "execution_count": 28,
     "metadata": {},
     "output_type": "execute_result"
    }
   ],
   "source": [
    "alt.Chart(emit_df).mark_line().encode(\n",
    "    x='beamsize',\n",
    "    y='x_norm_emittance',\n",
    ")"
   ]
  },
  {
   "cell_type": "code",
   "execution_count": 29,
   "metadata": {},
   "outputs": [
    {
     "data": {
      "application/vnd.vegalite.v1+json": {
       "$schema": "https://vega.github.io/schema/vega-lite/v1.2.1.json",
       "data": {
        "values": [
         {
          "beamsize": 1,
          "losses": 0,
          "relbeta": 0.0023085548024063523,
          "sourceID": 16777217,
          "sourceName": "bs_1",
          "x_emittance": 0.003785799755055891,
          "x_norm_emittance": 8.739749494435028e-06,
          "y_emittance": 0.0013846014986091254,
          "y_norm_emittance": 3.1964369566304316e-06
         },
         {
          "beamsize": 4,
          "losses": 0,
          "relbeta": 0.0023085543790405763,
          "sourceID": 16777218,
          "sourceName": "bs_4",
          "x_emittance": 0.167180861326158,
          "x_norm_emittance": 0.0003859471379454864,
          "y_emittance": 0.09009050969750652,
          "y_norm_emittance": 0.00020797939487803322
         },
         {
          "beamsize": 7,
          "losses": 0,
          "relbeta": 0.0023085543454627066,
          "sourceID": 16777219,
          "sourceName": "bs_7",
          "x_emittance": 0.9478372151799143,
          "x_norm_emittance": 0.002188139552663441,
          "y_emittance": 0.4322235469036622,
          "y_norm_emittance": 0.000997814206306369
         },
         {
          "beamsize": 10,
          "losses": 0,
          "relbeta": 0.0023085541916497473,
          "sourceID": 16777220,
          "sourceName": "bs_10",
          "x_emittance": 2.8805179856998344,
          "x_norm_emittance": 0.0066498495899623145,
          "y_emittance": 1.4889690695876105,
          "y_norm_emittance": 0.0034373749464571206
         },
         {
          "beamsize": 13,
          "losses": 1,
          "relbeta": 0.0023085537669924514,
          "sourceID": 16777221,
          "sourceName": "bs_13",
          "x_emittance": 6.6237207913931915,
          "x_norm_emittance": 0.015291256331298707,
          "y_emittance": 3.51469093594615,
          "y_norm_emittance": 0.008113874621146367
         },
         {
          "beamsize": 16,
          "losses": 13,
          "relbeta": 0.0023085536901938254,
          "sourceID": 16777222,
          "sourceName": "bs_16",
          "x_emittance": 12.821550977494804,
          "x_norm_emittance": 0.02959931769680891,
          "y_emittance": 5.94443658753802,
          "y_norm_emittance": 0.0137230875883825
         },
         {
          "beamsize": 19,
          "losses": 31,
          "relbeta": 0.0023085536385072,
          "sourceID": 16777223,
          "sourceName": "bs_19",
          "x_emittance": 21.964178204408416,
          "x_norm_emittance": 0.05070561862655413,
          "y_emittance": 13.857623111746522,
          "y_norm_emittance": 0.03199115150293723
         },
         {
          "beamsize": 22,
          "losses": 49,
          "relbeta": 0.002308553740984763,
          "sourceID": 16777224,
          "sourceName": "bs_22",
          "x_emittance": 31.249723140739782,
          "x_norm_emittance": 0.0721418574986917,
          "y_emittance": 23.23577042356006,
          "y_norm_emittance": 0.05364116767432911
         },
         {
          "beamsize": 25,
          "losses": 103,
          "relbeta": 0.002308553714955248,
          "sourceID": 16777225,
          "sourceName": "bs_25",
          "x_emittance": 38.98702805296791,
          "x_norm_emittance": 0.09000388828133568,
          "y_emittance": 31.178372983516283,
          "y_norm_emittance": 0.07197714057582782
         },
         {
          "beamsize": 28,
          "losses": 139,
          "relbeta": 0.002308553837947157,
          "sourceID": 16777226,
          "sourceName": "bs_28",
          "x_emittance": 47.06680224821667,
          "x_norm_emittance": 0.10865653650861035,
          "y_emittance": 39.813186913010405,
          "y_norm_emittance": 0.09191113036581003
         },
         {
          "beamsize": 31,
          "losses": 173,
          "relbeta": 0.002308553692975918,
          "sourceID": 16777227,
          "sourceName": "bs_31",
          "x_emittance": 62.186183804338036,
          "x_norm_emittance": 0.1435605268212759,
          "y_emittance": 59.138723879640665,
          "y_norm_emittance": 0.13652528321101018
         }
        ]
       },
       "encoding": {
        "x": {
         "field": "beamsize",
         "type": "quantitative"
        },
        "y": {
         "field": "y_norm_emittance",
         "type": "quantitative"
        }
       },
       "mark": "line"
      },
      "text/plain": [
       "<altair.VegaLite object>"
      ]
     },
     "execution_count": 29,
     "metadata": {},
     "output_type": "execute_result"
    }
   ],
   "source": [
    "alt.Chart(emit_df).mark_line().encode(\n",
    "    x='beamsize',\n",
    "    y='y_norm_emittance',\n",
    ")"
   ]
  },
  {
   "cell_type": "code",
   "execution_count": 30,
   "metadata": {},
   "outputs": [
    {
     "data": {
      "application/vnd.vegalite.v1+json": {
       "$schema": "https://vega.github.io/schema/vega-lite/v1.2.1.json",
       "data": {
        "values": [
         {
          "beamsize": 1,
          "losses": 0,
          "relbeta": 0.0023085548024063523,
          "sourceID": 16777217,
          "sourceName": "bs_1",
          "x_emittance": 0.003785799755055891,
          "x_norm_emittance": 8.739749494435028e-06,
          "y_emittance": 0.0013846014986091254,
          "y_norm_emittance": 3.1964369566304316e-06
         },
         {
          "beamsize": 4,
          "losses": 0,
          "relbeta": 0.0023085543790405763,
          "sourceID": 16777218,
          "sourceName": "bs_4",
          "x_emittance": 0.167180861326158,
          "x_norm_emittance": 0.0003859471379454864,
          "y_emittance": 0.09009050969750652,
          "y_norm_emittance": 0.00020797939487803322
         },
         {
          "beamsize": 7,
          "losses": 0,
          "relbeta": 0.0023085543454627066,
          "sourceID": 16777219,
          "sourceName": "bs_7",
          "x_emittance": 0.9478372151799143,
          "x_norm_emittance": 0.002188139552663441,
          "y_emittance": 0.4322235469036622,
          "y_norm_emittance": 0.000997814206306369
         },
         {
          "beamsize": 10,
          "losses": 0,
          "relbeta": 0.0023085541916497473,
          "sourceID": 16777220,
          "sourceName": "bs_10",
          "x_emittance": 2.8805179856998344,
          "x_norm_emittance": 0.0066498495899623145,
          "y_emittance": 1.4889690695876105,
          "y_norm_emittance": 0.0034373749464571206
         },
         {
          "beamsize": 13,
          "losses": 1,
          "relbeta": 0.0023085537669924514,
          "sourceID": 16777221,
          "sourceName": "bs_13",
          "x_emittance": 6.6237207913931915,
          "x_norm_emittance": 0.015291256331298707,
          "y_emittance": 3.51469093594615,
          "y_norm_emittance": 0.008113874621146367
         },
         {
          "beamsize": 16,
          "losses": 13,
          "relbeta": 0.0023085536901938254,
          "sourceID": 16777222,
          "sourceName": "bs_16",
          "x_emittance": 12.821550977494804,
          "x_norm_emittance": 0.02959931769680891,
          "y_emittance": 5.94443658753802,
          "y_norm_emittance": 0.0137230875883825
         },
         {
          "beamsize": 19,
          "losses": 31,
          "relbeta": 0.0023085536385072,
          "sourceID": 16777223,
          "sourceName": "bs_19",
          "x_emittance": 21.964178204408416,
          "x_norm_emittance": 0.05070561862655413,
          "y_emittance": 13.857623111746522,
          "y_norm_emittance": 0.03199115150293723
         },
         {
          "beamsize": 22,
          "losses": 49,
          "relbeta": 0.002308553740984763,
          "sourceID": 16777224,
          "sourceName": "bs_22",
          "x_emittance": 31.249723140739782,
          "x_norm_emittance": 0.0721418574986917,
          "y_emittance": 23.23577042356006,
          "y_norm_emittance": 0.05364116767432911
         },
         {
          "beamsize": 25,
          "losses": 103,
          "relbeta": 0.002308553714955248,
          "sourceID": 16777225,
          "sourceName": "bs_25",
          "x_emittance": 38.98702805296791,
          "x_norm_emittance": 0.09000388828133568,
          "y_emittance": 31.178372983516283,
          "y_norm_emittance": 0.07197714057582782
         },
         {
          "beamsize": 28,
          "losses": 139,
          "relbeta": 0.002308553837947157,
          "sourceID": 16777226,
          "sourceName": "bs_28",
          "x_emittance": 47.06680224821667,
          "x_norm_emittance": 0.10865653650861035,
          "y_emittance": 39.813186913010405,
          "y_norm_emittance": 0.09191113036581003
         },
         {
          "beamsize": 31,
          "losses": 173,
          "relbeta": 0.002308553692975918,
          "sourceID": 16777227,
          "sourceName": "bs_31",
          "x_emittance": 62.186183804338036,
          "x_norm_emittance": 0.1435605268212759,
          "y_emittance": 59.138723879640665,
          "y_norm_emittance": 0.13652528321101018
         }
        ]
       },
       "encoding": {
        "x": {
         "field": "beamsize",
         "type": "quantitative"
        },
        "y": {
         "field": "losses",
         "type": "quantitative"
        }
       },
       "mark": "line"
      },
      "text/plain": [
       "<altair.VegaLite object>"
      ]
     },
     "execution_count": 30,
     "metadata": {},
     "output_type": "execute_result"
    }
   ],
   "source": [
    "alt.Chart(emit_df).mark_line().encode(\n",
    "    x='beamsize',\n",
    "    y='losses',\n",
    ")"
   ]
  },
  {
   "cell_type": "code",
   "execution_count": null,
   "metadata": {},
   "outputs": [],
   "source": []
  },
  {
   "cell_type": "code",
   "execution_count": null,
   "metadata": {},
   "outputs": [],
   "source": []
  }
 ],
 "metadata": {
  "kernelspec": {
   "display_name": "Python 3",
   "language": "python",
   "name": "python3"
  },
  "language_info": {
   "codemirror_mode": {
    "name": "ipython",
    "version": 3
   },
   "file_extension": ".py",
   "mimetype": "text/x-python",
   "name": "python",
   "nbconvert_exporter": "python",
   "pygments_lexer": "ipython3",
   "version": "3.6.3"
  }
 },
 "nbformat": 4,
 "nbformat_minor": 2
}
