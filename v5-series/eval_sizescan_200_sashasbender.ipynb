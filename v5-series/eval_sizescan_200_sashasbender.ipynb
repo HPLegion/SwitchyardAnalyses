{
 "cells": [
  {
   "cell_type": "markdown",
   "metadata": {},
   "source": [
    "# Evalutation of the 200_sashasbender Sizescan\n",
    "\n",
    "extract the emittances for all offsets and safe in a csv"
   ]
  },
  {
   "cell_type": "code",
   "execution_count": 14,
   "metadata": {},
   "outputs": [],
   "source": [
    "import os\n",
    "import numpy as np\n",
    "import pandas as pd\n",
    "import altair as alt\n",
    "alt.enable_mime_rendering()\n",
    "import scipy.constants\n",
    "\n",
    "import PhaseSpaceEval.monitor_quantities as monq\n",
    "from PhaseSpaceEval.import_particle_data import *\n",
    "from PhaseSpaceEval.trajectory import Trajectory\n",
    "from PhaseSpaceEval.particlemonitor import ParticleMonitor"
   ]
  },
  {
   "cell_type": "markdown",
   "metadata": {},
   "source": [
    "## Import Raw Data and set filename *!!! ADJUST FILENAMES HERE !!!*"
   ]
  },
  {
   "cell_type": "code",
   "execution_count": 15,
   "metadata": {},
   "outputs": [],
   "source": [
    "MODELNAME = \"200_sashasbender_sizescan\"\n",
    "RAW_PATH = \"rawdata_\" + MODELNAME + \"/\"\n",
    "EMIT_FILENAME = \"sc_emit_\" + MODELNAME + \".csv\" # Name for the emittance output file\n",
    "#MON_FILENAME = \"mon_\" + MODELNAME + \".csv\" # Name for the monitors output file\n",
    "\n",
    "particle_source_names = import_source_names(RAW_PATH + MODELNAME + \"-source_names.txt\")\n",
    "particle_constants = import_particle_constants(RAW_PATH + MODELNAME + \"-constants.txt\")\n",
    "particle_trajectories = import_particle_trajectories(RAW_PATH + MODELNAME + \"-trajectories.txt\")"
   ]
  },
  {
   "cell_type": "markdown",
   "metadata": {},
   "source": [
    "## Create convenient lists\n",
    "### Raw Data"
   ]
  },
  {
   "cell_type": "code",
   "execution_count": 16,
   "metadata": {},
   "outputs": [],
   "source": [
    "# Delete the single_centre source, not required\n",
    "for key in particle_source_names.keys():\n",
    "    if particle_source_names[key] == \"single_centre\":\n",
    "        del(particle_source_names[key])\n",
    "        break\n",
    "        \n",
    "# Generate simple list with all source IDs\n",
    "sourceIDs = list(particle_source_names.keys())\n",
    "#print(sourceIDs)\n",
    "\n",
    "# Create lists with all particles belonging to a source and with the id of the central particles\n",
    "particlesBySrc = dict() # dict for all particleIDs\n",
    "centresBySrc = dict() # dict with the ids of the central particles\n",
    "for sID in sourceIDs:\n",
    "    pIDs = particle_constants[\"particleID\"].loc[particle_constants[\"sourceID\"] == sID].tolist()\n",
    "    particlesBySrc.update({sID : pIDs})\n",
    "    centresBySrc.update({sID : min(pIDs)}) # the smallest pID for each source is the centre\n",
    "#print(particlesBySrc)\n",
    "#print(centresBySrc)"
   ]
  },
  {
   "cell_type": "markdown",
   "metadata": {},
   "source": [
    "### Trajectories"
   ]
  },
  {
   "cell_type": "code",
   "execution_count": 17,
   "metadata": {},
   "outputs": [
    {
     "name": "stdout",
     "output_type": "stream",
     "text": [
      "[2750, 2784, 3028, 3079, 3094, 3160, 3195, 3341, 3697, 3717, 3790, 3794, 3799, 3812, 3923, 4028, 4067, 4119, 4147, 4150, 4155, 4165, 4326, 4331, 4349, 4370, 4409, 4422, 4446, 4453, 4467, 4487, 4499, 4554, 4566, 4606, 4690, 4701, 4734, 4736, 4765, 4814, 4848, 4851, 4859, 4877, 4897, 4908, 4933, 5007, 5018, 5042, 5067, 5078, 5080, 5113, 5120, 5183, 5211, 5241, 5248, 5254, 5264, 5270, 5274, 5286, 5303, 5315, 5324, 5331, 5366, 5379, 5393, 5397, 5422, 5457, 5499, 5504, 5576, 5584, 5592, 5624, 5629, 5662, 5670, 5683, 5686, 5710, 5720, 5736, 5741, 5746, 5766, 5787, 5789, 5800, 5803, 5810, 5837, 5841, 5848, 5850, 5856, 5861, 5889, 5890, 5896, 5898, 5900, 5901, 5914, 5926, 5928, 5934, 5943, 5944, 5962, 6004, 6014, 6021, 6030, 6033, 6040, 6052, 6060, 6062, 6066, 6071, 6073, 6080, 6084, 6088, 6089, 6094, 6097, 6103, 6105, 6106, 6111, 6112, 6115, 6134, 6136, 6140, 6142, 6143, 6154, 6157, 6161, 6163, 6167, 6177, 6181, 6186, 6189, 6191, 6192, 6194, 6197, 6199, 6215, 6234, 6236, 6239, 6244, 6245, 6250, 6256, 6262, 6266, 6282, 6300, 6308, 6309, 6316, 6330, 6365, 6368, 6375, 6410, 6415, 6429, 6445, 6464, 6475, 6499, 6511, 6520, 6536, 6543, 6559, 6561, 6569, 6587, 6591, 6592, 6593, 6596, 6610, 6618, 6623, 6630, 6636, 6639, 6651, 6659, 6660, 6681, 6691, 6694, 6698, 6702, 6706, 6711, 6712, 6736, 6754, 6760, 6772, 6794, 6798, 6826, 6851, 6864, 6865, 6870, 6885, 6897, 6898, 6906, 6917, 6927, 6943, 6949, 6950, 6952, 6959, 6962, 6968, 6985, 6989, 7000, 7002, 7003, 7018, 7019, 7022, 7023, 7027, 7043, 7061, 7073, 7076, 7080, 7093, 7094, 7099, 7107, 7114, 7115, 7117, 7130, 7153, 7157, 7160, 7164, 7168, 7174, 7180, 7182, 7183, 7189, 7193, 7194, 7198, 7199, 7204, 7213, 7218, 7228, 7234, 7242, 7243, 7247, 7270, 7273, 7276, 7288, 7291, 7297, 7298, 7299, 7302, 7306, 7308, 7331, 7332, 7340, 7350, 7365, 7369, 7375, 7387, 7390, 7394, 7396, 7399, 7408, 7412, 7423, 7429, 7434, 7437, 7438, 7450, 7456, 7457, 7461, 7470, 7471, 7492, 7498, 7503, 7504, 7508, 7514, 7521, 7524, 7527, 7528, 7529, 7533, 7540, 7553, 7561, 7568, 7574, 7578, 7583, 7586, 7589, 7590, 7591, 7593, 7602, 7607, 7608, 7610, 7611, 7612, 7618, 7623, 7630, 7631, 7632, 7634, 7640, 7649, 7650, 7656, 7670, 7685, 7688, 7695, 7709, 7717, 7720, 7727, 7743, 7747, 7756, 7758, 7760, 7761, 7779, 7781, 7789, 7792, 7795, 7796, 7799, 7812, 7815, 7817, 7826, 7830, 7835, 7836, 7842, 7852, 7853, 7864, 7865, 7867, 7871, 7890, 7894, 7897, 7902, 7913, 7916, 7919, 7923, 7927, 7940, 7957, 7965, 7967, 7978, 8005, 8007, 8009, 8013, 8016, 8019, 8021, 8033, 8037, 8047, 8054, 8057, 8059, 8067, 8069, 8072, 8073, 8083, 8086, 8091, 8093, 8095, 8096, 8097, 8100, 8104, 8107, 8113, 8117, 8118, 8120, 8126, 8134, 8139, 8150, 8159, 8168, 8169, 8171, 8172, 8182, 8198, 8205, 8209, 8214, 8215, 8221, 8224, 8231, 8237, 8238, 8239, 8240, 8247, 8252, 8253, 8254, 8256, 8259, 8263, 8265, 8270, 8286, 8293, 8295, 8307, 8319, 8320, 8321, 8323, 8324, 8327, 8328, 8329, 8330, 8339, 8341, 8349, 8352, 8357, 8359, 8361, 8373, 8378, 8382, 8394, 8401, 8405, 8415, 8418, 8428, 8435, 8437, 8454, 8455, 8459, 8460, 8464, 8465, 8472, 8476, 8478, 8485, 8489, 8491, 8493, 8495, 8509, 8514, 8515, 8517, 8524, 8538, 8540, 8549, 8552, 8553, 8555, 8559, 8565, 8568, 8588, 8589, 8592, 8593, 8595, 8599, 8602, 8605, 8609, 8610, 8614, 8621, 8623, 8636, 8637, 8638, 8640, 8641, 8651, 8655, 8659, 8664, 8667, 8669, 8679, 8684, 8685, 8693, 8700, 8712, 8714, 8717, 8718, 8720, 8724, 8725, 8728, 8729, 8730, 8733, 8744, 8747, 8750, 8753, 8756, 8767, 8774, 8775, 8779, 8783, 8785, 8788, 8794, 8797, 8802, 8803, 8805, 8810, 8814, 8815, 8821, 8826, 8832, 8839, 8841, 8843, 8844, 8845, 8847, 8850, 8854, 8857, 8858, 8865, 8868, 8871, 8874, 8884, 8887, 8899, 8900, 8906, 8908, 8917, 8920, 8925, 8927, 8935, 8936, 8947, 8959, 8965, 8967, 8969, 8973, 8978, 8988, 8989, 8990, 9002]\n"
     ]
    }
   ],
   "source": [
    "# Create Trajectories\n",
    "trajsBySrc = dict() # Dict for all trajectories\n",
    "ctrajsBySrc = dict() # Dict for central trajectories\n",
    "lostParticles = list()\n",
    "for sID in sourceIDs:\n",
    "    # Compute central trajectory for each sID\n",
    "    cID = centresBySrc[sID]\n",
    "    ctr = Trajectory(particle_trajectories[cID],\n",
    "                     particle_constants.loc[particle_constants[\"particleID\"] == cID].squeeze())\n",
    "    ctrajsBySrc.update({sID : ctr})\n",
    "\n",
    "    # For each sID compute the trajectories of all pIDs\n",
    "    # Note Particles that cannot be found in trajectory dataframe, these were lost\n",
    "    pIDs = particlesBySrc[sID]\n",
    "    trajs = list()\n",
    "    for pID in pIDs:\n",
    "        try:\n",
    "            tr = Trajectory(particle_trajectories[pID],\n",
    "                            particle_constants.loc[particle_constants[\"particleID\"] == pID].squeeze())\n",
    "        except KeyError:\n",
    "            lostParticles.append(pID)\n",
    "        trajs.append(tr)\n",
    "    trajsBySrc.update({sID : trajs})\n",
    "print(lostParticles)"
   ]
  },
  {
   "cell_type": "markdown",
   "metadata": {},
   "source": [
    "### Monitors"
   ]
  },
  {
   "cell_type": "code",
   "execution_count": 18,
   "metadata": {},
   "outputs": [],
   "source": [
    "# Create Monitors\n",
    "monBySrc = dict()\n",
    "for sID in sourceIDs:\n",
    "    ctr = ctrajsBySrc[sID]\n",
    "    t0 = ctr.find_time(\"z\", 501)\n",
    "    mon = ParticleMonitor(time0=t0, trajectory=ctr)\n",
    "    monBySrc.update({sID : mon})"
   ]
  },
  {
   "cell_type": "markdown",
   "metadata": {},
   "source": [
    "## Record Monitor Interactions"
   ]
  },
  {
   "cell_type": "code",
   "execution_count": 19,
   "metadata": {},
   "outputs": [],
   "source": [
    "# Record Monitor Interactions\n",
    "for sID in sourceIDs:\n",
    "    mon = monBySrc[sID]\n",
    "    mon.reset_events()\n",
    "    mon.reset_misses()\n",
    "    for tr in trajsBySrc[sID]:\n",
    "        mon.record_intersect(tr)\n",
    "\n",
    "# Read Out misses and events\n",
    "missesBySrc = dict()\n",
    "eventsBySrc = dict()\n",
    "for sID in sourceIDs:\n",
    "    missesBySrc.update({sID : monBySrc[sID].get_misses()})\n",
    "    eventsBySrc.update({sID : monBySrc[sID].get_events()})\n",
    "#print(missesBySrc)\n",
    "\n",
    "# Add lost particles to miss counter\n",
    "for pID in lostParticles:\n",
    "    for sID in sourceIDs:\n",
    "        if pID in particlesBySrc[sID]:\n",
    "            missesBySrc[sID] += 1\n",
    "#print(missesBySrc)"
   ]
  },
  {
   "cell_type": "markdown",
   "metadata": {},
   "source": [
    "## Export Monitor Interactions"
   ]
  },
  {
   "cell_type": "code",
   "execution_count": 20,
   "metadata": {},
   "outputs": [
    {
     "data": {
      "text/plain": [
       "'export_events = pd.DataFrame()\\nfor sID in sourceIDs:\\n    events = eventsBySrc[sID].copy()\\n    events[\"sourceID\"] = sID\\n    events[\"sourceName\"] = particle_source_names[sID]\\n    export_events = export_events.append(events, ignore_index=True)\\nexport_events.to_csv(MON_FILENAME)'"
      ]
     },
     "execution_count": 20,
     "metadata": {},
     "output_type": "execute_result"
    }
   ],
   "source": [
    "'''export_events = pd.DataFrame()\n",
    "for sID in sourceIDs:\n",
    "    events = eventsBySrc[sID].copy()\n",
    "    events[\"sourceID\"] = sID\n",
    "    events[\"sourceName\"] = particle_source_names[sID]\n",
    "    export_events = export_events.append(events, ignore_index=True)\n",
    "export_events.to_csv(MON_FILENAME)'''"
   ]
  },
  {
   "cell_type": "markdown",
   "metadata": {},
   "source": [
    "## Compute and save emittances"
   ]
  },
  {
   "cell_type": "code",
   "execution_count": 21,
   "metadata": {},
   "outputs": [
    {
     "data": {
      "text/html": [
       "<div>\n",
       "<style>\n",
       "    .dataframe thead tr:only-child th {\n",
       "        text-align: right;\n",
       "    }\n",
       "\n",
       "    .dataframe thead th {\n",
       "        text-align: left;\n",
       "    }\n",
       "\n",
       "    .dataframe tbody tr th {\n",
       "        vertical-align: top;\n",
       "    }\n",
       "</style>\n",
       "<table border=\"1\" class=\"dataframe\">\n",
       "  <thead>\n",
       "    <tr style=\"text-align: right;\">\n",
       "      <th></th>\n",
       "      <th>sourceID</th>\n",
       "      <th>sourceName</th>\n",
       "      <th>beamsize</th>\n",
       "      <th>x_emittance</th>\n",
       "      <th>y_emittance</th>\n",
       "      <th>x_norm_emittance</th>\n",
       "      <th>y_norm_emittance</th>\n",
       "      <th>losses</th>\n",
       "      <th>relbeta</th>\n",
       "    </tr>\n",
       "  </thead>\n",
       "  <tbody>\n",
       "    <tr>\n",
       "      <th>0</th>\n",
       "      <td>16777217</td>\n",
       "      <td>bs_1</td>\n",
       "      <td>1.0</td>\n",
       "      <td>0.003294</td>\n",
       "      <td>0.000053</td>\n",
       "      <td>0.000008</td>\n",
       "      <td>1.214114e-07</td>\n",
       "      <td>0</td>\n",
       "      <td>0.002309</td>\n",
       "    </tr>\n",
       "    <tr>\n",
       "      <th>1</th>\n",
       "      <td>16777218</td>\n",
       "      <td>bs_4</td>\n",
       "      <td>4.0</td>\n",
       "      <td>0.108426</td>\n",
       "      <td>0.007248</td>\n",
       "      <td>0.000250</td>\n",
       "      <td>1.673256e-05</td>\n",
       "      <td>0</td>\n",
       "      <td>0.002309</td>\n",
       "    </tr>\n",
       "    <tr>\n",
       "      <th>2</th>\n",
       "      <td>16777219</td>\n",
       "      <td>bs_7</td>\n",
       "      <td>7.0</td>\n",
       "      <td>0.660782</td>\n",
       "      <td>0.056931</td>\n",
       "      <td>0.001525</td>\n",
       "      <td>1.314267e-04</td>\n",
       "      <td>0</td>\n",
       "      <td>0.002309</td>\n",
       "    </tr>\n",
       "    <tr>\n",
       "      <th>3</th>\n",
       "      <td>16777220</td>\n",
       "      <td>bs_10</td>\n",
       "      <td>10.0</td>\n",
       "      <td>2.092301</td>\n",
       "      <td>1.004963</td>\n",
       "      <td>0.004830</td>\n",
       "      <td>2.319987e-03</td>\n",
       "      <td>0</td>\n",
       "      <td>0.002309</td>\n",
       "    </tr>\n",
       "    <tr>\n",
       "      <th>4</th>\n",
       "      <td>16777221</td>\n",
       "      <td>bs_13</td>\n",
       "      <td>13.0</td>\n",
       "      <td>6.010637</td>\n",
       "      <td>2.339256</td>\n",
       "      <td>0.013876</td>\n",
       "      <td>5.400241e-03</td>\n",
       "      <td>2</td>\n",
       "      <td>0.002309</td>\n",
       "    </tr>\n",
       "    <tr>\n",
       "      <th>5</th>\n",
       "      <td>16777222</td>\n",
       "      <td>bs_16</td>\n",
       "      <td>16.0</td>\n",
       "      <td>21.336979</td>\n",
       "      <td>15.215611</td>\n",
       "      <td>0.049257</td>\n",
       "      <td>3.512569e-02</td>\n",
       "      <td>13</td>\n",
       "      <td>0.002309</td>\n",
       "    </tr>\n",
       "    <tr>\n",
       "      <th>6</th>\n",
       "      <td>16777223</td>\n",
       "      <td>bs_19</td>\n",
       "      <td>19.0</td>\n",
       "      <td>44.994375</td>\n",
       "      <td>45.815338</td>\n",
       "      <td>0.103871</td>\n",
       "      <td>1.057661e-01</td>\n",
       "      <td>34</td>\n",
       "      <td>0.002309</td>\n",
       "    </tr>\n",
       "    <tr>\n",
       "      <th>7</th>\n",
       "      <td>16777224</td>\n",
       "      <td>bs_22</td>\n",
       "      <td>22.0</td>\n",
       "      <td>78.560890</td>\n",
       "      <td>86.327082</td>\n",
       "      <td>0.181360</td>\n",
       "      <td>1.992887e-01</td>\n",
       "      <td>69</td>\n",
       "      <td>0.002309</td>\n",
       "    </tr>\n",
       "    <tr>\n",
       "      <th>8</th>\n",
       "      <td>16777225</td>\n",
       "      <td>bs_25</td>\n",
       "      <td>25.0</td>\n",
       "      <td>89.032840</td>\n",
       "      <td>116.939793</td>\n",
       "      <td>0.205535</td>\n",
       "      <td>2.699589e-01</td>\n",
       "      <td>126</td>\n",
       "      <td>0.002309</td>\n",
       "    </tr>\n",
       "    <tr>\n",
       "      <th>9</th>\n",
       "      <td>16777226</td>\n",
       "      <td>bs_28</td>\n",
       "      <td>28.0</td>\n",
       "      <td>107.509548</td>\n",
       "      <td>128.035393</td>\n",
       "      <td>0.248189</td>\n",
       "      <td>2.955735e-01</td>\n",
       "      <td>167</td>\n",
       "      <td>0.002309</td>\n",
       "    </tr>\n",
       "    <tr>\n",
       "      <th>10</th>\n",
       "      <td>16777227</td>\n",
       "      <td>bs_31</td>\n",
       "      <td>31.0</td>\n",
       "      <td>150.181743</td>\n",
       "      <td>221.025025</td>\n",
       "      <td>0.346699</td>\n",
       "      <td>5.102425e-01</td>\n",
       "      <td>219</td>\n",
       "      <td>0.002309</td>\n",
       "    </tr>\n",
       "  </tbody>\n",
       "</table>\n",
       "</div>"
      ],
      "text/plain": [
       "    sourceID sourceName  beamsize  x_emittance  y_emittance  x_norm_emittance  \\\n",
       "0   16777217       bs_1       1.0     0.003294     0.000053          0.000008   \n",
       "1   16777218       bs_4       4.0     0.108426     0.007248          0.000250   \n",
       "2   16777219       bs_7       7.0     0.660782     0.056931          0.001525   \n",
       "3   16777220      bs_10      10.0     2.092301     1.004963          0.004830   \n",
       "4   16777221      bs_13      13.0     6.010637     2.339256          0.013876   \n",
       "5   16777222      bs_16      16.0    21.336979    15.215611          0.049257   \n",
       "6   16777223      bs_19      19.0    44.994375    45.815338          0.103871   \n",
       "7   16777224      bs_22      22.0    78.560890    86.327082          0.181360   \n",
       "8   16777225      bs_25      25.0    89.032840   116.939793          0.205535   \n",
       "9   16777226      bs_28      28.0   107.509548   128.035393          0.248189   \n",
       "10  16777227      bs_31      31.0   150.181743   221.025025          0.346699   \n",
       "\n",
       "    y_norm_emittance losses   relbeta  \n",
       "0       1.214114e-07      0  0.002309  \n",
       "1       1.673256e-05      0  0.002309  \n",
       "2       1.314267e-04      0  0.002309  \n",
       "3       2.319987e-03      0  0.002309  \n",
       "4       5.400241e-03      2  0.002309  \n",
       "5       3.512569e-02     13  0.002309  \n",
       "6       1.057661e-01     34  0.002309  \n",
       "7       1.992887e-01     69  0.002309  \n",
       "8       2.699589e-01    126  0.002309  \n",
       "9       2.955735e-01    167  0.002309  \n",
       "10      5.102425e-01    219  0.002309  "
      ]
     },
     "execution_count": 21,
     "metadata": {},
     "output_type": "execute_result"
    }
   ],
   "source": [
    "# Compute and save emittances\n",
    "colnames = [\"sourceID\", \"sourceName\", \"beamsize\", \"x_emittance\", \"y_emittance\",\n",
    "            \"x_norm_emittance\", \"y_norm_emittance\", \"losses\", \"relbeta\"]\n",
    "emit_df = pd.DataFrame(columns=colnames)\n",
    "emit_temp = pd.DataFrame([np.zeros(len(colnames))], columns=colnames)\n",
    "for sID in sourceIDs:\n",
    "    name = particle_source_names[sID]\n",
    "    bs = float(name.split('_')[1])\n",
    "    xemit = monq.emittance_u(eventsBySrc[sID])\n",
    "    yemit = monq.emittance_v(eventsBySrc[sID])\n",
    "    # Compute rel. beta for the screen 1e6 mm/ns ->m/s\n",
    "    beta = monBySrc[sID].abs_vel / scipy.constants.speed_of_light * 1e6\n",
    "    xemit_n = beta * (1 - beta**2)**(-0.5) * xemit # beta * gamme * emit\n",
    "    yemit_n = beta * (1 - beta**2)**(-0.5) * yemit\n",
    "    losses = missesBySrc[sID]\n",
    "    \n",
    "    emit_temp[\"sourceID\"] = sID\n",
    "    emit_temp[\"sourceName\"] = name\n",
    "    emit_temp[\"beamsize\"] = bs\n",
    "    emit_temp[\"x_emittance\"] = xemit\n",
    "    emit_temp[\"y_emittance\"] = yemit\n",
    "    emit_temp[\"x_norm_emittance\"] = xemit_n\n",
    "    emit_temp[\"y_norm_emittance\"] = yemit_n\n",
    "    emit_temp[\"losses\"] = losses\n",
    "    emit_temp[\"relbeta\"] = beta\n",
    "\n",
    "    emit_df = emit_df.append(emit_temp, ignore_index=True)\n",
    "\n",
    "emit_df.sort_values([\"beamsize\"], inplace=True)\n",
    "emit_df.reset_index(inplace=True, drop=True)\n",
    "\n",
    "# Load emittance data from startinplane to compute relative emittance growth\n",
    "#emit_start = pd.read_csv(\"emit_startingplane.csv\", index_col=0)\n",
    "#emit_df[\"x_emittance_rel\"] = emit_df[\"x_emittance\"]/emit_start[\"x_emittance\"]\n",
    "#emit_df[\"y_emittance_rel\"] = emit_df[\"y_emittance\"]/emit_start[\"y_emittance\"]\n",
    "# Save emittance table\n",
    "emit_df.to_csv(EMIT_FILENAME)\n",
    "# Show head for debugging purposes\n",
    "emit_df"
   ]
  },
  {
   "cell_type": "markdown",
   "metadata": {},
   "source": [
    "## Plots"
   ]
  },
  {
   "cell_type": "code",
   "execution_count": 22,
   "metadata": {},
   "outputs": [
    {
     "data": {
      "application/vnd.vegalite.v1+json": {
       "$schema": "https://vega.github.io/schema/vega-lite/v1.2.1.json",
       "data": {
        "values": [
         {
          "beamsize": 1,
          "losses": 0,
          "relbeta": 0.002308525583508902,
          "sourceID": 16777217,
          "sourceName": "bs_1",
          "x_emittance": 0.003293678222492772,
          "x_norm_emittance": 7.603560701289093e-06,
          "y_emittance": 5.259247456491705e-05,
          "y_norm_emittance": 1.2141139655187644e-07
         },
         {
          "beamsize": 4,
          "losses": 0,
          "relbeta": 0.002308524913725255,
          "sourceID": 16777218,
          "sourceName": "bs_4",
          "x_emittance": 0.1084257777301102,
          "x_norm_emittance": 0.0002503042761525821,
          "y_emittance": 0.007248143517258955,
          "y_norm_emittance": 1.6732564474229384e-05
         },
         {
          "beamsize": 7,
          "losses": 0,
          "relbeta": 0.002308524661301762,
          "sourceID": 16777219,
          "sourceName": "bs_7",
          "x_emittance": 0.6607823029180105,
          "x_norm_emittance": 0.0015254363067866762,
          "y_emittance": 0.056930878304270405,
          "y_norm_emittance": 0.0001314266867606525
         },
         {
          "beamsize": 10,
          "losses": 0,
          "relbeta": 0.0023085244526516433,
          "sourceID": 16777220,
          "sourceName": "bs_10",
          "x_emittance": 2.092300892944939,
          "x_norm_emittance": 0.004830140644283808,
          "y_emittance": 1.0049626855292524,
          "y_norm_emittance": 0.002319987115491419
         },
         {
          "beamsize": 13,
          "losses": 2,
          "relbeta": 0.002308523250892023,
          "sourceID": 16777221,
          "sourceName": "bs_13",
          "x_emittance": 6.010637126741545,
          "x_norm_emittance": 0.013875732533636106,
          "y_emittance": 2.339255672913791,
          "y_norm_emittance": 0.005400240500417491
         },
         {
          "beamsize": 16,
          "losses": 13,
          "relbeta": 0.0023085236607838493,
          "sourceID": 16777222,
          "sourceName": "bs_16",
          "x_emittance": 21.336979396314167,
          "x_norm_emittance": 0.04925705303857418,
          "y_emittance": 15.21561072319281,
          "y_norm_emittance": 0.03512569096523915
         },
         {
          "beamsize": 19,
          "losses": 34,
          "relbeta": 0.0023085239694437347,
          "sourceID": 16777223,
          "sourceName": "bs_19",
          "x_emittance": 44.994374753517675,
          "x_norm_emittance": 0.10387086938762326,
          "y_emittance": 45.81533844894463,
          "y_norm_emittance": 0.10576608880664645
         },
         {
          "beamsize": 22,
          "losses": 69,
          "relbeta": 0.0023085245894953056,
          "sourceID": 16777224,
          "sourceName": "bs_22",
          "x_emittance": 78.56089047887502,
          "x_norm_emittance": 0.1813602307040238,
          "y_emittance": 86.32708204416953,
          "y_norm_emittance": 0.1992887226723295
         },
         {
          "beamsize": 25,
          "losses": 126,
          "relbeta": 0.002308522912069395,
          "sourceID": 16777225,
          "sourceName": "bs_25",
          "x_emittance": 89.03283983791869,
          "x_norm_emittance": 0.2055348983694795,
          "y_emittance": 116.9397934963939,
          "y_norm_emittance": 0.26995891196309735
         },
         {
          "beamsize": 28,
          "losses": 167,
          "relbeta": 0.002308523281376372,
          "sourceID": 16777226,
          "sourceName": "bs_28",
          "x_emittance": 107.50954776818645,
          "x_norm_emittance": 0.24818895532817048,
          "y_emittance": 128.0353933998811,
          "y_norm_emittance": 0.29557347410172125
         },
         {
          "beamsize": 31,
          "losses": 219,
          "relbeta": 0.0023085221445613433,
          "sourceID": 16777227,
          "sourceName": "bs_31",
          "x_emittance": 150.18174285441313,
          "x_norm_emittance": 0.3466988029160042,
          "y_emittance": 221.02502471017633,
          "y_norm_emittance": 0.5102425236587046
         }
        ]
       },
       "encoding": {
        "x": {
         "field": "beamsize",
         "type": "quantitative"
        },
        "y": {
         "field": "x_emittance",
         "type": "quantitative"
        }
       },
       "mark": "line"
      },
      "text/plain": [
       "<altair.VegaLite object>"
      ]
     },
     "execution_count": 22,
     "metadata": {},
     "output_type": "execute_result"
    }
   ],
   "source": [
    "alt.Chart(emit_df).mark_line().encode(\n",
    "    x='beamsize',\n",
    "    y='x_emittance',\n",
    ")"
   ]
  },
  {
   "cell_type": "code",
   "execution_count": 23,
   "metadata": {},
   "outputs": [
    {
     "data": {
      "application/vnd.vegalite.v1+json": {
       "$schema": "https://vega.github.io/schema/vega-lite/v1.2.1.json",
       "data": {
        "values": [
         {
          "beamsize": 1,
          "losses": 0,
          "relbeta": 0.002308525583508902,
          "sourceID": 16777217,
          "sourceName": "bs_1",
          "x_emittance": 0.003293678222492772,
          "x_norm_emittance": 7.603560701289093e-06,
          "y_emittance": 5.259247456491705e-05,
          "y_norm_emittance": 1.2141139655187644e-07
         },
         {
          "beamsize": 4,
          "losses": 0,
          "relbeta": 0.002308524913725255,
          "sourceID": 16777218,
          "sourceName": "bs_4",
          "x_emittance": 0.1084257777301102,
          "x_norm_emittance": 0.0002503042761525821,
          "y_emittance": 0.007248143517258955,
          "y_norm_emittance": 1.6732564474229384e-05
         },
         {
          "beamsize": 7,
          "losses": 0,
          "relbeta": 0.002308524661301762,
          "sourceID": 16777219,
          "sourceName": "bs_7",
          "x_emittance": 0.6607823029180105,
          "x_norm_emittance": 0.0015254363067866762,
          "y_emittance": 0.056930878304270405,
          "y_norm_emittance": 0.0001314266867606525
         },
         {
          "beamsize": 10,
          "losses": 0,
          "relbeta": 0.0023085244526516433,
          "sourceID": 16777220,
          "sourceName": "bs_10",
          "x_emittance": 2.092300892944939,
          "x_norm_emittance": 0.004830140644283808,
          "y_emittance": 1.0049626855292524,
          "y_norm_emittance": 0.002319987115491419
         },
         {
          "beamsize": 13,
          "losses": 2,
          "relbeta": 0.002308523250892023,
          "sourceID": 16777221,
          "sourceName": "bs_13",
          "x_emittance": 6.010637126741545,
          "x_norm_emittance": 0.013875732533636106,
          "y_emittance": 2.339255672913791,
          "y_norm_emittance": 0.005400240500417491
         },
         {
          "beamsize": 16,
          "losses": 13,
          "relbeta": 0.0023085236607838493,
          "sourceID": 16777222,
          "sourceName": "bs_16",
          "x_emittance": 21.336979396314167,
          "x_norm_emittance": 0.04925705303857418,
          "y_emittance": 15.21561072319281,
          "y_norm_emittance": 0.03512569096523915
         },
         {
          "beamsize": 19,
          "losses": 34,
          "relbeta": 0.0023085239694437347,
          "sourceID": 16777223,
          "sourceName": "bs_19",
          "x_emittance": 44.994374753517675,
          "x_norm_emittance": 0.10387086938762326,
          "y_emittance": 45.81533844894463,
          "y_norm_emittance": 0.10576608880664645
         },
         {
          "beamsize": 22,
          "losses": 69,
          "relbeta": 0.0023085245894953056,
          "sourceID": 16777224,
          "sourceName": "bs_22",
          "x_emittance": 78.56089047887502,
          "x_norm_emittance": 0.1813602307040238,
          "y_emittance": 86.32708204416953,
          "y_norm_emittance": 0.1992887226723295
         },
         {
          "beamsize": 25,
          "losses": 126,
          "relbeta": 0.002308522912069395,
          "sourceID": 16777225,
          "sourceName": "bs_25",
          "x_emittance": 89.03283983791869,
          "x_norm_emittance": 0.2055348983694795,
          "y_emittance": 116.9397934963939,
          "y_norm_emittance": 0.26995891196309735
         },
         {
          "beamsize": 28,
          "losses": 167,
          "relbeta": 0.002308523281376372,
          "sourceID": 16777226,
          "sourceName": "bs_28",
          "x_emittance": 107.50954776818645,
          "x_norm_emittance": 0.24818895532817048,
          "y_emittance": 128.0353933998811,
          "y_norm_emittance": 0.29557347410172125
         },
         {
          "beamsize": 31,
          "losses": 219,
          "relbeta": 0.0023085221445613433,
          "sourceID": 16777227,
          "sourceName": "bs_31",
          "x_emittance": 150.18174285441313,
          "x_norm_emittance": 0.3466988029160042,
          "y_emittance": 221.02502471017633,
          "y_norm_emittance": 0.5102425236587046
         }
        ]
       },
       "encoding": {
        "x": {
         "field": "beamsize",
         "type": "quantitative"
        },
        "y": {
         "field": "y_emittance",
         "type": "quantitative"
        }
       },
       "mark": "line"
      },
      "text/plain": [
       "<altair.VegaLite object>"
      ]
     },
     "execution_count": 23,
     "metadata": {},
     "output_type": "execute_result"
    }
   ],
   "source": [
    "alt.Chart(emit_df).mark_line().encode(\n",
    "    x='beamsize',\n",
    "    y='y_emittance',\n",
    ")"
   ]
  },
  {
   "cell_type": "code",
   "execution_count": 24,
   "metadata": {},
   "outputs": [
    {
     "data": {
      "application/vnd.vegalite.v1+json": {
       "$schema": "https://vega.github.io/schema/vega-lite/v1.2.1.json",
       "data": {
        "values": [
         {
          "beamsize": 1,
          "losses": 0,
          "relbeta": 0.002308525583508902,
          "sourceID": 16777217,
          "sourceName": "bs_1",
          "x_emittance": 0.003293678222492772,
          "x_norm_emittance": 7.603560701289093e-06,
          "y_emittance": 5.259247456491705e-05,
          "y_norm_emittance": 1.2141139655187644e-07
         },
         {
          "beamsize": 4,
          "losses": 0,
          "relbeta": 0.002308524913725255,
          "sourceID": 16777218,
          "sourceName": "bs_4",
          "x_emittance": 0.1084257777301102,
          "x_norm_emittance": 0.0002503042761525821,
          "y_emittance": 0.007248143517258955,
          "y_norm_emittance": 1.6732564474229384e-05
         },
         {
          "beamsize": 7,
          "losses": 0,
          "relbeta": 0.002308524661301762,
          "sourceID": 16777219,
          "sourceName": "bs_7",
          "x_emittance": 0.6607823029180105,
          "x_norm_emittance": 0.0015254363067866762,
          "y_emittance": 0.056930878304270405,
          "y_norm_emittance": 0.0001314266867606525
         },
         {
          "beamsize": 10,
          "losses": 0,
          "relbeta": 0.0023085244526516433,
          "sourceID": 16777220,
          "sourceName": "bs_10",
          "x_emittance": 2.092300892944939,
          "x_norm_emittance": 0.004830140644283808,
          "y_emittance": 1.0049626855292524,
          "y_norm_emittance": 0.002319987115491419
         },
         {
          "beamsize": 13,
          "losses": 2,
          "relbeta": 0.002308523250892023,
          "sourceID": 16777221,
          "sourceName": "bs_13",
          "x_emittance": 6.010637126741545,
          "x_norm_emittance": 0.013875732533636106,
          "y_emittance": 2.339255672913791,
          "y_norm_emittance": 0.005400240500417491
         },
         {
          "beamsize": 16,
          "losses": 13,
          "relbeta": 0.0023085236607838493,
          "sourceID": 16777222,
          "sourceName": "bs_16",
          "x_emittance": 21.336979396314167,
          "x_norm_emittance": 0.04925705303857418,
          "y_emittance": 15.21561072319281,
          "y_norm_emittance": 0.03512569096523915
         },
         {
          "beamsize": 19,
          "losses": 34,
          "relbeta": 0.0023085239694437347,
          "sourceID": 16777223,
          "sourceName": "bs_19",
          "x_emittance": 44.994374753517675,
          "x_norm_emittance": 0.10387086938762326,
          "y_emittance": 45.81533844894463,
          "y_norm_emittance": 0.10576608880664645
         },
         {
          "beamsize": 22,
          "losses": 69,
          "relbeta": 0.0023085245894953056,
          "sourceID": 16777224,
          "sourceName": "bs_22",
          "x_emittance": 78.56089047887502,
          "x_norm_emittance": 0.1813602307040238,
          "y_emittance": 86.32708204416953,
          "y_norm_emittance": 0.1992887226723295
         },
         {
          "beamsize": 25,
          "losses": 126,
          "relbeta": 0.002308522912069395,
          "sourceID": 16777225,
          "sourceName": "bs_25",
          "x_emittance": 89.03283983791869,
          "x_norm_emittance": 0.2055348983694795,
          "y_emittance": 116.9397934963939,
          "y_norm_emittance": 0.26995891196309735
         },
         {
          "beamsize": 28,
          "losses": 167,
          "relbeta": 0.002308523281376372,
          "sourceID": 16777226,
          "sourceName": "bs_28",
          "x_emittance": 107.50954776818645,
          "x_norm_emittance": 0.24818895532817048,
          "y_emittance": 128.0353933998811,
          "y_norm_emittance": 0.29557347410172125
         },
         {
          "beamsize": 31,
          "losses": 219,
          "relbeta": 0.0023085221445613433,
          "sourceID": 16777227,
          "sourceName": "bs_31",
          "x_emittance": 150.18174285441313,
          "x_norm_emittance": 0.3466988029160042,
          "y_emittance": 221.02502471017633,
          "y_norm_emittance": 0.5102425236587046
         }
        ]
       },
       "encoding": {
        "x": {
         "field": "beamsize",
         "type": "quantitative"
        },
        "y": {
         "field": "x_norm_emittance",
         "type": "quantitative"
        }
       },
       "mark": "line"
      },
      "text/plain": [
       "<altair.VegaLite object>"
      ]
     },
     "execution_count": 24,
     "metadata": {},
     "output_type": "execute_result"
    }
   ],
   "source": [
    "alt.Chart(emit_df).mark_line().encode(\n",
    "    x='beamsize',\n",
    "    y='x_norm_emittance',\n",
    ")"
   ]
  },
  {
   "cell_type": "code",
   "execution_count": 25,
   "metadata": {},
   "outputs": [
    {
     "data": {
      "application/vnd.vegalite.v1+json": {
       "$schema": "https://vega.github.io/schema/vega-lite/v1.2.1.json",
       "data": {
        "values": [
         {
          "beamsize": 1,
          "losses": 0,
          "relbeta": 0.002308525583508902,
          "sourceID": 16777217,
          "sourceName": "bs_1",
          "x_emittance": 0.003293678222492772,
          "x_norm_emittance": 7.603560701289093e-06,
          "y_emittance": 5.259247456491705e-05,
          "y_norm_emittance": 1.2141139655187644e-07
         },
         {
          "beamsize": 4,
          "losses": 0,
          "relbeta": 0.002308524913725255,
          "sourceID": 16777218,
          "sourceName": "bs_4",
          "x_emittance": 0.1084257777301102,
          "x_norm_emittance": 0.0002503042761525821,
          "y_emittance": 0.007248143517258955,
          "y_norm_emittance": 1.6732564474229384e-05
         },
         {
          "beamsize": 7,
          "losses": 0,
          "relbeta": 0.002308524661301762,
          "sourceID": 16777219,
          "sourceName": "bs_7",
          "x_emittance": 0.6607823029180105,
          "x_norm_emittance": 0.0015254363067866762,
          "y_emittance": 0.056930878304270405,
          "y_norm_emittance": 0.0001314266867606525
         },
         {
          "beamsize": 10,
          "losses": 0,
          "relbeta": 0.0023085244526516433,
          "sourceID": 16777220,
          "sourceName": "bs_10",
          "x_emittance": 2.092300892944939,
          "x_norm_emittance": 0.004830140644283808,
          "y_emittance": 1.0049626855292524,
          "y_norm_emittance": 0.002319987115491419
         },
         {
          "beamsize": 13,
          "losses": 2,
          "relbeta": 0.002308523250892023,
          "sourceID": 16777221,
          "sourceName": "bs_13",
          "x_emittance": 6.010637126741545,
          "x_norm_emittance": 0.013875732533636106,
          "y_emittance": 2.339255672913791,
          "y_norm_emittance": 0.005400240500417491
         },
         {
          "beamsize": 16,
          "losses": 13,
          "relbeta": 0.0023085236607838493,
          "sourceID": 16777222,
          "sourceName": "bs_16",
          "x_emittance": 21.336979396314167,
          "x_norm_emittance": 0.04925705303857418,
          "y_emittance": 15.21561072319281,
          "y_norm_emittance": 0.03512569096523915
         },
         {
          "beamsize": 19,
          "losses": 34,
          "relbeta": 0.0023085239694437347,
          "sourceID": 16777223,
          "sourceName": "bs_19",
          "x_emittance": 44.994374753517675,
          "x_norm_emittance": 0.10387086938762326,
          "y_emittance": 45.81533844894463,
          "y_norm_emittance": 0.10576608880664645
         },
         {
          "beamsize": 22,
          "losses": 69,
          "relbeta": 0.0023085245894953056,
          "sourceID": 16777224,
          "sourceName": "bs_22",
          "x_emittance": 78.56089047887502,
          "x_norm_emittance": 0.1813602307040238,
          "y_emittance": 86.32708204416953,
          "y_norm_emittance": 0.1992887226723295
         },
         {
          "beamsize": 25,
          "losses": 126,
          "relbeta": 0.002308522912069395,
          "sourceID": 16777225,
          "sourceName": "bs_25",
          "x_emittance": 89.03283983791869,
          "x_norm_emittance": 0.2055348983694795,
          "y_emittance": 116.9397934963939,
          "y_norm_emittance": 0.26995891196309735
         },
         {
          "beamsize": 28,
          "losses": 167,
          "relbeta": 0.002308523281376372,
          "sourceID": 16777226,
          "sourceName": "bs_28",
          "x_emittance": 107.50954776818645,
          "x_norm_emittance": 0.24818895532817048,
          "y_emittance": 128.0353933998811,
          "y_norm_emittance": 0.29557347410172125
         },
         {
          "beamsize": 31,
          "losses": 219,
          "relbeta": 0.0023085221445613433,
          "sourceID": 16777227,
          "sourceName": "bs_31",
          "x_emittance": 150.18174285441313,
          "x_norm_emittance": 0.3466988029160042,
          "y_emittance": 221.02502471017633,
          "y_norm_emittance": 0.5102425236587046
         }
        ]
       },
       "encoding": {
        "x": {
         "field": "beamsize",
         "type": "quantitative"
        },
        "y": {
         "field": "y_norm_emittance",
         "type": "quantitative"
        }
       },
       "mark": "line"
      },
      "text/plain": [
       "<altair.VegaLite object>"
      ]
     },
     "execution_count": 25,
     "metadata": {},
     "output_type": "execute_result"
    }
   ],
   "source": [
    "alt.Chart(emit_df).mark_line().encode(\n",
    "    x='beamsize',\n",
    "    y='y_norm_emittance',\n",
    ")"
   ]
  },
  {
   "cell_type": "code",
   "execution_count": 26,
   "metadata": {},
   "outputs": [
    {
     "data": {
      "application/vnd.vegalite.v1+json": {
       "$schema": "https://vega.github.io/schema/vega-lite/v1.2.1.json",
       "data": {
        "values": [
         {
          "beamsize": 1,
          "losses": 0,
          "relbeta": 0.002308525583508902,
          "sourceID": 16777217,
          "sourceName": "bs_1",
          "x_emittance": 0.003293678222492772,
          "x_norm_emittance": 7.603560701289093e-06,
          "y_emittance": 5.259247456491705e-05,
          "y_norm_emittance": 1.2141139655187644e-07
         },
         {
          "beamsize": 4,
          "losses": 0,
          "relbeta": 0.002308524913725255,
          "sourceID": 16777218,
          "sourceName": "bs_4",
          "x_emittance": 0.1084257777301102,
          "x_norm_emittance": 0.0002503042761525821,
          "y_emittance": 0.007248143517258955,
          "y_norm_emittance": 1.6732564474229384e-05
         },
         {
          "beamsize": 7,
          "losses": 0,
          "relbeta": 0.002308524661301762,
          "sourceID": 16777219,
          "sourceName": "bs_7",
          "x_emittance": 0.6607823029180105,
          "x_norm_emittance": 0.0015254363067866762,
          "y_emittance": 0.056930878304270405,
          "y_norm_emittance": 0.0001314266867606525
         },
         {
          "beamsize": 10,
          "losses": 0,
          "relbeta": 0.0023085244526516433,
          "sourceID": 16777220,
          "sourceName": "bs_10",
          "x_emittance": 2.092300892944939,
          "x_norm_emittance": 0.004830140644283808,
          "y_emittance": 1.0049626855292524,
          "y_norm_emittance": 0.002319987115491419
         },
         {
          "beamsize": 13,
          "losses": 2,
          "relbeta": 0.002308523250892023,
          "sourceID": 16777221,
          "sourceName": "bs_13",
          "x_emittance": 6.010637126741545,
          "x_norm_emittance": 0.013875732533636106,
          "y_emittance": 2.339255672913791,
          "y_norm_emittance": 0.005400240500417491
         },
         {
          "beamsize": 16,
          "losses": 13,
          "relbeta": 0.0023085236607838493,
          "sourceID": 16777222,
          "sourceName": "bs_16",
          "x_emittance": 21.336979396314167,
          "x_norm_emittance": 0.04925705303857418,
          "y_emittance": 15.21561072319281,
          "y_norm_emittance": 0.03512569096523915
         },
         {
          "beamsize": 19,
          "losses": 34,
          "relbeta": 0.0023085239694437347,
          "sourceID": 16777223,
          "sourceName": "bs_19",
          "x_emittance": 44.994374753517675,
          "x_norm_emittance": 0.10387086938762326,
          "y_emittance": 45.81533844894463,
          "y_norm_emittance": 0.10576608880664645
         },
         {
          "beamsize": 22,
          "losses": 69,
          "relbeta": 0.0023085245894953056,
          "sourceID": 16777224,
          "sourceName": "bs_22",
          "x_emittance": 78.56089047887502,
          "x_norm_emittance": 0.1813602307040238,
          "y_emittance": 86.32708204416953,
          "y_norm_emittance": 0.1992887226723295
         },
         {
          "beamsize": 25,
          "losses": 126,
          "relbeta": 0.002308522912069395,
          "sourceID": 16777225,
          "sourceName": "bs_25",
          "x_emittance": 89.03283983791869,
          "x_norm_emittance": 0.2055348983694795,
          "y_emittance": 116.9397934963939,
          "y_norm_emittance": 0.26995891196309735
         },
         {
          "beamsize": 28,
          "losses": 167,
          "relbeta": 0.002308523281376372,
          "sourceID": 16777226,
          "sourceName": "bs_28",
          "x_emittance": 107.50954776818645,
          "x_norm_emittance": 0.24818895532817048,
          "y_emittance": 128.0353933998811,
          "y_norm_emittance": 0.29557347410172125
         },
         {
          "beamsize": 31,
          "losses": 219,
          "relbeta": 0.0023085221445613433,
          "sourceID": 16777227,
          "sourceName": "bs_31",
          "x_emittance": 150.18174285441313,
          "x_norm_emittance": 0.3466988029160042,
          "y_emittance": 221.02502471017633,
          "y_norm_emittance": 0.5102425236587046
         }
        ]
       },
       "encoding": {
        "x": {
         "field": "beamsize",
         "type": "quantitative"
        },
        "y": {
         "field": "losses",
         "type": "quantitative"
        }
       },
       "mark": "line"
      },
      "text/plain": [
       "<altair.VegaLite object>"
      ]
     },
     "execution_count": 26,
     "metadata": {},
     "output_type": "execute_result"
    }
   ],
   "source": [
    "alt.Chart(emit_df).mark_line().encode(\n",
    "    x='beamsize',\n",
    "    y='losses',\n",
    ")"
   ]
  },
  {
   "cell_type": "code",
   "execution_count": null,
   "metadata": {},
   "outputs": [],
   "source": []
  },
  {
   "cell_type": "code",
   "execution_count": null,
   "metadata": {},
   "outputs": [],
   "source": []
  }
 ],
 "metadata": {
  "kernelspec": {
   "display_name": "Python 3",
   "language": "python",
   "name": "python3"
  },
  "language_info": {
   "codemirror_mode": {
    "name": "ipython",
    "version": 3
   },
   "file_extension": ".py",
   "mimetype": "text/x-python",
   "name": "python",
   "nbconvert_exporter": "python",
   "pygments_lexer": "ipython3",
   "version": "3.6.3"
  }
 },
 "nbformat": 4,
 "nbformat_minor": 2
}
